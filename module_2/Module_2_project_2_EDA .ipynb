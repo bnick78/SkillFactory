{
 "cells": [
  {
   "cell_type": "markdown",
   "id": "e60b7582-aa94-47d9-9a15-611c65e0ccca",
   "metadata": {},
   "source": [
    "# Проект \"Прогнозирование успеваемости детей по математике\"\n",
    "\n",
    "__Суть проекта__ — отследить влияние условий жизни учащихся в возрасте от 15 до 22 лет на их успеваемость по математике, \n",
    "чтобы на ранней стадии выявлять студентов, находящихся в группе риска.\n"
   ]
  },
  {
   "cell_type": "code",
   "execution_count": 68,
   "id": "92e4ce75-cd13-4dbc-b2fe-c046934d96b3",
   "metadata": {},
   "outputs": [],
   "source": [
    "# Импортируем нужные библиотеки\n",
    "\n",
    "from itertools import combinations\n",
    "\n",
    "import matplotlib.pyplot as plt\n",
    "import pandas as pd\n",
    "import seaborn as sns\n",
    "from scipy.stats import ttest_ind\n",
    "\n",
    "pd.set_option(\"display.max_rows\", 100)  # показывать больше строк\n",
    "pd.set_option(\"display.max_columns\", 50)  # показывать больше колонок"
   ]
  },
  {
   "cell_type": "code",
   "execution_count": 69,
   "id": "943ed3b6-dc17-4673-b29e-8ba0b0e2dd00",
   "metadata": {
    "tags": []
   },
   "outputs": [],
   "source": [
    "# предобработка\n",
    "\n",
    "\n",
    "\"\"\"Рисование boxplot-ов\"\"\"\n",
    "def get_boxplot(dframe, column):\n",
    "    fig, ax = plt.subplots(figsize=(14, 4))\n",
    "    sns.boxplot(x=column, y=\"score\", data=dframe, ax=ax)\n",
    "    plt.xticks(rotation=45)\n",
    "    ax.set_title(\"Boxplot для столбца \" + column)\n",
    "    plt.show()\n",
    "\n",
    "\n",
    "\"\"\"Удаление выбросов\"\"\"\n",
    "def outliers_delete(column, category):\n",
    "    perc25 = stud[stud[column] == category].score.quantile(0.25)\n",
    "    perc75 = stud[stud[column] == category].score.quantile(0.75)\n",
    "    IQR = perc75 - perc25\n",
    "    stud[stud[column] == category] = stud[\n",
    "        (stud[column] == category)\n",
    "        & stud.score.between(perc25 - 1.5 * IQR, perc75 + 1.5 * IQR)\n",
    "    ]\n",
    "\n",
    "\n",
    "\"\"\"Набор функций для оценки столбца: просмотр значений, количество NULL, построение диаграммы boxplot\"\"\"\n",
    "def gentleman_func_set(column):\n",
    "    print(\"Количество уникальных значений:\", stud[column].nunique())\n",
    "    print(\"Количество пустых значений:\", stud[column].isnull().sum())\n",
    "    print(stud[column].value_counts())\n",
    "    get_boxplot(stud, column)\n",
    "\n",
    "\n",
    "\"\"\"Расчет статистически значимых различий значений в столбце score для разных значений в выбранной колонке\"\"\"\n",
    "def get_stat_dif(column):\n",
    "    cols = stud.loc[:, column].value_counts().index[:20]\n",
    "    combinations_all = list(combinations(cols, 2))\n",
    "    for comb in combinations_all:\n",
    "        # если хотя бы для одной комбинации значений в выбранной колонке Тест Стьюдента говорит о том, что средние значения оценок различаются,\n",
    "        # то мы делаем вывод, что этот столбец можно использовать для модели\n",
    "        if ttest_ind(\n",
    "            stud.loc[stud.loc[:, column] == comb[0], \"score\"],\n",
    "            stud.loc[stud.loc[:, column] == comb[1], \"score\"],\n",
    "        ).pvalue <= 0.05 / len(\n",
    "            combinations_all\n",
    "        ):  # Учли поправку Бонферони. Для снижения шанса отклонить неверные гипотезы.\n",
    "            print(\"Найдены статистически значимые различия для колонки\", column)\n",
    "            break"
   ]
  },
  {
   "cell_type": "code",
   "execution_count": 70,
   "id": "5f42226a-f055-4bcc-b9f5-3294d1a30457",
   "metadata": {},
   "outputs": [
    {
     "data": {
      "text/html": [
       "<div>\n",
       "<style scoped>\n",
       "    .dataframe tbody tr th:only-of-type {\n",
       "        vertical-align: middle;\n",
       "    }\n",
       "\n",
       "    .dataframe tbody tr th {\n",
       "        vertical-align: top;\n",
       "    }\n",
       "\n",
       "    .dataframe thead th {\n",
       "        text-align: right;\n",
       "    }\n",
       "</style>\n",
       "<table border=\"1\" class=\"dataframe\">\n",
       "  <thead>\n",
       "    <tr style=\"text-align: right;\">\n",
       "      <th></th>\n",
       "      <th>school</th>\n",
       "      <th>sex</th>\n",
       "      <th>age</th>\n",
       "      <th>address</th>\n",
       "      <th>famsize</th>\n",
       "      <th>Pstatus</th>\n",
       "      <th>Medu</th>\n",
       "      <th>Fedu</th>\n",
       "      <th>Mjob</th>\n",
       "      <th>Fjob</th>\n",
       "      <th>reason</th>\n",
       "      <th>guardian</th>\n",
       "      <th>traveltime</th>\n",
       "      <th>studytime</th>\n",
       "      <th>failures</th>\n",
       "      <th>schoolsup</th>\n",
       "      <th>famsup</th>\n",
       "      <th>paid</th>\n",
       "      <th>activities</th>\n",
       "      <th>nursery</th>\n",
       "      <th>studytime, granular</th>\n",
       "      <th>higher</th>\n",
       "      <th>internet</th>\n",
       "      <th>romantic</th>\n",
       "      <th>famrel</th>\n",
       "      <th>freetime</th>\n",
       "      <th>goout</th>\n",
       "      <th>health</th>\n",
       "      <th>absences</th>\n",
       "      <th>score</th>\n",
       "    </tr>\n",
       "  </thead>\n",
       "  <tbody>\n",
       "    <tr>\n",
       "      <th>0</th>\n",
       "      <td>GP</td>\n",
       "      <td>F</td>\n",
       "      <td>18</td>\n",
       "      <td>U</td>\n",
       "      <td>NaN</td>\n",
       "      <td>A</td>\n",
       "      <td>4.0</td>\n",
       "      <td>4.0</td>\n",
       "      <td>at_home</td>\n",
       "      <td>teacher</td>\n",
       "      <td>course</td>\n",
       "      <td>mother</td>\n",
       "      <td>2.0</td>\n",
       "      <td>2.0</td>\n",
       "      <td>0.0</td>\n",
       "      <td>yes</td>\n",
       "      <td>no</td>\n",
       "      <td>no</td>\n",
       "      <td>no</td>\n",
       "      <td>yes</td>\n",
       "      <td>-6.0</td>\n",
       "      <td>yes</td>\n",
       "      <td>NaN</td>\n",
       "      <td>no</td>\n",
       "      <td>4.0</td>\n",
       "      <td>3.0</td>\n",
       "      <td>4.0</td>\n",
       "      <td>3.0</td>\n",
       "      <td>6.0</td>\n",
       "      <td>30.0</td>\n",
       "    </tr>\n",
       "    <tr>\n",
       "      <th>1</th>\n",
       "      <td>GP</td>\n",
       "      <td>F</td>\n",
       "      <td>17</td>\n",
       "      <td>U</td>\n",
       "      <td>GT3</td>\n",
       "      <td>NaN</td>\n",
       "      <td>1.0</td>\n",
       "      <td>1.0</td>\n",
       "      <td>at_home</td>\n",
       "      <td>other</td>\n",
       "      <td>course</td>\n",
       "      <td>father</td>\n",
       "      <td>1.0</td>\n",
       "      <td>2.0</td>\n",
       "      <td>0.0</td>\n",
       "      <td>no</td>\n",
       "      <td>yes</td>\n",
       "      <td>no</td>\n",
       "      <td>no</td>\n",
       "      <td>no</td>\n",
       "      <td>-6.0</td>\n",
       "      <td>yes</td>\n",
       "      <td>yes</td>\n",
       "      <td>no</td>\n",
       "      <td>5.0</td>\n",
       "      <td>3.0</td>\n",
       "      <td>3.0</td>\n",
       "      <td>3.0</td>\n",
       "      <td>4.0</td>\n",
       "      <td>30.0</td>\n",
       "    </tr>\n",
       "    <tr>\n",
       "      <th>2</th>\n",
       "      <td>GP</td>\n",
       "      <td>F</td>\n",
       "      <td>15</td>\n",
       "      <td>U</td>\n",
       "      <td>LE3</td>\n",
       "      <td>T</td>\n",
       "      <td>1.0</td>\n",
       "      <td>1.0</td>\n",
       "      <td>at_home</td>\n",
       "      <td>other</td>\n",
       "      <td>other</td>\n",
       "      <td>mother</td>\n",
       "      <td>1.0</td>\n",
       "      <td>2.0</td>\n",
       "      <td>3.0</td>\n",
       "      <td>yes</td>\n",
       "      <td>no</td>\n",
       "      <td>NaN</td>\n",
       "      <td>no</td>\n",
       "      <td>yes</td>\n",
       "      <td>-6.0</td>\n",
       "      <td>yes</td>\n",
       "      <td>yes</td>\n",
       "      <td>NaN</td>\n",
       "      <td>4.0</td>\n",
       "      <td>3.0</td>\n",
       "      <td>2.0</td>\n",
       "      <td>3.0</td>\n",
       "      <td>10.0</td>\n",
       "      <td>50.0</td>\n",
       "    </tr>\n",
       "    <tr>\n",
       "      <th>3</th>\n",
       "      <td>GP</td>\n",
       "      <td>F</td>\n",
       "      <td>15</td>\n",
       "      <td>U</td>\n",
       "      <td>GT3</td>\n",
       "      <td>T</td>\n",
       "      <td>4.0</td>\n",
       "      <td>2.0</td>\n",
       "      <td>health</td>\n",
       "      <td>NaN</td>\n",
       "      <td>home</td>\n",
       "      <td>mother</td>\n",
       "      <td>1.0</td>\n",
       "      <td>3.0</td>\n",
       "      <td>0.0</td>\n",
       "      <td>no</td>\n",
       "      <td>yes</td>\n",
       "      <td>yes</td>\n",
       "      <td>yes</td>\n",
       "      <td>yes</td>\n",
       "      <td>-9.0</td>\n",
       "      <td>yes</td>\n",
       "      <td>yes</td>\n",
       "      <td>yes</td>\n",
       "      <td>3.0</td>\n",
       "      <td>2.0</td>\n",
       "      <td>2.0</td>\n",
       "      <td>5.0</td>\n",
       "      <td>2.0</td>\n",
       "      <td>75.0</td>\n",
       "    </tr>\n",
       "    <tr>\n",
       "      <th>4</th>\n",
       "      <td>GP</td>\n",
       "      <td>F</td>\n",
       "      <td>16</td>\n",
       "      <td>U</td>\n",
       "      <td>GT3</td>\n",
       "      <td>T</td>\n",
       "      <td>3.0</td>\n",
       "      <td>3.0</td>\n",
       "      <td>other</td>\n",
       "      <td>other</td>\n",
       "      <td>home</td>\n",
       "      <td>father</td>\n",
       "      <td>1.0</td>\n",
       "      <td>2.0</td>\n",
       "      <td>0.0</td>\n",
       "      <td>no</td>\n",
       "      <td>yes</td>\n",
       "      <td>yes</td>\n",
       "      <td>no</td>\n",
       "      <td>yes</td>\n",
       "      <td>-6.0</td>\n",
       "      <td>yes</td>\n",
       "      <td>no</td>\n",
       "      <td>no</td>\n",
       "      <td>4.0</td>\n",
       "      <td>3.0</td>\n",
       "      <td>2.0</td>\n",
       "      <td>5.0</td>\n",
       "      <td>4.0</td>\n",
       "      <td>50.0</td>\n",
       "    </tr>\n",
       "    <tr>\n",
       "      <th>5</th>\n",
       "      <td>GP</td>\n",
       "      <td>M</td>\n",
       "      <td>16</td>\n",
       "      <td>U</td>\n",
       "      <td>LE3</td>\n",
       "      <td>T</td>\n",
       "      <td>4.0</td>\n",
       "      <td>3.0</td>\n",
       "      <td>services</td>\n",
       "      <td>other</td>\n",
       "      <td>reputation</td>\n",
       "      <td>mother</td>\n",
       "      <td>1.0</td>\n",
       "      <td>2.0</td>\n",
       "      <td>0.0</td>\n",
       "      <td>no</td>\n",
       "      <td>yes</td>\n",
       "      <td>yes</td>\n",
       "      <td>yes</td>\n",
       "      <td>yes</td>\n",
       "      <td>-6.0</td>\n",
       "      <td>yes</td>\n",
       "      <td>yes</td>\n",
       "      <td>no</td>\n",
       "      <td>5.0</td>\n",
       "      <td>4.0</td>\n",
       "      <td>2.0</td>\n",
       "      <td>5.0</td>\n",
       "      <td>10.0</td>\n",
       "      <td>75.0</td>\n",
       "    </tr>\n",
       "    <tr>\n",
       "      <th>6</th>\n",
       "      <td>GP</td>\n",
       "      <td>M</td>\n",
       "      <td>16</td>\n",
       "      <td>NaN</td>\n",
       "      <td>LE3</td>\n",
       "      <td>T</td>\n",
       "      <td>2.0</td>\n",
       "      <td>2.0</td>\n",
       "      <td>other</td>\n",
       "      <td>other</td>\n",
       "      <td>home</td>\n",
       "      <td>mother</td>\n",
       "      <td>1.0</td>\n",
       "      <td>2.0</td>\n",
       "      <td>0.0</td>\n",
       "      <td>no</td>\n",
       "      <td>no</td>\n",
       "      <td>no</td>\n",
       "      <td>no</td>\n",
       "      <td>yes</td>\n",
       "      <td>-6.0</td>\n",
       "      <td>yes</td>\n",
       "      <td>yes</td>\n",
       "      <td>no</td>\n",
       "      <td>4.0</td>\n",
       "      <td>4.0</td>\n",
       "      <td>4.0</td>\n",
       "      <td>3.0</td>\n",
       "      <td>0.0</td>\n",
       "      <td>55.0</td>\n",
       "    </tr>\n",
       "    <tr>\n",
       "      <th>7</th>\n",
       "      <td>GP</td>\n",
       "      <td>F</td>\n",
       "      <td>17</td>\n",
       "      <td>U</td>\n",
       "      <td>GT3</td>\n",
       "      <td>A</td>\n",
       "      <td>4.0</td>\n",
       "      <td>4.0</td>\n",
       "      <td>other</td>\n",
       "      <td>teacher</td>\n",
       "      <td>home</td>\n",
       "      <td>mother</td>\n",
       "      <td>2.0</td>\n",
       "      <td>2.0</td>\n",
       "      <td>0.0</td>\n",
       "      <td>yes</td>\n",
       "      <td>yes</td>\n",
       "      <td>no</td>\n",
       "      <td>no</td>\n",
       "      <td>yes</td>\n",
       "      <td>-6.0</td>\n",
       "      <td>yes</td>\n",
       "      <td>no</td>\n",
       "      <td>no</td>\n",
       "      <td>4.0</td>\n",
       "      <td>1.0</td>\n",
       "      <td>4.0</td>\n",
       "      <td>1.0</td>\n",
       "      <td>6.0</td>\n",
       "      <td>30.0</td>\n",
       "    </tr>\n",
       "    <tr>\n",
       "      <th>8</th>\n",
       "      <td>GP</td>\n",
       "      <td>M</td>\n",
       "      <td>15</td>\n",
       "      <td>U</td>\n",
       "      <td>LE3</td>\n",
       "      <td>A</td>\n",
       "      <td>3.0</td>\n",
       "      <td>2.0</td>\n",
       "      <td>services</td>\n",
       "      <td>other</td>\n",
       "      <td>home</td>\n",
       "      <td>mother</td>\n",
       "      <td>1.0</td>\n",
       "      <td>2.0</td>\n",
       "      <td>0.0</td>\n",
       "      <td>no</td>\n",
       "      <td>yes</td>\n",
       "      <td>yes</td>\n",
       "      <td>no</td>\n",
       "      <td>yes</td>\n",
       "      <td>-6.0</td>\n",
       "      <td>yes</td>\n",
       "      <td>yes</td>\n",
       "      <td>no</td>\n",
       "      <td>NaN</td>\n",
       "      <td>2.0</td>\n",
       "      <td>2.0</td>\n",
       "      <td>1.0</td>\n",
       "      <td>0.0</td>\n",
       "      <td>95.0</td>\n",
       "    </tr>\n",
       "    <tr>\n",
       "      <th>9</th>\n",
       "      <td>GP</td>\n",
       "      <td>M</td>\n",
       "      <td>15</td>\n",
       "      <td>U</td>\n",
       "      <td>NaN</td>\n",
       "      <td>NaN</td>\n",
       "      <td>3.0</td>\n",
       "      <td>4.0</td>\n",
       "      <td>other</td>\n",
       "      <td>other</td>\n",
       "      <td>home</td>\n",
       "      <td>mother</td>\n",
       "      <td>1.0</td>\n",
       "      <td>2.0</td>\n",
       "      <td>0.0</td>\n",
       "      <td>no</td>\n",
       "      <td>yes</td>\n",
       "      <td>yes</td>\n",
       "      <td>yes</td>\n",
       "      <td>yes</td>\n",
       "      <td>-6.0</td>\n",
       "      <td>yes</td>\n",
       "      <td>yes</td>\n",
       "      <td>no</td>\n",
       "      <td>5.0</td>\n",
       "      <td>5.0</td>\n",
       "      <td>1.0</td>\n",
       "      <td>5.0</td>\n",
       "      <td>0.0</td>\n",
       "      <td>75.0</td>\n",
       "    </tr>\n",
       "  </tbody>\n",
       "</table>\n",
       "</div>"
      ],
      "text/plain": [
       "  school sex  age address famsize Pstatus  Medu  Fedu      Mjob     Fjob  \\\n",
       "0     GP   F   18       U     NaN       A   4.0   4.0   at_home  teacher   \n",
       "1     GP   F   17       U     GT3     NaN   1.0   1.0   at_home    other   \n",
       "2     GP   F   15       U     LE3       T   1.0   1.0   at_home    other   \n",
       "3     GP   F   15       U     GT3       T   4.0   2.0    health      NaN   \n",
       "4     GP   F   16       U     GT3       T   3.0   3.0     other    other   \n",
       "5     GP   M   16       U     LE3       T   4.0   3.0  services    other   \n",
       "6     GP   M   16     NaN     LE3       T   2.0   2.0     other    other   \n",
       "7     GP   F   17       U     GT3       A   4.0   4.0     other  teacher   \n",
       "8     GP   M   15       U     LE3       A   3.0   2.0  services    other   \n",
       "9     GP   M   15       U     NaN     NaN   3.0   4.0     other    other   \n",
       "\n",
       "       reason guardian  traveltime  studytime  failures schoolsup famsup paid  \\\n",
       "0      course   mother         2.0        2.0       0.0       yes     no   no   \n",
       "1      course   father         1.0        2.0       0.0        no    yes   no   \n",
       "2       other   mother         1.0        2.0       3.0       yes     no  NaN   \n",
       "3        home   mother         1.0        3.0       0.0        no    yes  yes   \n",
       "4        home   father         1.0        2.0       0.0        no    yes  yes   \n",
       "5  reputation   mother         1.0        2.0       0.0        no    yes  yes   \n",
       "6        home   mother         1.0        2.0       0.0        no     no   no   \n",
       "7        home   mother         2.0        2.0       0.0       yes    yes   no   \n",
       "8        home   mother         1.0        2.0       0.0        no    yes  yes   \n",
       "9        home   mother         1.0        2.0       0.0        no    yes  yes   \n",
       "\n",
       "  activities nursery  studytime, granular higher internet romantic  famrel  \\\n",
       "0         no     yes                 -6.0    yes      NaN       no     4.0   \n",
       "1         no      no                 -6.0    yes      yes       no     5.0   \n",
       "2         no     yes                 -6.0    yes      yes      NaN     4.0   \n",
       "3        yes     yes                 -9.0    yes      yes      yes     3.0   \n",
       "4         no     yes                 -6.0    yes       no       no     4.0   \n",
       "5        yes     yes                 -6.0    yes      yes       no     5.0   \n",
       "6         no     yes                 -6.0    yes      yes       no     4.0   \n",
       "7         no     yes                 -6.0    yes       no       no     4.0   \n",
       "8         no     yes                 -6.0    yes      yes       no     NaN   \n",
       "9        yes     yes                 -6.0    yes      yes       no     5.0   \n",
       "\n",
       "   freetime  goout  health  absences  score  \n",
       "0       3.0    4.0     3.0       6.0   30.0  \n",
       "1       3.0    3.0     3.0       4.0   30.0  \n",
       "2       3.0    2.0     3.0      10.0   50.0  \n",
       "3       2.0    2.0     5.0       2.0   75.0  \n",
       "4       3.0    2.0     5.0       4.0   50.0  \n",
       "5       4.0    2.0     5.0      10.0   75.0  \n",
       "6       4.0    4.0     3.0       0.0   55.0  \n",
       "7       1.0    4.0     1.0       6.0   30.0  \n",
       "8       2.0    2.0     1.0       0.0   95.0  \n",
       "9       5.0    1.0     5.0       0.0   75.0  "
      ]
     },
     "metadata": {},
     "output_type": "display_data"
    },
    {
     "name": "stdout",
     "output_type": "stream",
     "text": [
      "<class 'pandas.core.frame.DataFrame'>\n",
      "RangeIndex: 395 entries, 0 to 394\n",
      "Data columns (total 30 columns):\n",
      " #   Column               Non-Null Count  Dtype  \n",
      "---  ------               --------------  -----  \n",
      " 0   school               395 non-null    object \n",
      " 1   sex                  395 non-null    object \n",
      " 2   age                  395 non-null    int64  \n",
      " 3   address              378 non-null    object \n",
      " 4   famsize              368 non-null    object \n",
      " 5   Pstatus              350 non-null    object \n",
      " 6   Medu                 392 non-null    float64\n",
      " 7   Fedu                 371 non-null    float64\n",
      " 8   Mjob                 376 non-null    object \n",
      " 9   Fjob                 359 non-null    object \n",
      " 10  reason               378 non-null    object \n",
      " 11  guardian             364 non-null    object \n",
      " 12  traveltime           367 non-null    float64\n",
      " 13  studytime            388 non-null    float64\n",
      " 14  failures             373 non-null    float64\n",
      " 15  schoolsup            386 non-null    object \n",
      " 16  famsup               356 non-null    object \n",
      " 17  paid                 355 non-null    object \n",
      " 18  activities           381 non-null    object \n",
      " 19  nursery              379 non-null    object \n",
      " 20  studytime, granular  388 non-null    float64\n",
      " 21  higher               375 non-null    object \n",
      " 22  internet             361 non-null    object \n",
      " 23  romantic             364 non-null    object \n",
      " 24  famrel               368 non-null    float64\n",
      " 25  freetime             384 non-null    float64\n",
      " 26  goout                387 non-null    float64\n",
      " 27  health               380 non-null    float64\n",
      " 28  absences             383 non-null    float64\n",
      " 29  score                389 non-null    float64\n",
      "dtypes: float64(12), int64(1), object(17)\n",
      "memory usage: 92.7+ KB\n"
     ]
    }
   ],
   "source": [
    "# открываем файл\n",
    "\n",
    "stud = pd.read_csv(\"stud_math.csv\")\n",
    "display(stud.head(10))\n",
    "stud.info()"
   ]
  },
  {
   "cell_type": "markdown",
   "id": "3f750684-5a73-45c4-93fe-51ac192cf2b9",
   "metadata": {},
   "source": [
    "************************************************\n",
    "\n",
    "## Первые выводы по таблице-источнику данных:\n",
    "1. Во многих столбцах есть NaN (null) значения. Нужно будет решить, что с ними делать - удалять или заполнять.\n",
    "2. Всего в таблице 395 строк.\n",
    "3. Есть непонятный столбец \"studytime, granular\". Он не описан в описании полей в задании на проект."
   ]
  },
  {
   "cell_type": "markdown",
   "id": "2405f2ae-5292-4c04-a1d2-9baac0309060",
   "metadata": {},
   "source": [
    "***\n",
    "# Первичная обработка данных"
   ]
  },
  {
   "cell_type": "code",
   "execution_count": 71,
   "id": "34bbf88a-73ad-4a3e-a11f-4535d939fcc7",
   "metadata": {},
   "outputs": [
    {
     "data": {
      "text/html": [
       "<div>\n",
       "<style scoped>\n",
       "    .dataframe tbody tr th:only-of-type {\n",
       "        vertical-align: middle;\n",
       "    }\n",
       "\n",
       "    .dataframe tbody tr th {\n",
       "        vertical-align: top;\n",
       "    }\n",
       "\n",
       "    .dataframe thead th {\n",
       "        text-align: right;\n",
       "    }\n",
       "</style>\n",
       "<table border=\"1\" class=\"dataframe\">\n",
       "  <thead>\n",
       "    <tr style=\"text-align: right;\">\n",
       "      <th></th>\n",
       "      <th>school</th>\n",
       "      <th>sex</th>\n",
       "      <th>age</th>\n",
       "      <th>address</th>\n",
       "      <th>famsize</th>\n",
       "      <th>p_status</th>\n",
       "      <th>m_edu</th>\n",
       "      <th>f_edu</th>\n",
       "      <th>m_job</th>\n",
       "      <th>f_job</th>\n",
       "      <th>reason</th>\n",
       "      <th>guardian</th>\n",
       "      <th>traveltime</th>\n",
       "      <th>studytime</th>\n",
       "      <th>failures</th>\n",
       "      <th>schoolsup</th>\n",
       "      <th>famsup</th>\n",
       "      <th>paid</th>\n",
       "      <th>activities</th>\n",
       "      <th>nursery</th>\n",
       "      <th>studytime_g</th>\n",
       "      <th>higher</th>\n",
       "      <th>internet</th>\n",
       "      <th>romantic</th>\n",
       "      <th>famrel</th>\n",
       "      <th>freetime</th>\n",
       "      <th>goout</th>\n",
       "      <th>health</th>\n",
       "      <th>absences</th>\n",
       "      <th>score</th>\n",
       "    </tr>\n",
       "  </thead>\n",
       "  <tbody>\n",
       "    <tr>\n",
       "      <th>0</th>\n",
       "      <td>GP</td>\n",
       "      <td>F</td>\n",
       "      <td>18</td>\n",
       "      <td>U</td>\n",
       "      <td>NaN</td>\n",
       "      <td>A</td>\n",
       "      <td>4.0</td>\n",
       "      <td>4.0</td>\n",
       "      <td>at_home</td>\n",
       "      <td>teacher</td>\n",
       "      <td>course</td>\n",
       "      <td>mother</td>\n",
       "      <td>2.0</td>\n",
       "      <td>2.0</td>\n",
       "      <td>0.0</td>\n",
       "      <td>yes</td>\n",
       "      <td>no</td>\n",
       "      <td>no</td>\n",
       "      <td>no</td>\n",
       "      <td>yes</td>\n",
       "      <td>-6.0</td>\n",
       "      <td>yes</td>\n",
       "      <td>NaN</td>\n",
       "      <td>no</td>\n",
       "      <td>4.0</td>\n",
       "      <td>3.0</td>\n",
       "      <td>4.0</td>\n",
       "      <td>3.0</td>\n",
       "      <td>6.0</td>\n",
       "      <td>30.0</td>\n",
       "    </tr>\n",
       "    <tr>\n",
       "      <th>1</th>\n",
       "      <td>GP</td>\n",
       "      <td>F</td>\n",
       "      <td>17</td>\n",
       "      <td>U</td>\n",
       "      <td>GT3</td>\n",
       "      <td>NaN</td>\n",
       "      <td>1.0</td>\n",
       "      <td>1.0</td>\n",
       "      <td>at_home</td>\n",
       "      <td>other</td>\n",
       "      <td>course</td>\n",
       "      <td>father</td>\n",
       "      <td>1.0</td>\n",
       "      <td>2.0</td>\n",
       "      <td>0.0</td>\n",
       "      <td>no</td>\n",
       "      <td>yes</td>\n",
       "      <td>no</td>\n",
       "      <td>no</td>\n",
       "      <td>no</td>\n",
       "      <td>-6.0</td>\n",
       "      <td>yes</td>\n",
       "      <td>yes</td>\n",
       "      <td>no</td>\n",
       "      <td>5.0</td>\n",
       "      <td>3.0</td>\n",
       "      <td>3.0</td>\n",
       "      <td>3.0</td>\n",
       "      <td>4.0</td>\n",
       "      <td>30.0</td>\n",
       "    </tr>\n",
       "    <tr>\n",
       "      <th>2</th>\n",
       "      <td>GP</td>\n",
       "      <td>F</td>\n",
       "      <td>15</td>\n",
       "      <td>U</td>\n",
       "      <td>LE3</td>\n",
       "      <td>T</td>\n",
       "      <td>1.0</td>\n",
       "      <td>1.0</td>\n",
       "      <td>at_home</td>\n",
       "      <td>other</td>\n",
       "      <td>other</td>\n",
       "      <td>mother</td>\n",
       "      <td>1.0</td>\n",
       "      <td>2.0</td>\n",
       "      <td>3.0</td>\n",
       "      <td>yes</td>\n",
       "      <td>no</td>\n",
       "      <td>NaN</td>\n",
       "      <td>no</td>\n",
       "      <td>yes</td>\n",
       "      <td>-6.0</td>\n",
       "      <td>yes</td>\n",
       "      <td>yes</td>\n",
       "      <td>NaN</td>\n",
       "      <td>4.0</td>\n",
       "      <td>3.0</td>\n",
       "      <td>2.0</td>\n",
       "      <td>3.0</td>\n",
       "      <td>10.0</td>\n",
       "      <td>50.0</td>\n",
       "    </tr>\n",
       "    <tr>\n",
       "      <th>3</th>\n",
       "      <td>GP</td>\n",
       "      <td>F</td>\n",
       "      <td>15</td>\n",
       "      <td>U</td>\n",
       "      <td>GT3</td>\n",
       "      <td>T</td>\n",
       "      <td>4.0</td>\n",
       "      <td>2.0</td>\n",
       "      <td>health</td>\n",
       "      <td>NaN</td>\n",
       "      <td>home</td>\n",
       "      <td>mother</td>\n",
       "      <td>1.0</td>\n",
       "      <td>3.0</td>\n",
       "      <td>0.0</td>\n",
       "      <td>no</td>\n",
       "      <td>yes</td>\n",
       "      <td>yes</td>\n",
       "      <td>yes</td>\n",
       "      <td>yes</td>\n",
       "      <td>-9.0</td>\n",
       "      <td>yes</td>\n",
       "      <td>yes</td>\n",
       "      <td>yes</td>\n",
       "      <td>3.0</td>\n",
       "      <td>2.0</td>\n",
       "      <td>2.0</td>\n",
       "      <td>5.0</td>\n",
       "      <td>2.0</td>\n",
       "      <td>75.0</td>\n",
       "    </tr>\n",
       "    <tr>\n",
       "      <th>4</th>\n",
       "      <td>GP</td>\n",
       "      <td>F</td>\n",
       "      <td>16</td>\n",
       "      <td>U</td>\n",
       "      <td>GT3</td>\n",
       "      <td>T</td>\n",
       "      <td>3.0</td>\n",
       "      <td>3.0</td>\n",
       "      <td>other</td>\n",
       "      <td>other</td>\n",
       "      <td>home</td>\n",
       "      <td>father</td>\n",
       "      <td>1.0</td>\n",
       "      <td>2.0</td>\n",
       "      <td>0.0</td>\n",
       "      <td>no</td>\n",
       "      <td>yes</td>\n",
       "      <td>yes</td>\n",
       "      <td>no</td>\n",
       "      <td>yes</td>\n",
       "      <td>-6.0</td>\n",
       "      <td>yes</td>\n",
       "      <td>no</td>\n",
       "      <td>no</td>\n",
       "      <td>4.0</td>\n",
       "      <td>3.0</td>\n",
       "      <td>2.0</td>\n",
       "      <td>5.0</td>\n",
       "      <td>4.0</td>\n",
       "      <td>50.0</td>\n",
       "    </tr>\n",
       "    <tr>\n",
       "      <th>5</th>\n",
       "      <td>GP</td>\n",
       "      <td>M</td>\n",
       "      <td>16</td>\n",
       "      <td>U</td>\n",
       "      <td>LE3</td>\n",
       "      <td>T</td>\n",
       "      <td>4.0</td>\n",
       "      <td>3.0</td>\n",
       "      <td>services</td>\n",
       "      <td>other</td>\n",
       "      <td>reputation</td>\n",
       "      <td>mother</td>\n",
       "      <td>1.0</td>\n",
       "      <td>2.0</td>\n",
       "      <td>0.0</td>\n",
       "      <td>no</td>\n",
       "      <td>yes</td>\n",
       "      <td>yes</td>\n",
       "      <td>yes</td>\n",
       "      <td>yes</td>\n",
       "      <td>-6.0</td>\n",
       "      <td>yes</td>\n",
       "      <td>yes</td>\n",
       "      <td>no</td>\n",
       "      <td>5.0</td>\n",
       "      <td>4.0</td>\n",
       "      <td>2.0</td>\n",
       "      <td>5.0</td>\n",
       "      <td>10.0</td>\n",
       "      <td>75.0</td>\n",
       "    </tr>\n",
       "    <tr>\n",
       "      <th>6</th>\n",
       "      <td>GP</td>\n",
       "      <td>M</td>\n",
       "      <td>16</td>\n",
       "      <td>NaN</td>\n",
       "      <td>LE3</td>\n",
       "      <td>T</td>\n",
       "      <td>2.0</td>\n",
       "      <td>2.0</td>\n",
       "      <td>other</td>\n",
       "      <td>other</td>\n",
       "      <td>home</td>\n",
       "      <td>mother</td>\n",
       "      <td>1.0</td>\n",
       "      <td>2.0</td>\n",
       "      <td>0.0</td>\n",
       "      <td>no</td>\n",
       "      <td>no</td>\n",
       "      <td>no</td>\n",
       "      <td>no</td>\n",
       "      <td>yes</td>\n",
       "      <td>-6.0</td>\n",
       "      <td>yes</td>\n",
       "      <td>yes</td>\n",
       "      <td>no</td>\n",
       "      <td>4.0</td>\n",
       "      <td>4.0</td>\n",
       "      <td>4.0</td>\n",
       "      <td>3.0</td>\n",
       "      <td>0.0</td>\n",
       "      <td>55.0</td>\n",
       "    </tr>\n",
       "    <tr>\n",
       "      <th>7</th>\n",
       "      <td>GP</td>\n",
       "      <td>F</td>\n",
       "      <td>17</td>\n",
       "      <td>U</td>\n",
       "      <td>GT3</td>\n",
       "      <td>A</td>\n",
       "      <td>4.0</td>\n",
       "      <td>4.0</td>\n",
       "      <td>other</td>\n",
       "      <td>teacher</td>\n",
       "      <td>home</td>\n",
       "      <td>mother</td>\n",
       "      <td>2.0</td>\n",
       "      <td>2.0</td>\n",
       "      <td>0.0</td>\n",
       "      <td>yes</td>\n",
       "      <td>yes</td>\n",
       "      <td>no</td>\n",
       "      <td>no</td>\n",
       "      <td>yes</td>\n",
       "      <td>-6.0</td>\n",
       "      <td>yes</td>\n",
       "      <td>no</td>\n",
       "      <td>no</td>\n",
       "      <td>4.0</td>\n",
       "      <td>1.0</td>\n",
       "      <td>4.0</td>\n",
       "      <td>1.0</td>\n",
       "      <td>6.0</td>\n",
       "      <td>30.0</td>\n",
       "    </tr>\n",
       "    <tr>\n",
       "      <th>8</th>\n",
       "      <td>GP</td>\n",
       "      <td>M</td>\n",
       "      <td>15</td>\n",
       "      <td>U</td>\n",
       "      <td>LE3</td>\n",
       "      <td>A</td>\n",
       "      <td>3.0</td>\n",
       "      <td>2.0</td>\n",
       "      <td>services</td>\n",
       "      <td>other</td>\n",
       "      <td>home</td>\n",
       "      <td>mother</td>\n",
       "      <td>1.0</td>\n",
       "      <td>2.0</td>\n",
       "      <td>0.0</td>\n",
       "      <td>no</td>\n",
       "      <td>yes</td>\n",
       "      <td>yes</td>\n",
       "      <td>no</td>\n",
       "      <td>yes</td>\n",
       "      <td>-6.0</td>\n",
       "      <td>yes</td>\n",
       "      <td>yes</td>\n",
       "      <td>no</td>\n",
       "      <td>NaN</td>\n",
       "      <td>2.0</td>\n",
       "      <td>2.0</td>\n",
       "      <td>1.0</td>\n",
       "      <td>0.0</td>\n",
       "      <td>95.0</td>\n",
       "    </tr>\n",
       "    <tr>\n",
       "      <th>9</th>\n",
       "      <td>GP</td>\n",
       "      <td>M</td>\n",
       "      <td>15</td>\n",
       "      <td>U</td>\n",
       "      <td>NaN</td>\n",
       "      <td>NaN</td>\n",
       "      <td>3.0</td>\n",
       "      <td>4.0</td>\n",
       "      <td>other</td>\n",
       "      <td>other</td>\n",
       "      <td>home</td>\n",
       "      <td>mother</td>\n",
       "      <td>1.0</td>\n",
       "      <td>2.0</td>\n",
       "      <td>0.0</td>\n",
       "      <td>no</td>\n",
       "      <td>yes</td>\n",
       "      <td>yes</td>\n",
       "      <td>yes</td>\n",
       "      <td>yes</td>\n",
       "      <td>-6.0</td>\n",
       "      <td>yes</td>\n",
       "      <td>yes</td>\n",
       "      <td>no</td>\n",
       "      <td>5.0</td>\n",
       "      <td>5.0</td>\n",
       "      <td>1.0</td>\n",
       "      <td>5.0</td>\n",
       "      <td>0.0</td>\n",
       "      <td>75.0</td>\n",
       "    </tr>\n",
       "  </tbody>\n",
       "</table>\n",
       "</div>"
      ],
      "text/plain": [
       "  school sex  age address famsize p_status  m_edu  f_edu     m_job    f_job  \\\n",
       "0     GP   F   18       U     NaN        A    4.0    4.0   at_home  teacher   \n",
       "1     GP   F   17       U     GT3      NaN    1.0    1.0   at_home    other   \n",
       "2     GP   F   15       U     LE3        T    1.0    1.0   at_home    other   \n",
       "3     GP   F   15       U     GT3        T    4.0    2.0    health      NaN   \n",
       "4     GP   F   16       U     GT3        T    3.0    3.0     other    other   \n",
       "5     GP   M   16       U     LE3        T    4.0    3.0  services    other   \n",
       "6     GP   M   16     NaN     LE3        T    2.0    2.0     other    other   \n",
       "7     GP   F   17       U     GT3        A    4.0    4.0     other  teacher   \n",
       "8     GP   M   15       U     LE3        A    3.0    2.0  services    other   \n",
       "9     GP   M   15       U     NaN      NaN    3.0    4.0     other    other   \n",
       "\n",
       "       reason guardian  traveltime  studytime  failures schoolsup famsup paid  \\\n",
       "0      course   mother         2.0        2.0       0.0       yes     no   no   \n",
       "1      course   father         1.0        2.0       0.0        no    yes   no   \n",
       "2       other   mother         1.0        2.0       3.0       yes     no  NaN   \n",
       "3        home   mother         1.0        3.0       0.0        no    yes  yes   \n",
       "4        home   father         1.0        2.0       0.0        no    yes  yes   \n",
       "5  reputation   mother         1.0        2.0       0.0        no    yes  yes   \n",
       "6        home   mother         1.0        2.0       0.0        no     no   no   \n",
       "7        home   mother         2.0        2.0       0.0       yes    yes   no   \n",
       "8        home   mother         1.0        2.0       0.0        no    yes  yes   \n",
       "9        home   mother         1.0        2.0       0.0        no    yes  yes   \n",
       "\n",
       "  activities nursery  studytime_g higher internet romantic  famrel  freetime  \\\n",
       "0         no     yes         -6.0    yes      NaN       no     4.0       3.0   \n",
       "1         no      no         -6.0    yes      yes       no     5.0       3.0   \n",
       "2         no     yes         -6.0    yes      yes      NaN     4.0       3.0   \n",
       "3        yes     yes         -9.0    yes      yes      yes     3.0       2.0   \n",
       "4         no     yes         -6.0    yes       no       no     4.0       3.0   \n",
       "5        yes     yes         -6.0    yes      yes       no     5.0       4.0   \n",
       "6         no     yes         -6.0    yes      yes       no     4.0       4.0   \n",
       "7         no     yes         -6.0    yes       no       no     4.0       1.0   \n",
       "8         no     yes         -6.0    yes      yes       no     NaN       2.0   \n",
       "9        yes     yes         -6.0    yes      yes       no     5.0       5.0   \n",
       "\n",
       "   goout  health  absences  score  \n",
       "0    4.0     3.0       6.0   30.0  \n",
       "1    3.0     3.0       4.0   30.0  \n",
       "2    2.0     3.0      10.0   50.0  \n",
       "3    2.0     5.0       2.0   75.0  \n",
       "4    2.0     5.0       4.0   50.0  \n",
       "5    2.0     5.0      10.0   75.0  \n",
       "6    4.0     3.0       0.0   55.0  \n",
       "7    4.0     1.0       6.0   30.0  \n",
       "8    2.0     1.0       0.0   95.0  \n",
       "9    1.0     5.0       0.0   75.0  "
      ]
     },
     "metadata": {},
     "output_type": "display_data"
    }
   ],
   "source": [
    "# переименовываем столбцы с большими буквами F и M, а также \"studytime, granular\" заменяем на \"studytime_g\"\n",
    "stud.columns = [\n",
    "    \"school\",\n",
    "    \"sex\",\n",
    "    \"age\",\n",
    "    \"address\",\n",
    "    \"famsize\",\n",
    "    \"p_status\",\n",
    "    \"m_edu\",\n",
    "    \"f_edu\",\n",
    "    \"m_job\",\n",
    "    \"f_job\",\n",
    "    \"reason\",\n",
    "    \"guardian\",\n",
    "    \"traveltime\",\n",
    "    \"studytime\",\n",
    "    \"failures\",\n",
    "    \"schoolsup\",\n",
    "    \"famsup\",\n",
    "    \"paid\",\n",
    "    \"activities\",\n",
    "    \"nursery\",\n",
    "    \"studytime_g\",\n",
    "    \"higher\",\n",
    "    \"internet\",\n",
    "    \"romantic\",\n",
    "    \"famrel\",\n",
    "    \"freetime\",\n",
    "    \"goout\",\n",
    "    \"health\",\n",
    "    \"absences\",\n",
    "    \"score\",\n",
    "]\n",
    "display(stud.head(10))"
   ]
  },
  {
   "cell_type": "markdown",
   "id": "0cbf28c6-b494-48a7-81b9-ae41c9d517f6",
   "metadata": {},
   "source": [
    "***\n",
    "## 1 school школы"
   ]
  },
  {
   "cell_type": "code",
   "execution_count": 72,
   "id": "e207fd51-7bf9-47b4-af17-ca13341f1b90",
   "metadata": {},
   "outputs": [
    {
     "name": "stdout",
     "output_type": "stream",
     "text": [
      "Количество уникальных значений: 2\n",
      "Количество пустых значений: 0\n",
      "GP    349\n",
      "MS     46\n",
      "Name: school, dtype: int64\n"
     ]
    },
    {
     "data": {
      "image/png": "[encoded data removed]",
      "text/plain": [
       "<Figure size 1008x288 with 1 Axes>"
      ]
     },
     "metadata": {
      "needs_background": "light"
     },
     "output_type": "display_data"
    }
   ],
   "source": [
    "gentleman_func_set(\"school\")"
   ]
  },
  {
   "cell_type": "markdown",
   "id": "a7e68c64-6ee0-466d-b097-d7b49d5a36a6",
   "metadata": {},
   "source": [
    "__Ученики учатся всего в двух школах, причем в школе MS их в 7 раз меньше, чем в школе GP.\n",
    "В поле school нет пустых значений.__\n",
    "\n",
    "__Оценки учеников в школе GP хотя и немного лучше, но не существенно. Но столбец остается, т.к. он может влиять на будущую модель__\n"
   ]
  },
  {
   "cell_type": "markdown",
   "id": "cd7d8e18-101e-4687-9e22-4a5768abb287",
   "metadata": {},
   "source": [
    "***\n",
    "## 2 score Оценки"
   ]
  },
  {
   "cell_type": "code",
   "execution_count": 73,
   "id": "967b4373-ab4e-40a2-aefc-b9160d3c5922",
   "metadata": {},
   "outputs": [
    {
     "data": {
      "text/plain": [
       "0      30.0\n",
       "1      30.0\n",
       "2      50.0\n",
       "3      75.0\n",
       "4      50.0\n",
       "       ... \n",
       "390    45.0\n",
       "391    80.0\n",
       "392    35.0\n",
       "393    50.0\n",
       "394    45.0\n",
       "Name: score, Length: 395, dtype: float64"
      ]
     },
     "execution_count": 73,
     "metadata": {},
     "output_type": "execute_result"
    }
   ],
   "source": [
    "stud.score"
   ]
  },
  {
   "cell_type": "code",
   "execution_count": 74,
   "id": "158faa93-d63f-45a0-9c5e-0cecdca3325a",
   "metadata": {},
   "outputs": [
    {
     "name": "stdout",
     "output_type": "stream",
     "text": [
      "\n",
      " Метрики столбца score\n"
     ]
    },
    {
     "data": {
      "text/plain": [
       "count    389.000000\n",
       "mean      52.262211\n",
       "std       22.919022\n",
       "min        0.000000\n",
       "25%       40.000000\n",
       "50%       55.000000\n",
       "75%       70.000000\n",
       "max      100.000000\n",
       "Name: score, dtype: float64"
      ]
     },
     "metadata": {},
     "output_type": "display_data"
    },
    {
     "name": "stdout",
     "output_type": "stream",
     "text": [
      "\n",
      " Количество различных оценок\n"
     ]
    },
    {
     "data": {
      "text/plain": [
       "0.0      37\n",
       "20.0      1\n",
       "25.0      7\n",
       "30.0     15\n",
       "35.0      9\n",
       "40.0     31\n",
       "45.0     27\n",
       "50.0     54\n",
       "55.0     46\n",
       "60.0     31\n",
       "65.0     31\n",
       "70.0     27\n",
       "75.0     33\n",
       "80.0     16\n",
       "85.0      6\n",
       "90.0     12\n",
       "95.0      5\n",
       "100.0     1\n",
       "Name: score, dtype: int64"
      ]
     },
     "metadata": {},
     "output_type": "display_data"
    },
    {
     "name": "stdout",
     "output_type": "stream",
     "text": [
      "\n",
      " Гистограмма столбца score\n"
     ]
    },
    {
     "data": {
      "text/plain": [
       "<AxesSubplot:>"
      ]
     },
     "execution_count": 74,
     "metadata": {},
     "output_type": "execute_result"
    },
    {
     "data": {
      "image/png": "[encoded data removed]",
      "text/plain": [
       "<Figure size 432x288 with 1 Axes>"
      ]
     },
     "metadata": {
      "needs_background": "light"
     },
     "output_type": "display_data"
    }
   ],
   "source": [
    "print(\"\\n Метрики столбца score\")\n",
    "display(stud.score.describe())\n",
    "\n",
    "print(\"\\n Количество различных оценок\")\n",
    "display(stud.score.value_counts().sort_index())\n",
    "\n",
    "print(\"\\n Гистограмма столбца score\")\n",
    "stud.score.hist(bins=100)"
   ]
  },
  {
   "cell_type": "markdown",
   "id": "bd0bbdcf-6add-4c05-8580-02af81f83e16",
   "metadata": {},
   "source": [
    "__Распределение показывает, что использовалась 100-бальная система оценки.\n",
    "Предположительно, есть выброс по нулевым оценкам. Их 37 штук.\n",
    "Посмотрим на учеников с нулевыми оценками...__"
   ]
  },
  {
   "cell_type": "code",
   "execution_count": 75,
   "id": "1cbf3dba-8b24-4483-867f-93c4c18baceb",
   "metadata": {},
   "outputs": [
    {
     "data": {
      "text/html": [
       "<div>\n",
       "<style scoped>\n",
       "    .dataframe tbody tr th:only-of-type {\n",
       "        vertical-align: middle;\n",
       "    }\n",
       "\n",
       "    .dataframe tbody tr th {\n",
       "        vertical-align: top;\n",
       "    }\n",
       "\n",
       "    .dataframe thead th {\n",
       "        text-align: right;\n",
       "    }\n",
       "</style>\n",
       "<table border=\"1\" class=\"dataframe\">\n",
       "  <thead>\n",
       "    <tr style=\"text-align: right;\">\n",
       "      <th></th>\n",
       "      <th>school</th>\n",
       "      <th>sex</th>\n",
       "      <th>age</th>\n",
       "      <th>address</th>\n",
       "      <th>famsize</th>\n",
       "      <th>p_status</th>\n",
       "      <th>m_edu</th>\n",
       "      <th>f_edu</th>\n",
       "      <th>m_job</th>\n",
       "      <th>f_job</th>\n",
       "      <th>reason</th>\n",
       "      <th>guardian</th>\n",
       "      <th>traveltime</th>\n",
       "      <th>studytime</th>\n",
       "      <th>failures</th>\n",
       "      <th>schoolsup</th>\n",
       "      <th>famsup</th>\n",
       "      <th>paid</th>\n",
       "      <th>activities</th>\n",
       "      <th>nursery</th>\n",
       "      <th>studytime_g</th>\n",
       "      <th>higher</th>\n",
       "      <th>internet</th>\n",
       "      <th>romantic</th>\n",
       "      <th>famrel</th>\n",
       "      <th>freetime</th>\n",
       "      <th>goout</th>\n",
       "      <th>health</th>\n",
       "      <th>absences</th>\n",
       "      <th>score</th>\n",
       "    </tr>\n",
       "  </thead>\n",
       "  <tbody>\n",
       "    <tr>\n",
       "      <th>128</th>\n",
       "      <td>GP</td>\n",
       "      <td>M</td>\n",
       "      <td>18</td>\n",
       "      <td>R</td>\n",
       "      <td>NaN</td>\n",
       "      <td>T</td>\n",
       "      <td>2.0</td>\n",
       "      <td>2.0</td>\n",
       "      <td>NaN</td>\n",
       "      <td>other</td>\n",
       "      <td>reputation</td>\n",
       "      <td>mother</td>\n",
       "      <td>1.0</td>\n",
       "      <td>1.0</td>\n",
       "      <td>2.0</td>\n",
       "      <td>no</td>\n",
       "      <td>yes</td>\n",
       "      <td>no</td>\n",
       "      <td>yes</td>\n",
       "      <td>yes</td>\n",
       "      <td>-3.0</td>\n",
       "      <td>yes</td>\n",
       "      <td>yes</td>\n",
       "      <td>no</td>\n",
       "      <td>3.0</td>\n",
       "      <td>3.0</td>\n",
       "      <td>3.0</td>\n",
       "      <td>4.0</td>\n",
       "      <td>0.0</td>\n",
       "      <td>0.0</td>\n",
       "    </tr>\n",
       "    <tr>\n",
       "      <th>130</th>\n",
       "      <td>GP</td>\n",
       "      <td>F</td>\n",
       "      <td>15</td>\n",
       "      <td>R</td>\n",
       "      <td>GT3</td>\n",
       "      <td>T</td>\n",
       "      <td>3.0</td>\n",
       "      <td>4.0</td>\n",
       "      <td>services</td>\n",
       "      <td>teacher</td>\n",
       "      <td>course</td>\n",
       "      <td>father</td>\n",
       "      <td>2.0</td>\n",
       "      <td>3.0</td>\n",
       "      <td>2.0</td>\n",
       "      <td>no</td>\n",
       "      <td>yes</td>\n",
       "      <td>no</td>\n",
       "      <td>no</td>\n",
       "      <td>yes</td>\n",
       "      <td>-9.0</td>\n",
       "      <td>yes</td>\n",
       "      <td>yes</td>\n",
       "      <td>yes</td>\n",
       "      <td>4.0</td>\n",
       "      <td>2.0</td>\n",
       "      <td>2.0</td>\n",
       "      <td>5.0</td>\n",
       "      <td>0.0</td>\n",
       "      <td>0.0</td>\n",
       "    </tr>\n",
       "    <tr>\n",
       "      <th>131</th>\n",
       "      <td>GP</td>\n",
       "      <td>F</td>\n",
       "      <td>15</td>\n",
       "      <td>U</td>\n",
       "      <td>GT3</td>\n",
       "      <td>NaN</td>\n",
       "      <td>1.0</td>\n",
       "      <td>1.0</td>\n",
       "      <td>at_home</td>\n",
       "      <td>other</td>\n",
       "      <td>course</td>\n",
       "      <td>mother</td>\n",
       "      <td>3.0</td>\n",
       "      <td>1.0</td>\n",
       "      <td>0.0</td>\n",
       "      <td>no</td>\n",
       "      <td>yes</td>\n",
       "      <td>no</td>\n",
       "      <td>yes</td>\n",
       "      <td>no</td>\n",
       "      <td>-3.0</td>\n",
       "      <td>yes</td>\n",
       "      <td>yes</td>\n",
       "      <td>yes</td>\n",
       "      <td>4.0</td>\n",
       "      <td>NaN</td>\n",
       "      <td>3.0</td>\n",
       "      <td>4.0</td>\n",
       "      <td>0.0</td>\n",
       "      <td>0.0</td>\n",
       "    </tr>\n",
       "    <tr>\n",
       "      <th>134</th>\n",
       "      <td>GP</td>\n",
       "      <td>M</td>\n",
       "      <td>15</td>\n",
       "      <td>R</td>\n",
       "      <td>GT3</td>\n",
       "      <td>T</td>\n",
       "      <td>3.0</td>\n",
       "      <td>4.0</td>\n",
       "      <td>at_home</td>\n",
       "      <td>teacher</td>\n",
       "      <td>course</td>\n",
       "      <td>mother</td>\n",
       "      <td>NaN</td>\n",
       "      <td>2.0</td>\n",
       "      <td>0.0</td>\n",
       "      <td>no</td>\n",
       "      <td>yes</td>\n",
       "      <td>no</td>\n",
       "      <td>no</td>\n",
       "      <td>yes</td>\n",
       "      <td>-6.0</td>\n",
       "      <td>yes</td>\n",
       "      <td>no</td>\n",
       "      <td>yes</td>\n",
       "      <td>5.0</td>\n",
       "      <td>3.0</td>\n",
       "      <td>3.0</td>\n",
       "      <td>5.0</td>\n",
       "      <td>0.0</td>\n",
       "      <td>0.0</td>\n",
       "    </tr>\n",
       "    <tr>\n",
       "      <th>135</th>\n",
       "      <td>GP</td>\n",
       "      <td>F</td>\n",
       "      <td>15</td>\n",
       "      <td>U</td>\n",
       "      <td>GT3</td>\n",
       "      <td>T</td>\n",
       "      <td>4.0</td>\n",
       "      <td>4.0</td>\n",
       "      <td>services</td>\n",
       "      <td>NaN</td>\n",
       "      <td>course</td>\n",
       "      <td>mother</td>\n",
       "      <td>1.0</td>\n",
       "      <td>3.0</td>\n",
       "      <td>0.0</td>\n",
       "      <td>no</td>\n",
       "      <td>yes</td>\n",
       "      <td>no</td>\n",
       "      <td>yes</td>\n",
       "      <td>yes</td>\n",
       "      <td>-9.0</td>\n",
       "      <td>yes</td>\n",
       "      <td>yes</td>\n",
       "      <td>yes</td>\n",
       "      <td>4.0</td>\n",
       "      <td>3.0</td>\n",
       "      <td>3.0</td>\n",
       "      <td>5.0</td>\n",
       "      <td>0.0</td>\n",
       "      <td>0.0</td>\n",
       "    </tr>\n",
       "    <tr>\n",
       "      <th>136</th>\n",
       "      <td>GP</td>\n",
       "      <td>M</td>\n",
       "      <td>17</td>\n",
       "      <td>R</td>\n",
       "      <td>GT3</td>\n",
       "      <td>T</td>\n",
       "      <td>3.0</td>\n",
       "      <td>4.0</td>\n",
       "      <td>at_home</td>\n",
       "      <td>other</td>\n",
       "      <td>course</td>\n",
       "      <td>mother</td>\n",
       "      <td>3.0</td>\n",
       "      <td>2.0</td>\n",
       "      <td>0.0</td>\n",
       "      <td>no</td>\n",
       "      <td>no</td>\n",
       "      <td>NaN</td>\n",
       "      <td>no</td>\n",
       "      <td>yes</td>\n",
       "      <td>-6.0</td>\n",
       "      <td>yes</td>\n",
       "      <td>no</td>\n",
       "      <td>no</td>\n",
       "      <td>NaN</td>\n",
       "      <td>4.0</td>\n",
       "      <td>5.0</td>\n",
       "      <td>5.0</td>\n",
       "      <td>0.0</td>\n",
       "      <td>0.0</td>\n",
       "    </tr>\n",
       "    <tr>\n",
       "      <th>137</th>\n",
       "      <td>GP</td>\n",
       "      <td>F</td>\n",
       "      <td>16</td>\n",
       "      <td>U</td>\n",
       "      <td>GT3</td>\n",
       "      <td>A</td>\n",
       "      <td>3.0</td>\n",
       "      <td>NaN</td>\n",
       "      <td>other</td>\n",
       "      <td>other</td>\n",
       "      <td>NaN</td>\n",
       "      <td>other</td>\n",
       "      <td>NaN</td>\n",
       "      <td>1.0</td>\n",
       "      <td>2.0</td>\n",
       "      <td>no</td>\n",
       "      <td>yes</td>\n",
       "      <td>no</td>\n",
       "      <td>yes</td>\n",
       "      <td>no</td>\n",
       "      <td>-3.0</td>\n",
       "      <td>yes</td>\n",
       "      <td>yes</td>\n",
       "      <td>yes</td>\n",
       "      <td>4.0</td>\n",
       "      <td>3.0</td>\n",
       "      <td>2.0</td>\n",
       "      <td>5.0</td>\n",
       "      <td>0.0</td>\n",
       "      <td>0.0</td>\n",
       "    </tr>\n",
       "    <tr>\n",
       "      <th>140</th>\n",
       "      <td>GP</td>\n",
       "      <td>M</td>\n",
       "      <td>15</td>\n",
       "      <td>U</td>\n",
       "      <td>GT3</td>\n",
       "      <td>T</td>\n",
       "      <td>4.0</td>\n",
       "      <td>3.0</td>\n",
       "      <td>teacher</td>\n",
       "      <td>services</td>\n",
       "      <td>NaN</td>\n",
       "      <td>father</td>\n",
       "      <td>2.0</td>\n",
       "      <td>4.0</td>\n",
       "      <td>0.0</td>\n",
       "      <td>yes</td>\n",
       "      <td>yes</td>\n",
       "      <td>no</td>\n",
       "      <td>NaN</td>\n",
       "      <td>yes</td>\n",
       "      <td>-12.0</td>\n",
       "      <td>yes</td>\n",
       "      <td>yes</td>\n",
       "      <td>no</td>\n",
       "      <td>2.0</td>\n",
       "      <td>2.0</td>\n",
       "      <td>2.0</td>\n",
       "      <td>3.0</td>\n",
       "      <td>0.0</td>\n",
       "      <td>0.0</td>\n",
       "    </tr>\n",
       "    <tr>\n",
       "      <th>144</th>\n",
       "      <td>GP</td>\n",
       "      <td>M</td>\n",
       "      <td>17</td>\n",
       "      <td>U</td>\n",
       "      <td>GT3</td>\n",
       "      <td>T</td>\n",
       "      <td>2.0</td>\n",
       "      <td>1.0</td>\n",
       "      <td>other</td>\n",
       "      <td>other</td>\n",
       "      <td>home</td>\n",
       "      <td>NaN</td>\n",
       "      <td>1.0</td>\n",
       "      <td>1.0</td>\n",
       "      <td>3.0</td>\n",
       "      <td>no</td>\n",
       "      <td>yes</td>\n",
       "      <td>no</td>\n",
       "      <td>no</td>\n",
       "      <td>yes</td>\n",
       "      <td>-3.0</td>\n",
       "      <td>yes</td>\n",
       "      <td>yes</td>\n",
       "      <td>no</td>\n",
       "      <td>5.0</td>\n",
       "      <td>4.0</td>\n",
       "      <td>5.0</td>\n",
       "      <td>5.0</td>\n",
       "      <td>0.0</td>\n",
       "      <td>0.0</td>\n",
       "    </tr>\n",
       "    <tr>\n",
       "      <th>146</th>\n",
       "      <td>GP</td>\n",
       "      <td>F</td>\n",
       "      <td>15</td>\n",
       "      <td>U</td>\n",
       "      <td>GT3</td>\n",
       "      <td>T</td>\n",
       "      <td>3.0</td>\n",
       "      <td>2.0</td>\n",
       "      <td>health</td>\n",
       "      <td>services</td>\n",
       "      <td>home</td>\n",
       "      <td>father</td>\n",
       "      <td>1.0</td>\n",
       "      <td>2.0</td>\n",
       "      <td>3.0</td>\n",
       "      <td>no</td>\n",
       "      <td>NaN</td>\n",
       "      <td>no</td>\n",
       "      <td>no</td>\n",
       "      <td>yes</td>\n",
       "      <td>-6.0</td>\n",
       "      <td>yes</td>\n",
       "      <td>yes</td>\n",
       "      <td>no</td>\n",
       "      <td>3.0</td>\n",
       "      <td>3.0</td>\n",
       "      <td>2.0</td>\n",
       "      <td>3.0</td>\n",
       "      <td>0.0</td>\n",
       "      <td>0.0</td>\n",
       "    </tr>\n",
       "    <tr>\n",
       "      <th>148</th>\n",
       "      <td>GP</td>\n",
       "      <td>M</td>\n",
       "      <td>16</td>\n",
       "      <td>U</td>\n",
       "      <td>GT3</td>\n",
       "      <td>T</td>\n",
       "      <td>4.0</td>\n",
       "      <td>4.0</td>\n",
       "      <td>teacher</td>\n",
       "      <td>teacher</td>\n",
       "      <td>course</td>\n",
       "      <td>mother</td>\n",
       "      <td>1.0</td>\n",
       "      <td>1.0</td>\n",
       "      <td>0.0</td>\n",
       "      <td>no</td>\n",
       "      <td>yes</td>\n",
       "      <td>NaN</td>\n",
       "      <td>no</td>\n",
       "      <td>yes</td>\n",
       "      <td>-3.0</td>\n",
       "      <td>no</td>\n",
       "      <td>yes</td>\n",
       "      <td>yes</td>\n",
       "      <td>3.0</td>\n",
       "      <td>3.0</td>\n",
       "      <td>2.0</td>\n",
       "      <td>5.0</td>\n",
       "      <td>0.0</td>\n",
       "      <td>0.0</td>\n",
       "    </tr>\n",
       "    <tr>\n",
       "      <th>150</th>\n",
       "      <td>GP</td>\n",
       "      <td>M</td>\n",
       "      <td>18</td>\n",
       "      <td>U</td>\n",
       "      <td>LE3</td>\n",
       "      <td>T</td>\n",
       "      <td>1.0</td>\n",
       "      <td>1.0</td>\n",
       "      <td>other</td>\n",
       "      <td>other</td>\n",
       "      <td>course</td>\n",
       "      <td>mother</td>\n",
       "      <td>1.0</td>\n",
       "      <td>1.0</td>\n",
       "      <td>3.0</td>\n",
       "      <td>no</td>\n",
       "      <td>no</td>\n",
       "      <td>no</td>\n",
       "      <td>no</td>\n",
       "      <td>yes</td>\n",
       "      <td>-3.0</td>\n",
       "      <td>no</td>\n",
       "      <td>yes</td>\n",
       "      <td>yes</td>\n",
       "      <td>2.0</td>\n",
       "      <td>3.0</td>\n",
       "      <td>5.0</td>\n",
       "      <td>4.0</td>\n",
       "      <td>NaN</td>\n",
       "      <td>0.0</td>\n",
       "    </tr>\n",
       "    <tr>\n",
       "      <th>153</th>\n",
       "      <td>GP</td>\n",
       "      <td>M</td>\n",
       "      <td>19</td>\n",
       "      <td>U</td>\n",
       "      <td>GT3</td>\n",
       "      <td>NaN</td>\n",
       "      <td>3.0</td>\n",
       "      <td>2.0</td>\n",
       "      <td>services</td>\n",
       "      <td>at_home</td>\n",
       "      <td>home</td>\n",
       "      <td>mother</td>\n",
       "      <td>1.0</td>\n",
       "      <td>1.0</td>\n",
       "      <td>NaN</td>\n",
       "      <td>no</td>\n",
       "      <td>yes</td>\n",
       "      <td>no</td>\n",
       "      <td>no</td>\n",
       "      <td>yes</td>\n",
       "      <td>-3.0</td>\n",
       "      <td>no</td>\n",
       "      <td>yes</td>\n",
       "      <td>yes</td>\n",
       "      <td>4.0</td>\n",
       "      <td>5.0</td>\n",
       "      <td>4.0</td>\n",
       "      <td>NaN</td>\n",
       "      <td>0.0</td>\n",
       "      <td>0.0</td>\n",
       "    </tr>\n",
       "    <tr>\n",
       "      <th>160</th>\n",
       "      <td>GP</td>\n",
       "      <td>M</td>\n",
       "      <td>17</td>\n",
       "      <td>R</td>\n",
       "      <td>LE3</td>\n",
       "      <td>T</td>\n",
       "      <td>2.0</td>\n",
       "      <td>1.0</td>\n",
       "      <td>at_home</td>\n",
       "      <td>NaN</td>\n",
       "      <td>course</td>\n",
       "      <td>mother</td>\n",
       "      <td>NaN</td>\n",
       "      <td>1.0</td>\n",
       "      <td>2.0</td>\n",
       "      <td>no</td>\n",
       "      <td>no</td>\n",
       "      <td>no</td>\n",
       "      <td>NaN</td>\n",
       "      <td>yes</td>\n",
       "      <td>-3.0</td>\n",
       "      <td>no</td>\n",
       "      <td>yes</td>\n",
       "      <td>yes</td>\n",
       "      <td>NaN</td>\n",
       "      <td>3.0</td>\n",
       "      <td>2.0</td>\n",
       "      <td>5.0</td>\n",
       "      <td>0.0</td>\n",
       "      <td>0.0</td>\n",
       "    </tr>\n",
       "    <tr>\n",
       "      <th>162</th>\n",
       "      <td>GP</td>\n",
       "      <td>M</td>\n",
       "      <td>16</td>\n",
       "      <td>U</td>\n",
       "      <td>LE3</td>\n",
       "      <td>T</td>\n",
       "      <td>1.0</td>\n",
       "      <td>2.0</td>\n",
       "      <td>other</td>\n",
       "      <td>other</td>\n",
       "      <td>course</td>\n",
       "      <td>mother</td>\n",
       "      <td>2.0</td>\n",
       "      <td>1.0</td>\n",
       "      <td>1.0</td>\n",
       "      <td>no</td>\n",
       "      <td>no</td>\n",
       "      <td>no</td>\n",
       "      <td>yes</td>\n",
       "      <td>yes</td>\n",
       "      <td>-3.0</td>\n",
       "      <td>yes</td>\n",
       "      <td>NaN</td>\n",
       "      <td>NaN</td>\n",
       "      <td>4.0</td>\n",
       "      <td>4.0</td>\n",
       "      <td>4.0</td>\n",
       "      <td>5.0</td>\n",
       "      <td>0.0</td>\n",
       "      <td>0.0</td>\n",
       "    </tr>\n",
       "    <tr>\n",
       "      <th>168</th>\n",
       "      <td>GP</td>\n",
       "      <td>F</td>\n",
       "      <td>16</td>\n",
       "      <td>NaN</td>\n",
       "      <td>GT3</td>\n",
       "      <td>T</td>\n",
       "      <td>2.0</td>\n",
       "      <td>2.0</td>\n",
       "      <td>other</td>\n",
       "      <td>other</td>\n",
       "      <td>home</td>\n",
       "      <td>mother</td>\n",
       "      <td>1.0</td>\n",
       "      <td>2.0</td>\n",
       "      <td>0.0</td>\n",
       "      <td>no</td>\n",
       "      <td>yes</td>\n",
       "      <td>yes</td>\n",
       "      <td>no</td>\n",
       "      <td>no</td>\n",
       "      <td>-6.0</td>\n",
       "      <td>yes</td>\n",
       "      <td>yes</td>\n",
       "      <td>no</td>\n",
       "      <td>5.0</td>\n",
       "      <td>1.0</td>\n",
       "      <td>5.0</td>\n",
       "      <td>4.0</td>\n",
       "      <td>0.0</td>\n",
       "      <td>0.0</td>\n",
       "    </tr>\n",
       "    <tr>\n",
       "      <th>170</th>\n",
       "      <td>GP</td>\n",
       "      <td>M</td>\n",
       "      <td>16</td>\n",
       "      <td>U</td>\n",
       "      <td>GT3</td>\n",
       "      <td>T</td>\n",
       "      <td>3.0</td>\n",
       "      <td>4.0</td>\n",
       "      <td>other</td>\n",
       "      <td>other</td>\n",
       "      <td>course</td>\n",
       "      <td>father</td>\n",
       "      <td>3.0</td>\n",
       "      <td>1.0</td>\n",
       "      <td>NaN</td>\n",
       "      <td>no</td>\n",
       "      <td>yes</td>\n",
       "      <td>no</td>\n",
       "      <td>yes</td>\n",
       "      <td>no</td>\n",
       "      <td>-3.0</td>\n",
       "      <td>NaN</td>\n",
       "      <td>yes</td>\n",
       "      <td>no</td>\n",
       "      <td>3.0</td>\n",
       "      <td>4.0</td>\n",
       "      <td>5.0</td>\n",
       "      <td>2.0</td>\n",
       "      <td>0.0</td>\n",
       "      <td>0.0</td>\n",
       "    </tr>\n",
       "    <tr>\n",
       "      <th>173</th>\n",
       "      <td>GP</td>\n",
       "      <td>F</td>\n",
       "      <td>16</td>\n",
       "      <td>U</td>\n",
       "      <td>GT3</td>\n",
       "      <td>T</td>\n",
       "      <td>1.0</td>\n",
       "      <td>3.0</td>\n",
       "      <td>at_home</td>\n",
       "      <td>services</td>\n",
       "      <td>home</td>\n",
       "      <td>NaN</td>\n",
       "      <td>1.0</td>\n",
       "      <td>2.0</td>\n",
       "      <td>3.0</td>\n",
       "      <td>no</td>\n",
       "      <td>no</td>\n",
       "      <td>no</td>\n",
       "      <td>yes</td>\n",
       "      <td>no</td>\n",
       "      <td>-6.0</td>\n",
       "      <td>yes</td>\n",
       "      <td>yes</td>\n",
       "      <td>yes</td>\n",
       "      <td>4.0</td>\n",
       "      <td>3.0</td>\n",
       "      <td>5.0</td>\n",
       "      <td>3.0</td>\n",
       "      <td>0.0</td>\n",
       "      <td>0.0</td>\n",
       "    </tr>\n",
       "    <tr>\n",
       "      <th>221</th>\n",
       "      <td>GP</td>\n",
       "      <td>F</td>\n",
       "      <td>17</td>\n",
       "      <td>U</td>\n",
       "      <td>NaN</td>\n",
       "      <td>T</td>\n",
       "      <td>1.0</td>\n",
       "      <td>1.0</td>\n",
       "      <td>at_home</td>\n",
       "      <td>other</td>\n",
       "      <td>reputation</td>\n",
       "      <td>mother</td>\n",
       "      <td>1.0</td>\n",
       "      <td>3.0</td>\n",
       "      <td>1.0</td>\n",
       "      <td>no</td>\n",
       "      <td>yes</td>\n",
       "      <td>no</td>\n",
       "      <td>yes</td>\n",
       "      <td>yes</td>\n",
       "      <td>-9.0</td>\n",
       "      <td>yes</td>\n",
       "      <td>no</td>\n",
       "      <td>yes</td>\n",
       "      <td>4.0</td>\n",
       "      <td>3.0</td>\n",
       "      <td>NaN</td>\n",
       "      <td>5.0</td>\n",
       "      <td>0.0</td>\n",
       "      <td>0.0</td>\n",
       "    </tr>\n",
       "    <tr>\n",
       "      <th>239</th>\n",
       "      <td>GP</td>\n",
       "      <td>M</td>\n",
       "      <td>18</td>\n",
       "      <td>U</td>\n",
       "      <td>GT3</td>\n",
       "      <td>NaN</td>\n",
       "      <td>NaN</td>\n",
       "      <td>2.0</td>\n",
       "      <td>other</td>\n",
       "      <td>services</td>\n",
       "      <td>reputation</td>\n",
       "      <td>father</td>\n",
       "      <td>1.0</td>\n",
       "      <td>2.0</td>\n",
       "      <td>1.0</td>\n",
       "      <td>no</td>\n",
       "      <td>no</td>\n",
       "      <td>no</td>\n",
       "      <td>no</td>\n",
       "      <td>yes</td>\n",
       "      <td>-6.0</td>\n",
       "      <td>no</td>\n",
       "      <td>NaN</td>\n",
       "      <td>NaN</td>\n",
       "      <td>5.0</td>\n",
       "      <td>5.0</td>\n",
       "      <td>4.0</td>\n",
       "      <td>2.0</td>\n",
       "      <td>0.0</td>\n",
       "      <td>0.0</td>\n",
       "    </tr>\n",
       "    <tr>\n",
       "      <th>242</th>\n",
       "      <td>GP</td>\n",
       "      <td>M</td>\n",
       "      <td>16</td>\n",
       "      <td>U</td>\n",
       "      <td>LE3</td>\n",
       "      <td>T</td>\n",
       "      <td>4.0</td>\n",
       "      <td>3.0</td>\n",
       "      <td>teacher</td>\n",
       "      <td>other</td>\n",
       "      <td>course</td>\n",
       "      <td>mother</td>\n",
       "      <td>1.0</td>\n",
       "      <td>1.0</td>\n",
       "      <td>0.0</td>\n",
       "      <td>no</td>\n",
       "      <td>no</td>\n",
       "      <td>no</td>\n",
       "      <td>yes</td>\n",
       "      <td>no</td>\n",
       "      <td>-3.0</td>\n",
       "      <td>yes</td>\n",
       "      <td>yes</td>\n",
       "      <td>no</td>\n",
       "      <td>5.0</td>\n",
       "      <td>4.0</td>\n",
       "      <td>5.0</td>\n",
       "      <td>3.0</td>\n",
       "      <td>0.0</td>\n",
       "      <td>0.0</td>\n",
       "    </tr>\n",
       "    <tr>\n",
       "      <th>259</th>\n",
       "      <td>GP</td>\n",
       "      <td>F</td>\n",
       "      <td>17</td>\n",
       "      <td>U</td>\n",
       "      <td>LE3</td>\n",
       "      <td>T</td>\n",
       "      <td>2.0</td>\n",
       "      <td>NaN</td>\n",
       "      <td>services</td>\n",
       "      <td>services</td>\n",
       "      <td>course</td>\n",
       "      <td>father</td>\n",
       "      <td>1.0</td>\n",
       "      <td>4.0</td>\n",
       "      <td>0.0</td>\n",
       "      <td>no</td>\n",
       "      <td>no</td>\n",
       "      <td>yes</td>\n",
       "      <td>yes</td>\n",
       "      <td>yes</td>\n",
       "      <td>-12.0</td>\n",
       "      <td>yes</td>\n",
       "      <td>NaN</td>\n",
       "      <td>yes</td>\n",
       "      <td>3.0</td>\n",
       "      <td>4.0</td>\n",
       "      <td>1.0</td>\n",
       "      <td>NaN</td>\n",
       "      <td>0.0</td>\n",
       "      <td>0.0</td>\n",
       "    </tr>\n",
       "    <tr>\n",
       "      <th>264</th>\n",
       "      <td>GP</td>\n",
       "      <td>F</td>\n",
       "      <td>18</td>\n",
       "      <td>U</td>\n",
       "      <td>GT3</td>\n",
       "      <td>T</td>\n",
       "      <td>2.0</td>\n",
       "      <td>2.0</td>\n",
       "      <td>at_home</td>\n",
       "      <td>services</td>\n",
       "      <td>home</td>\n",
       "      <td>mother</td>\n",
       "      <td>1.0</td>\n",
       "      <td>3.0</td>\n",
       "      <td>0.0</td>\n",
       "      <td>no</td>\n",
       "      <td>yes</td>\n",
       "      <td>yes</td>\n",
       "      <td>yes</td>\n",
       "      <td>yes</td>\n",
       "      <td>-9.0</td>\n",
       "      <td>yes</td>\n",
       "      <td>yes</td>\n",
       "      <td>yes</td>\n",
       "      <td>4.0</td>\n",
       "      <td>3.0</td>\n",
       "      <td>3.0</td>\n",
       "      <td>3.0</td>\n",
       "      <td>0.0</td>\n",
       "      <td>0.0</td>\n",
       "    </tr>\n",
       "    <tr>\n",
       "      <th>269</th>\n",
       "      <td>GP</td>\n",
       "      <td>F</td>\n",
       "      <td>18</td>\n",
       "      <td>R</td>\n",
       "      <td>GT3</td>\n",
       "      <td>T</td>\n",
       "      <td>2.0</td>\n",
       "      <td>1.0</td>\n",
       "      <td>other</td>\n",
       "      <td>other</td>\n",
       "      <td>reputation</td>\n",
       "      <td>mother</td>\n",
       "      <td>2.0</td>\n",
       "      <td>2.0</td>\n",
       "      <td>0.0</td>\n",
       "      <td>no</td>\n",
       "      <td>NaN</td>\n",
       "      <td>no</td>\n",
       "      <td>no</td>\n",
       "      <td>yes</td>\n",
       "      <td>-6.0</td>\n",
       "      <td>no</td>\n",
       "      <td>yes</td>\n",
       "      <td>yes</td>\n",
       "      <td>4.0</td>\n",
       "      <td>3.0</td>\n",
       "      <td>5.0</td>\n",
       "      <td>3.0</td>\n",
       "      <td>0.0</td>\n",
       "      <td>0.0</td>\n",
       "    </tr>\n",
       "    <tr>\n",
       "      <th>296</th>\n",
       "      <td>GP</td>\n",
       "      <td>F</td>\n",
       "      <td>19</td>\n",
       "      <td>U</td>\n",
       "      <td>GT3</td>\n",
       "      <td>T</td>\n",
       "      <td>4.0</td>\n",
       "      <td>4.0</td>\n",
       "      <td>health</td>\n",
       "      <td>other</td>\n",
       "      <td>reputation</td>\n",
       "      <td>other</td>\n",
       "      <td>2.0</td>\n",
       "      <td>2.0</td>\n",
       "      <td>0.0</td>\n",
       "      <td>no</td>\n",
       "      <td>yes</td>\n",
       "      <td>yes</td>\n",
       "      <td>yes</td>\n",
       "      <td>yes</td>\n",
       "      <td>-6.0</td>\n",
       "      <td>yes</td>\n",
       "      <td>yes</td>\n",
       "      <td>no</td>\n",
       "      <td>2.0</td>\n",
       "      <td>3.0</td>\n",
       "      <td>4.0</td>\n",
       "      <td>2.0</td>\n",
       "      <td>0.0</td>\n",
       "      <td>0.0</td>\n",
       "    </tr>\n",
       "    <tr>\n",
       "      <th>310</th>\n",
       "      <td>GP</td>\n",
       "      <td>F</td>\n",
       "      <td>19</td>\n",
       "      <td>U</td>\n",
       "      <td>LE3</td>\n",
       "      <td>T</td>\n",
       "      <td>1.0</td>\n",
       "      <td>NaN</td>\n",
       "      <td>services</td>\n",
       "      <td>services</td>\n",
       "      <td>home</td>\n",
       "      <td>other</td>\n",
       "      <td>NaN</td>\n",
       "      <td>2.0</td>\n",
       "      <td>1.0</td>\n",
       "      <td>no</td>\n",
       "      <td>no</td>\n",
       "      <td>no</td>\n",
       "      <td>yes</td>\n",
       "      <td>no</td>\n",
       "      <td>-6.0</td>\n",
       "      <td>yes</td>\n",
       "      <td>no</td>\n",
       "      <td>yes</td>\n",
       "      <td>4.0</td>\n",
       "      <td>2.0</td>\n",
       "      <td>4.0</td>\n",
       "      <td>3.0</td>\n",
       "      <td>0.0</td>\n",
       "      <td>0.0</td>\n",
       "    </tr>\n",
       "    <tr>\n",
       "      <th>316</th>\n",
       "      <td>GP</td>\n",
       "      <td>F</td>\n",
       "      <td>18</td>\n",
       "      <td>U</td>\n",
       "      <td>GT3</td>\n",
       "      <td>T</td>\n",
       "      <td>2.0</td>\n",
       "      <td>1.0</td>\n",
       "      <td>services</td>\n",
       "      <td>NaN</td>\n",
       "      <td>course</td>\n",
       "      <td>mother</td>\n",
       "      <td>2.0</td>\n",
       "      <td>2.0</td>\n",
       "      <td>0.0</td>\n",
       "      <td>no</td>\n",
       "      <td>yes</td>\n",
       "      <td>yes</td>\n",
       "      <td>yes</td>\n",
       "      <td>yes</td>\n",
       "      <td>-6.0</td>\n",
       "      <td>yes</td>\n",
       "      <td>yes</td>\n",
       "      <td>no</td>\n",
       "      <td>5.0</td>\n",
       "      <td>3.0</td>\n",
       "      <td>3.0</td>\n",
       "      <td>1.0</td>\n",
       "      <td>0.0</td>\n",
       "      <td>0.0</td>\n",
       "    </tr>\n",
       "    <tr>\n",
       "      <th>332</th>\n",
       "      <td>GP</td>\n",
       "      <td>F</td>\n",
       "      <td>18</td>\n",
       "      <td>U</td>\n",
       "      <td>GT3</td>\n",
       "      <td>T</td>\n",
       "      <td>3.0</td>\n",
       "      <td>3.0</td>\n",
       "      <td>services</td>\n",
       "      <td>services</td>\n",
       "      <td>home</td>\n",
       "      <td>mother</td>\n",
       "      <td>1.0</td>\n",
       "      <td>2.0</td>\n",
       "      <td>0.0</td>\n",
       "      <td>no</td>\n",
       "      <td>no</td>\n",
       "      <td>no</td>\n",
       "      <td>yes</td>\n",
       "      <td>NaN</td>\n",
       "      <td>-6.0</td>\n",
       "      <td>yes</td>\n",
       "      <td>yes</td>\n",
       "      <td>no</td>\n",
       "      <td>5.0</td>\n",
       "      <td>3.0</td>\n",
       "      <td>4.0</td>\n",
       "      <td>4.0</td>\n",
       "      <td>0.0</td>\n",
       "      <td>0.0</td>\n",
       "    </tr>\n",
       "    <tr>\n",
       "      <th>333</th>\n",
       "      <td>GP</td>\n",
       "      <td>F</td>\n",
       "      <td>18</td>\n",
       "      <td>U</td>\n",
       "      <td>LE3</td>\n",
       "      <td>NaN</td>\n",
       "      <td>2.0</td>\n",
       "      <td>2.0</td>\n",
       "      <td>other</td>\n",
       "      <td>other</td>\n",
       "      <td>home</td>\n",
       "      <td>other</td>\n",
       "      <td>1.0</td>\n",
       "      <td>2.0</td>\n",
       "      <td>0.0</td>\n",
       "      <td>no</td>\n",
       "      <td>no</td>\n",
       "      <td>no</td>\n",
       "      <td>yes</td>\n",
       "      <td>no</td>\n",
       "      <td>-6.0</td>\n",
       "      <td>yes</td>\n",
       "      <td>NaN</td>\n",
       "      <td>yes</td>\n",
       "      <td>4.0</td>\n",
       "      <td>3.0</td>\n",
       "      <td>3.0</td>\n",
       "      <td>2.0</td>\n",
       "      <td>0.0</td>\n",
       "      <td>0.0</td>\n",
       "    </tr>\n",
       "    <tr>\n",
       "      <th>334</th>\n",
       "      <td>GP</td>\n",
       "      <td>F</td>\n",
       "      <td>18</td>\n",
       "      <td>R</td>\n",
       "      <td>GT3</td>\n",
       "      <td>T</td>\n",
       "      <td>2.0</td>\n",
       "      <td>2.0</td>\n",
       "      <td>at_home</td>\n",
       "      <td>other</td>\n",
       "      <td>course</td>\n",
       "      <td>mother</td>\n",
       "      <td>2.0</td>\n",
       "      <td>4.0</td>\n",
       "      <td>0.0</td>\n",
       "      <td>no</td>\n",
       "      <td>no</td>\n",
       "      <td>no</td>\n",
       "      <td>yes</td>\n",
       "      <td>yes</td>\n",
       "      <td>-12.0</td>\n",
       "      <td>yes</td>\n",
       "      <td>no</td>\n",
       "      <td>no</td>\n",
       "      <td>4.0</td>\n",
       "      <td>4.0</td>\n",
       "      <td>4.0</td>\n",
       "      <td>4.0</td>\n",
       "      <td>0.0</td>\n",
       "      <td>0.0</td>\n",
       "    </tr>\n",
       "    <tr>\n",
       "      <th>337</th>\n",
       "      <td>GP</td>\n",
       "      <td>F</td>\n",
       "      <td>17</td>\n",
       "      <td>U</td>\n",
       "      <td>GT3</td>\n",
       "      <td>T</td>\n",
       "      <td>3.0</td>\n",
       "      <td>2.0</td>\n",
       "      <td>NaN</td>\n",
       "      <td>other</td>\n",
       "      <td>home</td>\n",
       "      <td>mother</td>\n",
       "      <td>1.0</td>\n",
       "      <td>2.0</td>\n",
       "      <td>0.0</td>\n",
       "      <td>no</td>\n",
       "      <td>yes</td>\n",
       "      <td>yes</td>\n",
       "      <td>no</td>\n",
       "      <td>yes</td>\n",
       "      <td>-6.0</td>\n",
       "      <td>yes</td>\n",
       "      <td>yes</td>\n",
       "      <td>yes</td>\n",
       "      <td>NaN</td>\n",
       "      <td>3.0</td>\n",
       "      <td>2.0</td>\n",
       "      <td>2.0</td>\n",
       "      <td>0.0</td>\n",
       "      <td>0.0</td>\n",
       "    </tr>\n",
       "    <tr>\n",
       "      <th>341</th>\n",
       "      <td>GP</td>\n",
       "      <td>M</td>\n",
       "      <td>18</td>\n",
       "      <td>U</td>\n",
       "      <td>GT3</td>\n",
       "      <td>T</td>\n",
       "      <td>4.0</td>\n",
       "      <td>4.0</td>\n",
       "      <td>teacher</td>\n",
       "      <td>NaN</td>\n",
       "      <td>home</td>\n",
       "      <td>father</td>\n",
       "      <td>1.0</td>\n",
       "      <td>2.0</td>\n",
       "      <td>1.0</td>\n",
       "      <td>no</td>\n",
       "      <td>yes</td>\n",
       "      <td>NaN</td>\n",
       "      <td>yes</td>\n",
       "      <td>NaN</td>\n",
       "      <td>-6.0</td>\n",
       "      <td>yes</td>\n",
       "      <td>yes</td>\n",
       "      <td>no</td>\n",
       "      <td>4.0</td>\n",
       "      <td>3.0</td>\n",
       "      <td>3.0</td>\n",
       "      <td>2.0</td>\n",
       "      <td>0.0</td>\n",
       "      <td>0.0</td>\n",
       "    </tr>\n",
       "    <tr>\n",
       "      <th>343</th>\n",
       "      <td>GP</td>\n",
       "      <td>F</td>\n",
       "      <td>17</td>\n",
       "      <td>U</td>\n",
       "      <td>GT3</td>\n",
       "      <td>A</td>\n",
       "      <td>2.0</td>\n",
       "      <td>2.0</td>\n",
       "      <td>at_home</td>\n",
       "      <td>at_home</td>\n",
       "      <td>home</td>\n",
       "      <td>father</td>\n",
       "      <td>1.0</td>\n",
       "      <td>2.0</td>\n",
       "      <td>1.0</td>\n",
       "      <td>no</td>\n",
       "      <td>yes</td>\n",
       "      <td>no</td>\n",
       "      <td>no</td>\n",
       "      <td>yes</td>\n",
       "      <td>-6.0</td>\n",
       "      <td>yes</td>\n",
       "      <td>yes</td>\n",
       "      <td>yes</td>\n",
       "      <td>3.0</td>\n",
       "      <td>3.0</td>\n",
       "      <td>1.0</td>\n",
       "      <td>4.0</td>\n",
       "      <td>0.0</td>\n",
       "      <td>0.0</td>\n",
       "    </tr>\n",
       "    <tr>\n",
       "      <th>367</th>\n",
       "      <td>MS</td>\n",
       "      <td>F</td>\n",
       "      <td>17</td>\n",
       "      <td>R</td>\n",
       "      <td>NaN</td>\n",
       "      <td>T</td>\n",
       "      <td>1.0</td>\n",
       "      <td>1.0</td>\n",
       "      <td>other</td>\n",
       "      <td>services</td>\n",
       "      <td>reputation</td>\n",
       "      <td>mother</td>\n",
       "      <td>3.0</td>\n",
       "      <td>1.0</td>\n",
       "      <td>1.0</td>\n",
       "      <td>no</td>\n",
       "      <td>yes</td>\n",
       "      <td>yes</td>\n",
       "      <td>no</td>\n",
       "      <td>yes</td>\n",
       "      <td>-3.0</td>\n",
       "      <td>yes</td>\n",
       "      <td>yes</td>\n",
       "      <td>yes</td>\n",
       "      <td>5.0</td>\n",
       "      <td>2.0</td>\n",
       "      <td>1.0</td>\n",
       "      <td>1.0</td>\n",
       "      <td>0.0</td>\n",
       "      <td>0.0</td>\n",
       "    </tr>\n",
       "    <tr>\n",
       "      <th>383</th>\n",
       "      <td>MS</td>\n",
       "      <td>M</td>\n",
       "      <td>19</td>\n",
       "      <td>R</td>\n",
       "      <td>GT3</td>\n",
       "      <td>T</td>\n",
       "      <td>1.0</td>\n",
       "      <td>1.0</td>\n",
       "      <td>other</td>\n",
       "      <td>services</td>\n",
       "      <td>other</td>\n",
       "      <td>mother</td>\n",
       "      <td>2.0</td>\n",
       "      <td>1.0</td>\n",
       "      <td>1.0</td>\n",
       "      <td>no</td>\n",
       "      <td>no</td>\n",
       "      <td>no</td>\n",
       "      <td>no</td>\n",
       "      <td>NaN</td>\n",
       "      <td>-3.0</td>\n",
       "      <td>yes</td>\n",
       "      <td>no</td>\n",
       "      <td>no</td>\n",
       "      <td>4.0</td>\n",
       "      <td>3.0</td>\n",
       "      <td>2.0</td>\n",
       "      <td>5.0</td>\n",
       "      <td>0.0</td>\n",
       "      <td>0.0</td>\n",
       "    </tr>\n",
       "    <tr>\n",
       "      <th>387</th>\n",
       "      <td>MS</td>\n",
       "      <td>F</td>\n",
       "      <td>19</td>\n",
       "      <td>R</td>\n",
       "      <td>GT3</td>\n",
       "      <td>T</td>\n",
       "      <td>2.0</td>\n",
       "      <td>3.0</td>\n",
       "      <td>services</td>\n",
       "      <td>other</td>\n",
       "      <td>course</td>\n",
       "      <td>mother</td>\n",
       "      <td>1.0</td>\n",
       "      <td>3.0</td>\n",
       "      <td>1.0</td>\n",
       "      <td>no</td>\n",
       "      <td>no</td>\n",
       "      <td>no</td>\n",
       "      <td>yes</td>\n",
       "      <td>no</td>\n",
       "      <td>-9.0</td>\n",
       "      <td>yes</td>\n",
       "      <td>yes</td>\n",
       "      <td>no</td>\n",
       "      <td>5.0</td>\n",
       "      <td>4.0</td>\n",
       "      <td>2.0</td>\n",
       "      <td>5.0</td>\n",
       "      <td>0.0</td>\n",
       "      <td>0.0</td>\n",
       "    </tr>\n",
       "    <tr>\n",
       "      <th>389</th>\n",
       "      <td>MS</td>\n",
       "      <td>F</td>\n",
       "      <td>18</td>\n",
       "      <td>U</td>\n",
       "      <td>GT3</td>\n",
       "      <td>T</td>\n",
       "      <td>1.0</td>\n",
       "      <td>1.0</td>\n",
       "      <td>other</td>\n",
       "      <td>other</td>\n",
       "      <td>course</td>\n",
       "      <td>mother</td>\n",
       "      <td>NaN</td>\n",
       "      <td>2.0</td>\n",
       "      <td>1.0</td>\n",
       "      <td>no</td>\n",
       "      <td>no</td>\n",
       "      <td>no</td>\n",
       "      <td>yes</td>\n",
       "      <td>yes</td>\n",
       "      <td>-6.0</td>\n",
       "      <td>yes</td>\n",
       "      <td>NaN</td>\n",
       "      <td>no</td>\n",
       "      <td>1.0</td>\n",
       "      <td>1.0</td>\n",
       "      <td>1.0</td>\n",
       "      <td>5.0</td>\n",
       "      <td>0.0</td>\n",
       "      <td>0.0</td>\n",
       "    </tr>\n",
       "  </tbody>\n",
       "</table>\n",
       "</div>"
      ],
      "text/plain": [
       "    school sex  age address famsize p_status  m_edu  f_edu     m_job  \\\n",
       "128     GP   M   18       R     NaN        T    2.0    2.0       NaN   \n",
       "130     GP   F   15       R     GT3        T    3.0    4.0  services   \n",
       "131     GP   F   15       U     GT3      NaN    1.0    1.0   at_home   \n",
       "134     GP   M   15       R     GT3        T    3.0    4.0   at_home   \n",
       "135     GP   F   15       U     GT3        T    4.0    4.0  services   \n",
       "136     GP   M   17       R     GT3        T    3.0    4.0   at_home   \n",
       "137     GP   F   16       U     GT3        A    3.0    NaN     other   \n",
       "140     GP   M   15       U     GT3        T    4.0    3.0   teacher   \n",
       "144     GP   M   17       U     GT3        T    2.0    1.0     other   \n",
       "146     GP   F   15       U     GT3        T    3.0    2.0    health   \n",
       "148     GP   M   16       U     GT3        T    4.0    4.0   teacher   \n",
       "150     GP   M   18       U     LE3        T    1.0    1.0     other   \n",
       "153     GP   M   19       U     GT3      NaN    3.0    2.0  services   \n",
       "160     GP   M   17       R     LE3        T    2.0    1.0   at_home   \n",
       "162     GP   M   16       U     LE3        T    1.0    2.0     other   \n",
       "168     GP   F   16     NaN     GT3        T    2.0    2.0     other   \n",
       "170     GP   M   16       U     GT3        T    3.0    4.0     other   \n",
       "173     GP   F   16       U     GT3        T    1.0    3.0   at_home   \n",
       "221     GP   F   17       U     NaN        T    1.0    1.0   at_home   \n",
       "239     GP   M   18       U     GT3      NaN    NaN    2.0     other   \n",
       "242     GP   M   16       U     LE3        T    4.0    3.0   teacher   \n",
       "259     GP   F   17       U     LE3        T    2.0    NaN  services   \n",
       "264     GP   F   18       U     GT3        T    2.0    2.0   at_home   \n",
       "269     GP   F   18       R     GT3        T    2.0    1.0     other   \n",
       "296     GP   F   19       U     GT3        T    4.0    4.0    health   \n",
       "310     GP   F   19       U     LE3        T    1.0    NaN  services   \n",
       "316     GP   F   18       U     GT3        T    2.0    1.0  services   \n",
       "332     GP   F   18       U     GT3        T    3.0    3.0  services   \n",
       "333     GP   F   18       U     LE3      NaN    2.0    2.0     other   \n",
       "334     GP   F   18       R     GT3        T    2.0    2.0   at_home   \n",
       "337     GP   F   17       U     GT3        T    3.0    2.0       NaN   \n",
       "341     GP   M   18       U     GT3        T    4.0    4.0   teacher   \n",
       "343     GP   F   17       U     GT3        A    2.0    2.0   at_home   \n",
       "367     MS   F   17       R     NaN        T    1.0    1.0     other   \n",
       "383     MS   M   19       R     GT3        T    1.0    1.0     other   \n",
       "387     MS   F   19       R     GT3        T    2.0    3.0  services   \n",
       "389     MS   F   18       U     GT3        T    1.0    1.0     other   \n",
       "\n",
       "        f_job      reason guardian  traveltime  studytime  failures schoolsup  \\\n",
       "128     other  reputation   mother         1.0        1.0       2.0        no   \n",
       "130   teacher      course   father         2.0        3.0       2.0        no   \n",
       "131     other      course   mother         3.0        1.0       0.0        no   \n",
       "134   teacher      course   mother         NaN        2.0       0.0        no   \n",
       "135       NaN      course   mother         1.0        3.0       0.0        no   \n",
       "136     other      course   mother         3.0        2.0       0.0        no   \n",
       "137     other         NaN    other         NaN        1.0       2.0        no   \n",
       "140  services         NaN   father         2.0        4.0       0.0       yes   \n",
       "144     other        home      NaN         1.0        1.0       3.0        no   \n",
       "146  services        home   father         1.0        2.0       3.0        no   \n",
       "148   teacher      course   mother         1.0        1.0       0.0        no   \n",
       "150     other      course   mother         1.0        1.0       3.0        no   \n",
       "153   at_home        home   mother         1.0        1.0       NaN        no   \n",
       "160       NaN      course   mother         NaN        1.0       2.0        no   \n",
       "162     other      course   mother         2.0        1.0       1.0        no   \n",
       "168     other        home   mother         1.0        2.0       0.0        no   \n",
       "170     other      course   father         3.0        1.0       NaN        no   \n",
       "173  services        home      NaN         1.0        2.0       3.0        no   \n",
       "221     other  reputation   mother         1.0        3.0       1.0        no   \n",
       "239  services  reputation   father         1.0        2.0       1.0        no   \n",
       "242     other      course   mother         1.0        1.0       0.0        no   \n",
       "259  services      course   father         1.0        4.0       0.0        no   \n",
       "264  services        home   mother         1.0        3.0       0.0        no   \n",
       "269     other  reputation   mother         2.0        2.0       0.0        no   \n",
       "296     other  reputation    other         2.0        2.0       0.0        no   \n",
       "310  services        home    other         NaN        2.0       1.0        no   \n",
       "316       NaN      course   mother         2.0        2.0       0.0        no   \n",
       "332  services        home   mother         1.0        2.0       0.0        no   \n",
       "333     other        home    other         1.0        2.0       0.0        no   \n",
       "334     other      course   mother         2.0        4.0       0.0        no   \n",
       "337     other        home   mother         1.0        2.0       0.0        no   \n",
       "341       NaN        home   father         1.0        2.0       1.0        no   \n",
       "343   at_home        home   father         1.0        2.0       1.0        no   \n",
       "367  services  reputation   mother         3.0        1.0       1.0        no   \n",
       "383  services       other   mother         2.0        1.0       1.0        no   \n",
       "387     other      course   mother         1.0        3.0       1.0        no   \n",
       "389     other      course   mother         NaN        2.0       1.0        no   \n",
       "\n",
       "    famsup paid activities nursery  studytime_g higher internet romantic  \\\n",
       "128    yes   no        yes     yes         -3.0    yes      yes       no   \n",
       "130    yes   no         no     yes         -9.0    yes      yes      yes   \n",
       "131    yes   no        yes      no         -3.0    yes      yes      yes   \n",
       "134    yes   no         no     yes         -6.0    yes       no      yes   \n",
       "135    yes   no        yes     yes         -9.0    yes      yes      yes   \n",
       "136     no  NaN         no     yes         -6.0    yes       no       no   \n",
       "137    yes   no        yes      no         -3.0    yes      yes      yes   \n",
       "140    yes   no        NaN     yes        -12.0    yes      yes       no   \n",
       "144    yes   no         no     yes         -3.0    yes      yes       no   \n",
       "146    NaN   no         no     yes         -6.0    yes      yes       no   \n",
       "148    yes  NaN         no     yes         -3.0     no      yes      yes   \n",
       "150     no   no         no     yes         -3.0     no      yes      yes   \n",
       "153    yes   no         no     yes         -3.0     no      yes      yes   \n",
       "160     no   no        NaN     yes         -3.0     no      yes      yes   \n",
       "162     no   no        yes     yes         -3.0    yes      NaN      NaN   \n",
       "168    yes  yes         no      no         -6.0    yes      yes       no   \n",
       "170    yes   no        yes      no         -3.0    NaN      yes       no   \n",
       "173     no   no        yes      no         -6.0    yes      yes      yes   \n",
       "221    yes   no        yes     yes         -9.0    yes       no      yes   \n",
       "239     no   no         no     yes         -6.0     no      NaN      NaN   \n",
       "242     no   no        yes      no         -3.0    yes      yes       no   \n",
       "259     no  yes        yes     yes        -12.0    yes      NaN      yes   \n",
       "264    yes  yes        yes     yes         -9.0    yes      yes      yes   \n",
       "269    NaN   no         no     yes         -6.0     no      yes      yes   \n",
       "296    yes  yes        yes     yes         -6.0    yes      yes       no   \n",
       "310     no   no        yes      no         -6.0    yes       no      yes   \n",
       "316    yes  yes        yes     yes         -6.0    yes      yes       no   \n",
       "332     no   no        yes     NaN         -6.0    yes      yes       no   \n",
       "333     no   no        yes      no         -6.0    yes      NaN      yes   \n",
       "334     no   no        yes     yes        -12.0    yes       no       no   \n",
       "337    yes  yes         no     yes         -6.0    yes      yes      yes   \n",
       "341    yes  NaN        yes     NaN         -6.0    yes      yes       no   \n",
       "343    yes   no         no     yes         -6.0    yes      yes      yes   \n",
       "367    yes  yes         no     yes         -3.0    yes      yes      yes   \n",
       "383     no   no         no     NaN         -3.0    yes       no       no   \n",
       "387     no   no        yes      no         -9.0    yes      yes       no   \n",
       "389     no   no        yes     yes         -6.0    yes      NaN       no   \n",
       "\n",
       "     famrel  freetime  goout  health  absences  score  \n",
       "128     3.0       3.0    3.0     4.0       0.0    0.0  \n",
       "130     4.0       2.0    2.0     5.0       0.0    0.0  \n",
       "131     4.0       NaN    3.0     4.0       0.0    0.0  \n",
       "134     5.0       3.0    3.0     5.0       0.0    0.0  \n",
       "135     4.0       3.0    3.0     5.0       0.0    0.0  \n",
       "136     NaN       4.0    5.0     5.0       0.0    0.0  \n",
       "137     4.0       3.0    2.0     5.0       0.0    0.0  \n",
       "140     2.0       2.0    2.0     3.0       0.0    0.0  \n",
       "144     5.0       4.0    5.0     5.0       0.0    0.0  \n",
       "146     3.0       3.0    2.0     3.0       0.0    0.0  \n",
       "148     3.0       3.0    2.0     5.0       0.0    0.0  \n",
       "150     2.0       3.0    5.0     4.0       NaN    0.0  \n",
       "153     4.0       5.0    4.0     NaN       0.0    0.0  \n",
       "160     NaN       3.0    2.0     5.0       0.0    0.0  \n",
       "162     4.0       4.0    4.0     5.0       0.0    0.0  \n",
       "168     5.0       1.0    5.0     4.0       0.0    0.0  \n",
       "170     3.0       4.0    5.0     2.0       0.0    0.0  \n",
       "173     4.0       3.0    5.0     3.0       0.0    0.0  \n",
       "221     4.0       3.0    NaN     5.0       0.0    0.0  \n",
       "239     5.0       5.0    4.0     2.0       0.0    0.0  \n",
       "242     5.0       4.0    5.0     3.0       0.0    0.0  \n",
       "259     3.0       4.0    1.0     NaN       0.0    0.0  \n",
       "264     4.0       3.0    3.0     3.0       0.0    0.0  \n",
       "269     4.0       3.0    5.0     3.0       0.0    0.0  \n",
       "296     2.0       3.0    4.0     2.0       0.0    0.0  \n",
       "310     4.0       2.0    4.0     3.0       0.0    0.0  \n",
       "316     5.0       3.0    3.0     1.0       0.0    0.0  \n",
       "332     5.0       3.0    4.0     4.0       0.0    0.0  \n",
       "333     4.0       3.0    3.0     2.0       0.0    0.0  \n",
       "334     4.0       4.0    4.0     4.0       0.0    0.0  \n",
       "337     NaN       3.0    2.0     2.0       0.0    0.0  \n",
       "341     4.0       3.0    3.0     2.0       0.0    0.0  \n",
       "343     3.0       3.0    1.0     4.0       0.0    0.0  \n",
       "367     5.0       2.0    1.0     1.0       0.0    0.0  \n",
       "383     4.0       3.0    2.0     5.0       0.0    0.0  \n",
       "387     5.0       4.0    2.0     5.0       0.0    0.0  \n",
       "389     1.0       1.0    1.0     5.0       0.0    0.0  "
      ]
     },
     "execution_count": 75,
     "metadata": {},
     "output_type": "execute_result"
    }
   ],
   "source": [
    "stud[stud.score == 0]"
   ]
  },
  {
   "cell_type": "markdown",
   "id": "5747b2a0-eb8c-4d89-8414-6b0e36c0b126",
   "metadata": {},
   "source": [
    "__Нулевые оценки - это, скорей всего, ошибочные данные, т.к. получить ноль по гос.экзамену, скорей всего, невозможно.\n",
    "Тем более что эти дети не пропустили ни одного занятия. И строки с ними визуально мало чем отличаются от других детей по значениям других признаков.\n",
    "Удалим из таблицы нулевые оценки и посмотрим на данные еще раз.__"
   ]
  },
  {
   "cell_type": "code",
   "execution_count": 76,
   "id": "677e89e3-0bc5-4d67-8b02-ee75c882ac23",
   "metadata": {},
   "outputs": [
    {
     "name": "stdout",
     "output_type": "stream",
     "text": [
      "\n",
      " Метрики столбца score\n"
     ]
    },
    {
     "data": {
      "text/plain": [
       "count    352.000000\n",
       "mean      57.755682\n",
       "std       16.200928\n",
       "min       20.000000\n",
       "25%       45.000000\n",
       "50%       55.000000\n",
       "75%       70.000000\n",
       "max      100.000000\n",
       "Name: score, dtype: float64"
      ]
     },
     "metadata": {},
     "output_type": "display_data"
    },
    {
     "name": "stdout",
     "output_type": "stream",
     "text": [
      "\n",
      " Количество различных оценок\n"
     ]
    },
    {
     "data": {
      "text/plain": [
       "20.0      1\n",
       "25.0      7\n",
       "30.0     15\n",
       "35.0      9\n",
       "40.0     31\n",
       "45.0     27\n",
       "50.0     54\n",
       "55.0     46\n",
       "60.0     31\n",
       "65.0     31\n",
       "70.0     27\n",
       "75.0     33\n",
       "80.0     16\n",
       "85.0      6\n",
       "90.0     12\n",
       "95.0      5\n",
       "100.0     1\n",
       "Name: score, dtype: int64"
      ]
     },
     "metadata": {},
     "output_type": "display_data"
    },
    {
     "name": "stdout",
     "output_type": "stream",
     "text": [
      "\n",
      " Гистограмма столбца score\n"
     ]
    },
    {
     "data": {
      "text/plain": [
       "<AxesSubplot:>"
      ]
     },
     "execution_count": 76,
     "metadata": {},
     "output_type": "execute_result"
    },
    {
     "data": {
      "image/png": "[encoded data removed]",
      "text/plain": [
       "<Figure size 432x288 with 1 Axes>"
      ]
     },
     "metadata": {
      "needs_background": "light"
     },
     "output_type": "display_data"
    }
   ],
   "source": [
    "stud = stud.loc[stud.score != 0]\n",
    "print(\"\\n Метрики столбца score\")\n",
    "display(stud.score.describe())\n",
    "\n",
    "print(\"\\n Количество различных оценок\")\n",
    "display(stud.score.value_counts().sort_index())\n",
    "\n",
    "print(\"\\n Гистограмма столбца score\")\n",
    "stud.score.hist(bins=100)"
   ]
  },
  {
   "cell_type": "markdown",
   "id": "e2c02c31-43f4-493d-a08b-f83ad1734f17",
   "metadata": {},
   "source": [
    "__стандартное отклонение уменьшилось, что означает, что разброс средних значений стал меньше, т.е. данные стали плотнее вокруг среднего__"
   ]
  },
  {
   "cell_type": "code",
   "execution_count": 77,
   "id": "8fe3fdae-e199-49b9-b3cd-4744c2771e3c",
   "metadata": {},
   "outputs": [
    {
     "name": "stdout",
     "output_type": "stream",
     "text": [
      "25-й перцентиль: 45.0, 75-й перцентиль: 70.0, IQR: 25.0,  Границы выбросов: [7.5, 107.5].\n"
     ]
    },
    {
     "data": {
      "image/png": "[encoded data removed]",
      "text/plain": [
       "<Figure size 432x288 with 1 Axes>"
      ]
     },
     "metadata": {
      "needs_background": "light"
     },
     "output_type": "display_data"
    }
   ],
   "source": [
    "# считаем выбросы оценок и смотрим их на гистограмме, но не удаляем выбросы из таблицы.\n",
    "\n",
    "perc25 = stud.score.quantile(0.25)\n",
    "perc75 = stud.score.quantile(0.75)\n",
    "IQR = perc75 - perc25\n",
    "\n",
    "print(\n",
    "    \"25-й перцентиль: {},\".format(perc25),\n",
    "    \"75-й перцентиль: {},\".format(perc75),\n",
    "    \"IQR: {}, \".format(IQR),\n",
    "    \"Границы выбросов: [{f}, {l}].\".format(f=perc25 - 1.5 * IQR, l=perc75 + 1.5 * IQR),\n",
    ")\n",
    "\n",
    "stud.score.loc[stud.score.between(perc25 - 1.5 * IQR, perc75 + 1.5 * IQR)].hist(\n",
    "    bins=40, range=(20, 100), label=\"IQR\"\n",
    ")\n",
    "\n",
    "plt.legend();"
   ]
  },
  {
   "cell_type": "markdown",
   "id": "16ddf25e-f11b-4384-a291-d6de52b6d6dd",
   "metadata": {},
   "source": [
    "__Теперь в даных по оценкам нет выбросов.\n",
    "А распределение оценок похоже на нормальное\n",
    "Посмотрим на корреляцию оценок с другими числовыми признаками__\n"
   ]
  },
  {
   "cell_type": "code",
   "execution_count": 78,
   "id": "6ae7e235-d62f-4ed6-b306-824432f02b2e",
   "metadata": {},
   "outputs": [
    {
     "data": {
      "text/html": [
       "<div>\n",
       "<style scoped>\n",
       "    .dataframe tbody tr th:only-of-type {\n",
       "        vertical-align: middle;\n",
       "    }\n",
       "\n",
       "    .dataframe tbody tr th {\n",
       "        vertical-align: top;\n",
       "    }\n",
       "\n",
       "    .dataframe thead th {\n",
       "        text-align: right;\n",
       "    }\n",
       "</style>\n",
       "<table border=\"1\" class=\"dataframe\">\n",
       "  <thead>\n",
       "    <tr style=\"text-align: right;\">\n",
       "      <th></th>\n",
       "      <th>age</th>\n",
       "      <th>m_edu</th>\n",
       "      <th>f_edu</th>\n",
       "      <th>traveltime</th>\n",
       "      <th>studytime</th>\n",
       "      <th>failures</th>\n",
       "      <th>studytime_g</th>\n",
       "      <th>famrel</th>\n",
       "      <th>freetime</th>\n",
       "      <th>goout</th>\n",
       "      <th>health</th>\n",
       "      <th>absences</th>\n",
       "      <th>score</th>\n",
       "    </tr>\n",
       "  </thead>\n",
       "  <tbody>\n",
       "    <tr>\n",
       "      <th>age</th>\n",
       "      <td>1.000000</td>\n",
       "      <td>-0.141398</td>\n",
       "      <td>-0.128343</td>\n",
       "      <td>0.104216</td>\n",
       "      <td>-0.008716</td>\n",
       "      <td>0.262303</td>\n",
       "      <td>0.008716</td>\n",
       "      <td>0.083318</td>\n",
       "      <td>0.019367</td>\n",
       "      <td>0.139860</td>\n",
       "      <td>-0.053792</td>\n",
       "      <td>0.108507</td>\n",
       "      <td>-0.131542</td>\n",
       "    </tr>\n",
       "    <tr>\n",
       "      <th>m_edu</th>\n",
       "      <td>-0.141398</td>\n",
       "      <td>1.000000</td>\n",
       "      <td>0.253011</td>\n",
       "      <td>-0.174105</td>\n",
       "      <td>0.068027</td>\n",
       "      <td>-0.215006</td>\n",
       "      <td>-0.068027</td>\n",
       "      <td>-0.012861</td>\n",
       "      <td>0.007068</td>\n",
       "      <td>0.070731</td>\n",
       "      <td>-0.034891</td>\n",
       "      <td>-0.024321</td>\n",
       "      <td>0.186477</td>\n",
       "    </tr>\n",
       "    <tr>\n",
       "      <th>f_edu</th>\n",
       "      <td>-0.128343</td>\n",
       "      <td>0.253011</td>\n",
       "      <td>1.000000</td>\n",
       "      <td>0.033026</td>\n",
       "      <td>0.046579</td>\n",
       "      <td>-0.143204</td>\n",
       "      <td>-0.046579</td>\n",
       "      <td>0.044080</td>\n",
       "      <td>-0.075707</td>\n",
       "      <td>-0.030944</td>\n",
       "      <td>0.028293</td>\n",
       "      <td>0.001427</td>\n",
       "      <td>0.069842</td>\n",
       "    </tr>\n",
       "    <tr>\n",
       "      <th>traveltime</th>\n",
       "      <td>0.104216</td>\n",
       "      <td>-0.174105</td>\n",
       "      <td>0.033026</td>\n",
       "      <td>1.000000</td>\n",
       "      <td>-0.097440</td>\n",
       "      <td>0.107639</td>\n",
       "      <td>0.097440</td>\n",
       "      <td>-0.012472</td>\n",
       "      <td>-0.018409</td>\n",
       "      <td>0.035267</td>\n",
       "      <td>-0.010930</td>\n",
       "      <td>-0.047761</td>\n",
       "      <td>-0.075516</td>\n",
       "    </tr>\n",
       "    <tr>\n",
       "      <th>studytime</th>\n",
       "      <td>-0.008716</td>\n",
       "      <td>0.068027</td>\n",
       "      <td>0.046579</td>\n",
       "      <td>-0.097440</td>\n",
       "      <td>1.000000</td>\n",
       "      <td>-0.152980</td>\n",
       "      <td>-1.000000</td>\n",
       "      <td>0.063252</td>\n",
       "      <td>-0.125352</td>\n",
       "      <td>-0.027164</td>\n",
       "      <td>-0.086351</td>\n",
       "      <td>-0.031132</td>\n",
       "      <td>0.142055</td>\n",
       "    </tr>\n",
       "    <tr>\n",
       "      <th>failures</th>\n",
       "      <td>0.262303</td>\n",
       "      <td>-0.215006</td>\n",
       "      <td>-0.143204</td>\n",
       "      <td>0.107639</td>\n",
       "      <td>-0.152980</td>\n",
       "      <td>1.000000</td>\n",
       "      <td>0.152980</td>\n",
       "      <td>0.002970</td>\n",
       "      <td>0.133837</td>\n",
       "      <td>0.142730</td>\n",
       "      <td>0.057055</td>\n",
       "      <td>0.087122</td>\n",
       "      <td>-0.289377</td>\n",
       "    </tr>\n",
       "    <tr>\n",
       "      <th>studytime_g</th>\n",
       "      <td>0.008716</td>\n",
       "      <td>-0.068027</td>\n",
       "      <td>-0.046579</td>\n",
       "      <td>0.097440</td>\n",
       "      <td>-1.000000</td>\n",
       "      <td>0.152980</td>\n",
       "      <td>1.000000</td>\n",
       "      <td>-0.063252</td>\n",
       "      <td>0.125352</td>\n",
       "      <td>0.027164</td>\n",
       "      <td>0.086351</td>\n",
       "      <td>0.031132</td>\n",
       "      <td>-0.142055</td>\n",
       "    </tr>\n",
       "    <tr>\n",
       "      <th>famrel</th>\n",
       "      <td>0.083318</td>\n",
       "      <td>-0.012861</td>\n",
       "      <td>0.044080</td>\n",
       "      <td>-0.012472</td>\n",
       "      <td>0.063252</td>\n",
       "      <td>0.002970</td>\n",
       "      <td>-0.063252</td>\n",
       "      <td>1.000000</td>\n",
       "      <td>0.163971</td>\n",
       "      <td>0.056368</td>\n",
       "      <td>0.093502</td>\n",
       "      <td>-0.089903</td>\n",
       "      <td>0.046717</td>\n",
       "    </tr>\n",
       "    <tr>\n",
       "      <th>freetime</th>\n",
       "      <td>0.019367</td>\n",
       "      <td>0.007068</td>\n",
       "      <td>-0.075707</td>\n",
       "      <td>-0.018409</td>\n",
       "      <td>-0.125352</td>\n",
       "      <td>0.133837</td>\n",
       "      <td>0.125352</td>\n",
       "      <td>0.163971</td>\n",
       "      <td>1.000000</td>\n",
       "      <td>0.296358</td>\n",
       "      <td>0.069779</td>\n",
       "      <td>0.005969</td>\n",
       "      <td>-0.012457</td>\n",
       "    </tr>\n",
       "    <tr>\n",
       "      <th>goout</th>\n",
       "      <td>0.139860</td>\n",
       "      <td>0.070731</td>\n",
       "      <td>-0.030944</td>\n",
       "      <td>0.035267</td>\n",
       "      <td>-0.027164</td>\n",
       "      <td>0.142730</td>\n",
       "      <td>0.027164</td>\n",
       "      <td>0.056368</td>\n",
       "      <td>0.296358</td>\n",
       "      <td>1.000000</td>\n",
       "      <td>-0.007655</td>\n",
       "      <td>-0.051667</td>\n",
       "      <td>-0.182286</td>\n",
       "    </tr>\n",
       "    <tr>\n",
       "      <th>health</th>\n",
       "      <td>-0.053792</td>\n",
       "      <td>-0.034891</td>\n",
       "      <td>0.028293</td>\n",
       "      <td>-0.010930</td>\n",
       "      <td>-0.086351</td>\n",
       "      <td>0.057055</td>\n",
       "      <td>0.086351</td>\n",
       "      <td>0.093502</td>\n",
       "      <td>0.069779</td>\n",
       "      <td>-0.007655</td>\n",
       "      <td>1.000000</td>\n",
       "      <td>-0.014346</td>\n",
       "      <td>-0.075340</td>\n",
       "    </tr>\n",
       "    <tr>\n",
       "      <th>absences</th>\n",
       "      <td>0.108507</td>\n",
       "      <td>-0.024321</td>\n",
       "      <td>0.001427</td>\n",
       "      <td>-0.047761</td>\n",
       "      <td>-0.031132</td>\n",
       "      <td>0.087122</td>\n",
       "      <td>0.031132</td>\n",
       "      <td>-0.089903</td>\n",
       "      <td>0.005969</td>\n",
       "      <td>-0.051667</td>\n",
       "      <td>-0.014346</td>\n",
       "      <td>1.000000</td>\n",
       "      <td>-0.014039</td>\n",
       "    </tr>\n",
       "    <tr>\n",
       "      <th>score</th>\n",
       "      <td>-0.131542</td>\n",
       "      <td>0.186477</td>\n",
       "      <td>0.069842</td>\n",
       "      <td>-0.075516</td>\n",
       "      <td>0.142055</td>\n",
       "      <td>-0.289377</td>\n",
       "      <td>-0.142055</td>\n",
       "      <td>0.046717</td>\n",
       "      <td>-0.012457</td>\n",
       "      <td>-0.182286</td>\n",
       "      <td>-0.075340</td>\n",
       "      <td>-0.014039</td>\n",
       "      <td>1.000000</td>\n",
       "    </tr>\n",
       "  </tbody>\n",
       "</table>\n",
       "</div>"
      ],
      "text/plain": [
       "                  age     m_edu     f_edu  traveltime  studytime  failures  \\\n",
       "age          1.000000 -0.141398 -0.128343    0.104216  -0.008716  0.262303   \n",
       "m_edu       -0.141398  1.000000  0.253011   -0.174105   0.068027 -0.215006   \n",
       "f_edu       -0.128343  0.253011  1.000000    0.033026   0.046579 -0.143204   \n",
       "traveltime   0.104216 -0.174105  0.033026    1.000000  -0.097440  0.107639   \n",
       "studytime   -0.008716  0.068027  0.046579   -0.097440   1.000000 -0.152980   \n",
       "failures     0.262303 -0.215006 -0.143204    0.107639  -0.152980  1.000000   \n",
       "studytime_g  0.008716 -0.068027 -0.046579    0.097440  -1.000000  0.152980   \n",
       "famrel       0.083318 -0.012861  0.044080   -0.012472   0.063252  0.002970   \n",
       "freetime     0.019367  0.007068 -0.075707   -0.018409  -0.125352  0.133837   \n",
       "goout        0.139860  0.070731 -0.030944    0.035267  -0.027164  0.142730   \n",
       "health      -0.053792 -0.034891  0.028293   -0.010930  -0.086351  0.057055   \n",
       "absences     0.108507 -0.024321  0.001427   -0.047761  -0.031132  0.087122   \n",
       "score       -0.131542  0.186477  0.069842   -0.075516   0.142055 -0.289377   \n",
       "\n",
       "             studytime_g    famrel  freetime     goout    health  absences  \\\n",
       "age             0.008716  0.083318  0.019367  0.139860 -0.053792  0.108507   \n",
       "m_edu          -0.068027 -0.012861  0.007068  0.070731 -0.034891 -0.024321   \n",
       "f_edu          -0.046579  0.044080 -0.075707 -0.030944  0.028293  0.001427   \n",
       "traveltime      0.097440 -0.012472 -0.018409  0.035267 -0.010930 -0.047761   \n",
       "studytime      -1.000000  0.063252 -0.125352 -0.027164 -0.086351 -0.031132   \n",
       "failures        0.152980  0.002970  0.133837  0.142730  0.057055  0.087122   \n",
       "studytime_g     1.000000 -0.063252  0.125352  0.027164  0.086351  0.031132   \n",
       "famrel         -0.063252  1.000000  0.163971  0.056368  0.093502 -0.089903   \n",
       "freetime        0.125352  0.163971  1.000000  0.296358  0.069779  0.005969   \n",
       "goout           0.027164  0.056368  0.296358  1.000000 -0.007655 -0.051667   \n",
       "health          0.086351  0.093502  0.069779 -0.007655  1.000000 -0.014346   \n",
       "absences        0.031132 -0.089903  0.005969 -0.051667 -0.014346  1.000000   \n",
       "score          -0.142055  0.046717 -0.012457 -0.182286 -0.075340 -0.014039   \n",
       "\n",
       "                score  \n",
       "age         -0.131542  \n",
       "m_edu        0.186477  \n",
       "f_edu        0.069842  \n",
       "traveltime  -0.075516  \n",
       "studytime    0.142055  \n",
       "failures    -0.289377  \n",
       "studytime_g -0.142055  \n",
       "famrel       0.046717  \n",
       "freetime    -0.012457  \n",
       "goout       -0.182286  \n",
       "health      -0.075340  \n",
       "absences    -0.014039  \n",
       "score        1.000000  "
      ]
     },
     "execution_count": 78,
     "metadata": {},
     "output_type": "execute_result"
    }
   ],
   "source": [
    "stud.corr()"
   ]
  },
  {
   "cell_type": "markdown",
   "id": "6aefdc60-8491-4f01-bc74-843b3d1386f3",
   "metadata": {},
   "source": [
    "__age: Возраст влияет на оценку отрицательно. Чем больше возраст, тем ниже оценка.__\n",
    "\n",
    "__m_edu: Образование матери влияет на оценку положительно, чем оно выше, тем выше оценка. Также наблюдается корреляция между m_edu и f_edu. Поэтому столбец f_edu потенциально можно было бы исключить из рассмотрения.__\n",
    "\n",
    "__studytime: Время на учебу помимо школы влияет на оценку положительно, чем оно больше, тем выше оценка.__\n",
    "\n",
    "__studytime_g: он и studytime имеют коэффициент корреляции -1. Значит от столбца studytime_g можно избавиться, т.к. он является зеркальным отображением столбца studytime__\n",
    "\n",
    "__failures: Количество внеучебных неудач сильно влияет на оценку отрицательным образом.__\n",
    "\n",
    "__goout: Проведение времени с друзьями отрицательно влияет на оценку.__\n",
    "\n",
    "__Остальные числовые атрибуты ученика влияют на оценку незначительно, т.к. не превышают значения 0.1 .__"
   ]
  },
  {
   "cell_type": "code",
   "execution_count": 79,
   "id": "4fdba10f-2797-4dd5-8874-069dc0ef1f29",
   "metadata": {},
   "outputs": [],
   "source": [
    "# удаляем столбец studytime_g\n",
    "stud.drop(\"studytime_g\", axis=1, inplace=True)"
   ]
  },
  {
   "cell_type": "markdown",
   "id": "1d60940d-84f9-451e-9778-5ae19a027107",
   "metadata": {},
   "source": [
    "***\n",
    "## 3 sex Пол "
   ]
  },
  {
   "cell_type": "code",
   "execution_count": 80,
   "id": "845d5bf8-1e40-41ee-ab4a-7eacda0c0bfb",
   "metadata": {},
   "outputs": [
    {
     "name": "stdout",
     "output_type": "stream",
     "text": [
      "Количество уникальных значений: 2\n",
      "Количество пустых значений: 0\n",
      "F    186\n",
      "M    172\n",
      "Name: sex, dtype: int64\n"
     ]
    },
    {
     "data": {
      "image/png": "[encoded data removed]",
      "text/plain": [
       "<Figure size 1008x288 with 1 Axes>"
      ]
     },
     "metadata": {
      "needs_background": "light"
     },
     "output_type": "display_data"
    }
   ],
   "source": [
    "gentleman_func_set(\"sex\")"
   ]
  },
  {
   "cell_type": "markdown",
   "id": "d2d70d2d-753d-4251-9b51-4473d27448d9",
   "metadata": {},
   "source": [
    "__В столбце нет пропусков.__\n",
    "\n",
    "__Медианная оценка у мальчиков и девочек одинаковая. Но в целом мальчики получают более высокие оценки, чем девочки. Столбец не удаляем, т.к. пол все же влияет на оценку__"
   ]
  },
  {
   "cell_type": "markdown",
   "id": "6028adaa-ffbe-4dd8-82e3-e9f2044a7a3d",
   "metadata": {},
   "source": [
    "## 4 age Возраст"
   ]
  },
  {
   "cell_type": "code",
   "execution_count": 81,
   "id": "a9d3c35f-58b0-424e-aa0a-af5848a917f8",
   "metadata": {},
   "outputs": [
    {
     "name": "stdout",
     "output_type": "stream",
     "text": [
      "Количество уникальных значений: 8\n",
      "Количество пустых значений: 0\n",
      "16    97\n",
      "17    90\n",
      "15    76\n",
      "18    71\n",
      "19    19\n",
      "20     3\n",
      "21     1\n",
      "22     1\n",
      "Name: age, dtype: int64\n"
     ]
    },
    {
     "data": {
      "image/png": "[encoded data removed]",
      "text/plain": [
       "<Figure size 1008x288 with 1 Axes>"
      ]
     },
     "metadata": {
      "needs_background": "light"
     },
     "output_type": "display_data"
    }
   ],
   "source": [
    "gentleman_func_set(\"age\")"
   ]
  },
  {
   "cell_type": "markdown",
   "id": "3419c689-b2b0-4f11-a030-856a801edf32",
   "metadata": {},
   "source": [
    "__Для возрастов 20, 21, 22 слишком мало наблюдений, поэтому мы эти данные удаляем.__"
   ]
  },
  {
   "cell_type": "code",
   "execution_count": 82,
   "id": "4ba6345a-79ce-4006-97b9-9ac13682f1b3",
   "metadata": {},
   "outputs": [],
   "source": [
    "stud = stud[stud.age < 20]"
   ]
  },
  {
   "cell_type": "markdown",
   "id": "30f41a8a-84c1-49dd-a431-c14324034b4a",
   "metadata": {},
   "source": [
    "## 5 address Тип адреса"
   ]
  },
  {
   "cell_type": "code",
   "execution_count": 83,
   "id": "acdb1067-de5d-406c-8d2d-a7a5ab36a646",
   "metadata": {},
   "outputs": [],
   "source": [
    "# заменяем буквы U и R на \"Город\" и \"За городом\"\n",
    "stud.address = stud.address.apply(\n",
    "    lambda x: \"Город\" if x == \"U\" else \"За городом\" if x == \"R\" else \"NaN\"\n",
    ")"
   ]
  },
  {
   "cell_type": "code",
   "execution_count": 84,
   "id": "d623c1ad-b5c1-4aae-be93-a020b538ffe4",
   "metadata": {},
   "outputs": [
    {
     "name": "stdout",
     "output_type": "stream",
     "text": [
      "Количество уникальных значений: 3\n",
      "Количество пустых значений: 0\n",
      "Город         266\n",
      "За городом     72\n",
      "NaN            15\n",
      "Name: address, dtype: int64\n"
     ]
    },
    {
     "data": {
      "image/png": "[encoded data removed]",
      "text/plain": [
       "<Figure size 1008x288 with 1 Axes>"
      ]
     },
     "metadata": {
      "needs_background": "light"
     },
     "output_type": "display_data"
    }
   ],
   "source": [
    "gentleman_func_set(\"address\")"
   ]
  },
  {
   "cell_type": "markdown",
   "id": "fdea62e4-4aec-409b-9789-4b1cb084d207",
   "metadata": {},
   "source": [
    "__Медианные оценки для городских и загородных учеников одинаковые. Но у городских учеников в целом оценки выше, хотя и минимальные оценки у них ниже.__\n",
    "__Принять решение об удалении пустых значений можно будет потом, при проработке модели. Сейчас удалять их не нужно, т.к. они, возможно, содержат значения, заполненные в других столбцах, которые сильно повлияют на модель__ "
   ]
  },
  {
   "cell_type": "markdown",
   "id": "7fdcae10-6592-4bb8-91fd-c5cd4189c16c",
   "metadata": {},
   "source": [
    "## 6 famsize Размер семьи"
   ]
  },
  {
   "cell_type": "code",
   "execution_count": 85,
   "id": "fdb20fb5-154a-4730-bbee-aa8dbed75bd0",
   "metadata": {},
   "outputs": [],
   "source": [
    "# заменяем обозначения размеров семьи на более понятные русские слова\n",
    "stud.famsize = stud.famsize.apply(\n",
    "    lambda x: \"Меньше или равно 3-м человекам\"\n",
    "    if x == \"LE3\"\n",
    "    else \"Больше 3-х человек\"\n",
    "    if x == \"GT3\"\n",
    "    else \"NaN\"\n",
    ")"
   ]
  },
  {
   "cell_type": "code",
   "execution_count": 86,
   "id": "6ba03d3e-780b-41ec-8b15-4c4299178bb2",
   "metadata": {},
   "outputs": [
    {
     "name": "stdout",
     "output_type": "stream",
     "text": [
      "famsize                         p_status\n",
      "NaN                             T            17\n",
      "                                A             3\n",
      "Больше 3-х человек              T           188\n",
      "                                A            17\n",
      "Меньше или равно 3-м человекам  T            75\n",
      "                                A            12\n",
      "Name: p_status, dtype: int64\n"
     ]
    }
   ],
   "source": [
    "# проверим, есть ли какая-то зависимость между столбцами famsize и p_status\n",
    "print(stud.groupby(by=[\"famsize\"])[\"p_status\"].value_counts())\n",
    "# Получается, что большинство семей, живущих вместе, имеют больше 3-х человек.\n",
    "# Но, достоверно заполнить поле famsize на основе этой информации невозможно. Поэтому оставляем пустые значения незаполненными.\n"
   ]
  },
  {
   "cell_type": "code",
   "execution_count": 87,
   "id": "31ca27a5-380b-4733-bf89-19af151934a7",
   "metadata": {},
   "outputs": [
    {
     "name": "stdout",
     "output_type": "stream",
     "text": [
      "Количество уникальных значений: 3\n",
      "Количество пустых значений: 0\n",
      "Больше 3-х человек                230\n",
      "Меньше или равно 3-м человекам     99\n",
      "NaN                                24\n",
      "Name: famsize, dtype: int64\n"
     ]
    },
    {
     "data": {
      "image/png": "[encoded data removed]",
      "text/plain": [
       "<Figure size 1008x288 with 1 Axes>"
      ]
     },
     "metadata": {
      "needs_background": "light"
     },
     "output_type": "display_data"
    }
   ],
   "source": [
    "gentleman_func_set(\"famsize\")"
   ]
  },
  {
   "cell_type": "markdown",
   "id": "8f9d4698-c417-4658-b9fb-5d6c9797a13f",
   "metadata": {},
   "source": [
    "__В семьях, где больше 3-х человек, медианная оценка ниже, т.е. детям в таких семьях тяжелей учиться__\n",
    "\n",
    "__Оставляем столбец__"
   ]
  },
  {
   "cell_type": "markdown",
   "id": "684fbd32-fc4d-4a91-af7e-3e92ac268e6b",
   "metadata": {},
   "source": [
    "## 7 p_status Живет ли семья вместе"
   ]
  },
  {
   "cell_type": "code",
   "execution_count": 20,
   "id": "ae80a6b2-47e0-4e4a-8e08-c869d99eb4d4",
   "metadata": {},
   "outputs": [],
   "source": [
    "stud.p_status = stud.p_status.apply(\n",
    "    lambda x: \"Живут вместе\" if x == \"T\" else \"Живут раздельно\" if x == \"A\" else \"NaN\"\n",
    ")"
   ]
  },
  {
   "cell_type": "code",
   "execution_count": 21,
   "id": "f369fbb1-aa36-4e12-bad9-e6ff0309dc04",
   "metadata": {},
   "outputs": [
    {
     "name": "stdout",
     "output_type": "stream",
     "text": [
      "Количество уникальных значений: 3\n",
      "Количество пустых значений: 0\n",
      "Живут вместе       280\n",
      "NaN                 41\n",
      "Живут раздельно     32\n",
      "Name: p_status, dtype: int64\n"
     ]
    },
    {
     "data": {
      "image/png": "[encoded data removed]",
      "text/plain": [
       "<Figure size 1008x288 with 1 Axes>"
      ]
     },
     "metadata": {
      "needs_background": "light"
     },
     "output_type": "display_data"
    }
   ],
   "source": [
    "gentleman_func_set(\"p_status\")"
   ]
  },
  {
   "cell_type": "markdown",
   "id": "ee62a804-e275-484b-9b00-923aac51e69a",
   "metadata": {},
   "source": [
    "__незаполненных значений довольно много (41 строка), но удалять их не нужно, т.к. эти строки могут содержать важные значения для других полей__\n",
    "\n",
    "__учитывая одинаковость медиан для всех вариантов значений в этом столбце, его можно удалить из рассмотрения__"
   ]
  },
  {
   "cell_type": "code",
   "execution_count": 22,
   "id": "be736803-b7d3-42a1-bbeb-7d4bfea07f80",
   "metadata": {},
   "outputs": [],
   "source": [
    "stud.drop(\"p_status\", axis=1, inplace=True)"
   ]
  },
  {
   "cell_type": "markdown",
   "id": "182c038f-b9e0-456a-be16-2989df6f2287",
   "metadata": {},
   "source": [
    "## 8 m_edu Образование матери"
   ]
  },
  {
   "cell_type": "code",
   "execution_count": 89,
   "id": "11d3ef45-ec54-4f7c-a2d5-76c95b17cd9f",
   "metadata": {},
   "outputs": [
    {
     "name": "stdout",
     "output_type": "stream",
     "text": [
      "Количество уникальных значений: 5\n",
      "Количество пустых значений: 4\n",
      "4.0    124\n",
      "3.0     86\n",
      "2.0     85\n",
      "1.0     49\n",
      "0.0      3\n",
      "Name: m_edu, dtype: int64\n"
     ]
    },
    {
     "data": {
      "image/png": "[encoded data removed]",
      "text/plain": [
       "<Figure size 1008x288 with 1 Axes>"
      ]
     },
     "metadata": {
      "needs_background": "light"
     },
     "output_type": "display_data"
    }
   ],
   "source": [
    "gentleman_func_set(\"m_edu\")"
   ]
  },
  {
   "cell_type": "markdown",
   "id": "eec42df7-95be-4715-aaaa-d2be0f68fa09",
   "metadata": {},
   "source": [
    "__как мы выяснили ранее при построении корреляционной матрицы, образование матери положительно влияет на оценку ребенка, причем отсутствие образования тоже влияет положительно__\n",
    "\n",
    "__нулевых значений крайне мало - их всего 3 штуки. можно удалить, а можно не трогать, и посмотреть их еще раз при построении модели__\n",
    "\n",
    "__заменять числовые значения на категории не считаю нужным, т.к. зависимость оценок от глубины образования матери все же есть__\n",
    "\n",
    "__пустые значения удаляем__\n",
    "\n",
    "__есть выбросы для значения 2.0. удаляем их__\n"
   ]
  },
  {
   "cell_type": "code",
   "execution_count": 88,
   "id": "645a4ecf-767a-473b-a3eb-a8fe25fd02ac",
   "metadata": {},
   "outputs": [],
   "source": [
    "stud = stud[stud.m_edu.isnull() == False]\n",
    "outliers_delete(\"m_edu\", 2)"
   ]
  },
  {
   "cell_type": "markdown",
   "id": "5c73b570-857e-46f6-a8a4-7039da124573",
   "metadata": {},
   "source": [
    "## 9 f_edu Образование отца"
   ]
  },
  {
   "cell_type": "code",
   "execution_count": 90,
   "id": "27f8bd6d-f970-4806-993d-784337a82ecb",
   "metadata": {},
   "outputs": [
    {
     "name": "stdout",
     "output_type": "stream",
     "text": [
      "Количество уникальных значений: 6\n",
      "Количество пустых значений: 24\n",
      "2.0     92\n",
      "3.0     89\n",
      "4.0     80\n",
      "1.0     63\n",
      "0.0      2\n",
      "40.0     1\n",
      "Name: f_edu, dtype: int64\n"
     ]
    },
    {
     "data": {
      "image/png": "[encoded data removed]",
      "text/plain": [
       "<Figure size 1008x288 with 1 Axes>"
      ]
     },
     "metadata": {
      "needs_background": "light"
     },
     "output_type": "display_data"
    }
   ],
   "source": [
    "gentleman_func_set(\"f_edu\")"
   ]
  },
  {
   "cell_type": "markdown",
   "id": "43d8d055-1259-49d6-bb35-3bde2aec4561",
   "metadata": {},
   "source": [
    "__Есть одно некорректное значение 40. Скорей всего это значение 4.0. Произведем его замену.__\n",
    "\n",
    "__В остальном, образование отца также влияет на оценки, причем отсутствие образования также влияет__\n",
    "\n",
    "__Заменять числовые значения на категории не считаю нужным, т.к. зависимость оценок от глубины образования отца все же есть__\n",
    "\n",
    "__Пустые значения здесь для эксперимента заменим на число 5.__"
   ]
  },
  {
   "cell_type": "code",
   "execution_count": 26,
   "id": "aefba2c8-ed83-4927-ac22-234c76b9a3d8",
   "metadata": {},
   "outputs": [
    {
     "name": "stdout",
     "output_type": "stream",
     "text": [
      "Количество уникальных значений: 6\n",
      "Количество пустых значений: 0\n",
      "2.0    92\n",
      "3.0    90\n",
      "4.0    81\n",
      "1.0    65\n",
      "5.0    21\n",
      "0.0     2\n",
      "Name: f_edu, dtype: int64\n"
     ]
    },
    {
     "data": {
      "image/png": "[encoded data removed]",
      "text/plain": [
       "<Figure size 1008x288 with 1 Axes>"
      ]
     },
     "metadata": {
      "needs_background": "light"
     },
     "output_type": "display_data"
    }
   ],
   "source": [
    "stud.f_edu = stud.f_edu.apply(lambda x: 4 if x == 40 else x)\n",
    "stud.f_edu = stud.f_edu.apply(lambda x: 5 if pd.isnull(x) else x)\n",
    "\n",
    "gentleman_func_set(\"f_edu\")"
   ]
  },
  {
   "cell_type": "markdown",
   "id": "18b89e9e-8e35-439a-80b8-acd64986fd7e",
   "metadata": {},
   "source": [
    "__замена пустых значений на число 5 ничего в итоге не дала, т.к. эти значения имеют разброс оценок, включающий все категории__\n",
    "\n",
    "__поэтому далее пустые значения не будем заменять__"
   ]
  },
  {
   "cell_type": "markdown",
   "id": "56989654-bdce-4fb4-8b36-b2e206ab3857",
   "metadata": {},
   "source": [
    "## 10 m_job Работа матери"
   ]
  },
  {
   "cell_type": "code",
   "execution_count": 91,
   "id": "7403e7b9-2aa4-411a-94d0-b53564b4d6ed",
   "metadata": {},
   "outputs": [
    {
     "name": "stdout",
     "output_type": "stream",
     "text": [
      "Количество уникальных значений: 5\n",
      "Количество пустых значений: 21\n",
      "other       116\n",
      "services     86\n",
      "teacher      51\n",
      "at_home      48\n",
      "health       29\n",
      "Name: m_job, dtype: int64\n"
     ]
    },
    {
     "data": {
      "image/png": "[encoded data removed]",
      "text/plain": [
       "<Figure size 1008x288 with 1 Axes>"
      ]
     },
     "metadata": {
      "needs_background": "light"
     },
     "output_type": "display_data"
    }
   ],
   "source": [
    "gentleman_func_set(\"m_job\")"
   ]
  },
  {
   "cell_type": "markdown",
   "id": "83120aa6-3e07-4a93-b0c8-c5d9ea7dccb0",
   "metadata": {},
   "source": [
    "__С этим столбцом ничего не делаем, выбросов нет, ошибок нет. данные чистые. в разных категориях оценки разные__\n",
    "\n",
    "__Есть пустые значения, их можно приравнять к \"other\", но лучше этого сейчас не делать, т.к. это может повлиять на качество модели__\n",
    "\n",
    "__удалять пустые значения тоже не нужно, т.к. их много и они могут сильно уменьшить рассматриваемый массив данных__"
   ]
  },
  {
   "cell_type": "markdown",
   "id": "43d10e3a-e207-42f1-800c-99a3bef8588e",
   "metadata": {},
   "source": [
    "## 11 f_job Работа отца "
   ]
  },
  {
   "cell_type": "code",
   "execution_count": 94,
   "id": "cffb8a7d-55a9-47d8-98b4-6e82f69da3f8",
   "metadata": {},
   "outputs": [
    {
     "name": "stdout",
     "output_type": "stream",
     "text": [
      "Количество уникальных значений: 5\n",
      "Количество пустых значений: 45\n",
      "other       163\n",
      "services     89\n",
      "teacher      26\n",
      "health       15\n",
      "at_home      13\n",
      "Name: f_job, dtype: int64\n"
     ]
    },
    {
     "data": {
      "image/png": "[encoded data removed]",
      "text/plain": [
       "<Figure size 1008x288 with 1 Axes>"
      ]
     },
     "metadata": {
      "needs_background": "light"
     },
     "output_type": "display_data"
    }
   ],
   "source": [
    "gentleman_func_set(\"f_job\")"
   ]
  },
  {
   "cell_type": "code",
   "execution_count": 93,
   "id": "ea4356ae-8b49-45b9-834b-bbcb3d6b7796",
   "metadata": {},
   "outputs": [],
   "source": [
    "# есть выбросы в категории \"other\". удалим их\n",
    "\n",
    "outliers_delete(\"f_job\", \"other\")"
   ]
  },
  {
   "cell_type": "markdown",
   "id": "3c35ff52-d145-4de3-8bac-0024468f0db9",
   "metadata": {},
   "source": [
    "\n",
    "\n",
    "__Удалили выбросы в столбце__\n",
    "\n",
    "__Есть пустые значения, их можно приравнять к \"other\", но лучше этого сейчас не делать, т.к. это может повлиять на качество модели__\n",
    "\n",
    "__удалять пустые значения тоже не нужно, т.к. их много и они могут сильно уменьшить рассматриваемый массив данных__"
   ]
  },
  {
   "cell_type": "markdown",
   "id": "00d31136-dfe5-4282-bcf8-19409e26f29f",
   "metadata": {},
   "source": [
    "## 12 reason Причина выбора школы"
   ]
  },
  {
   "cell_type": "code",
   "execution_count": 95,
   "id": "12d52585-41e8-47f8-92f1-4054422f7bc1",
   "metadata": {},
   "outputs": [
    {
     "name": "stdout",
     "output_type": "stream",
     "text": [
      "Количество уникальных значений: 4\n",
      "Количество пустых значений: 28\n",
      "course        112\n",
      "reputation     92\n",
      "home           88\n",
      "other          31\n",
      "Name: reason, dtype: int64\n"
     ]
    },
    {
     "data": {
      "image/png": "[encoded data removed]",
      "text/plain": [
       "<Figure size 1008x288 with 1 Axes>"
      ]
     },
     "metadata": {
      "needs_background": "light"
     },
     "output_type": "display_data"
    }
   ],
   "source": [
    "gentleman_func_set(\"reason\")"
   ]
  },
  {
   "cell_type": "markdown",
   "id": "05322bac-348d-4297-b407-8ed51305b91c",
   "metadata": {},
   "source": [
    "__столбец можно удалить из таблицы, т.к. ящики с усами для разных категорий данных в нем похожи.__"
   ]
  },
  {
   "cell_type": "code",
   "execution_count": 96,
   "id": "ba5cc58a-45e8-4c7d-acc4-996c334e960e",
   "metadata": {},
   "outputs": [],
   "source": [
    "stud.drop(\"reason\", axis=1, inplace=True)"
   ]
  },
  {
   "cell_type": "markdown",
   "id": "e805b9b7-d5d4-4ee8-b241-d70248b648f3",
   "metadata": {},
   "source": [
    "## 13 guardian Опекун"
   ]
  },
  {
   "cell_type": "code",
   "execution_count": 97,
   "id": "f5cbf53b-6ee3-4315-accc-5fe12f312236",
   "metadata": {},
   "outputs": [
    {
     "name": "stdout",
     "output_type": "stream",
     "text": [
      "Количество уникальных значений: 3\n",
      "Количество пустых значений: 39\n",
      "mother    214\n",
      "father     76\n",
      "other      22\n",
      "Name: guardian, dtype: int64\n"
     ]
    },
    {
     "data": {
      "image/png": "[encoded data removed]",
      "text/plain": [
       "<Figure size 1008x288 with 1 Axes>"
      ]
     },
     "metadata": {
      "needs_background": "light"
     },
     "output_type": "display_data"
    }
   ],
   "source": [
    "gentleman_func_set(\"guardian\")"
   ]
  },
  {
   "cell_type": "markdown",
   "id": "3348e3a6-5909-40b6-b16d-cd4763c7c413",
   "metadata": {},
   "source": [
    "__столбец можно удалить из таблицы, т.к. ящики с усами для разных категорий данных в нем похожи.__"
   ]
  },
  {
   "cell_type": "code",
   "execution_count": 98,
   "id": "14256f3d-1279-43a8-86f1-32e47490b681",
   "metadata": {},
   "outputs": [],
   "source": [
    "stud.drop(\"guardian\", axis=1, inplace=True)"
   ]
  },
  {
   "cell_type": "markdown",
   "id": "70f2b579-b4ce-4dff-878a-da8dfe647db9",
   "metadata": {},
   "source": [
    "## 14 traveltime  Время до школы"
   ]
  },
  {
   "cell_type": "code",
   "execution_count": 99,
   "id": "7f82e9f1-84aa-4289-b79a-9d7093dacd05",
   "metadata": {},
   "outputs": [
    {
     "name": "stdout",
     "output_type": "stream",
     "text": [
      "Количество уникальных значений: 4\n",
      "Количество пустых значений: 35\n",
      "1.0    208\n",
      "2.0     84\n",
      "3.0     17\n",
      "4.0      7\n",
      "Name: traveltime, dtype: int64\n"
     ]
    },
    {
     "data": {
      "image/png": "[encoded data removed]",
      "text/plain": [
       "<Figure size 1008x288 with 1 Axes>"
      ]
     },
     "metadata": {
      "needs_background": "light"
     },
     "output_type": "display_data"
    }
   ],
   "source": [
    "gentleman_func_set(\"traveltime\")"
   ]
  },
  {
   "cell_type": "markdown",
   "id": "fc91c119-8f6f-493a-a213-c2caf5ea8c38",
   "metadata": {},
   "source": [
    "__столбец можно удалить из таблицы, т.к. ящики с усами для разных категорий данных в нем похожи.__"
   ]
  },
  {
   "cell_type": "code",
   "execution_count": 35,
   "id": "b8143420-348c-40ed-a6f6-1b518aa73d02",
   "metadata": {},
   "outputs": [],
   "source": [
    "stud.drop(\"traveltime\", axis=1, inplace=True)"
   ]
  },
  {
   "cell_type": "markdown",
   "id": "02514a4e-823b-4324-a028-341a02619240",
   "metadata": {},
   "source": [
    "## 15 studytime Время на учебу помимо школы"
   ]
  },
  {
   "cell_type": "code",
   "execution_count": 100,
   "id": "ffb91887-677e-4f1c-9068-c3c3b05c5a5c",
   "metadata": {},
   "outputs": [
    {
     "name": "stdout",
     "output_type": "stream",
     "text": [
      "Количество уникальных значений: 4\n",
      "Количество пустых значений: 19\n",
      "2.0    169\n",
      "1.0     84\n",
      "3.0     56\n",
      "4.0     23\n",
      "Name: studytime, dtype: int64\n"
     ]
    },
    {
     "data": {
      "image/png": "[encoded data removed]",
      "text/plain": [
       "<Figure size 1008x288 with 1 Axes>"
      ]
     },
     "metadata": {
      "needs_background": "light"
     },
     "output_type": "display_data"
    }
   ],
   "source": [
    "gentleman_func_set(\"studytime\")"
   ]
  },
  {
   "cell_type": "markdown",
   "id": "1d87289b-7173-4616-a131-3230202ba474",
   "metadata": {},
   "source": [
    "__столбец оставляем, т.к. есть небольшая закономерность по увеличению оценки в зависимости от увеличения времени на учебу помимо школы.__"
   ]
  },
  {
   "cell_type": "markdown",
   "id": "b69089eb-e1f4-4d01-aaf2-a5c07034fdbf",
   "metadata": {},
   "source": [
    "## 16 failures Количество внеучебных неудач"
   ]
  },
  {
   "cell_type": "code",
   "execution_count": 37,
   "id": "017a9e03-d307-4310-89ae-d70fbdffc856",
   "metadata": {},
   "outputs": [
    {
     "name": "stdout",
     "output_type": "stream",
     "text": [
      "Количество уникальных значений: 4\n",
      "Количество пустых значений: 31\n",
      "0.0    263\n",
      "1.0     39\n",
      "2.0      9\n",
      "3.0      9\n",
      "Name: failures, dtype: int64\n"
     ]
    },
    {
     "data": {
      "image/png": "[encoded data removed]",
      "text/plain": [
       "<Figure size 1008x288 with 1 Axes>"
      ]
     },
     "metadata": {
      "needs_background": "light"
     },
     "output_type": "display_data"
    }
   ],
   "source": [
    "gentleman_func_set(\"failures\")"
   ]
  },
  {
   "cell_type": "markdown",
   "id": "f70b4e33-0152-4082-b890-1800157bdb67",
   "metadata": {},
   "source": [
    "__столбец оставляем, т.к. есть небольшая закономерность по увеличению оценки в зависимости от уменьшения количества внеучебных неудач.__"
   ]
  },
  {
   "cell_type": "markdown",
   "id": "13073cf3-8084-4dba-a9fb-b3870883f71e",
   "metadata": {},
   "source": [
    "## 17 schoolsup Дополнительная образовательная поддержка"
   ]
  },
  {
   "cell_type": "code",
   "execution_count": 101,
   "id": "c0758d68-9e56-4849-b27e-453973fab255",
   "metadata": {},
   "outputs": [
    {
     "name": "stdout",
     "output_type": "stream",
     "text": [
      "Количество уникальных значений: 2\n",
      "Количество пустых значений: 20\n",
      "no     285\n",
      "yes     46\n",
      "Name: schoolsup, dtype: int64\n"
     ]
    },
    {
     "data": {
      "image/png": "[encoded data removed]",
      "text/plain": [
       "<Figure size 1008x288 with 1 Axes>"
      ]
     },
     "metadata": {
      "needs_background": "light"
     },
     "output_type": "display_data"
    }
   ],
   "source": [
    "gentleman_func_set(\"schoolsup\")"
   ]
  },
  {
   "cell_type": "markdown",
   "id": "d0e4026a-0f98-4df0-90a7-eb1dfaedfb99",
   "metadata": {},
   "source": [
    "__Очень странный столбец. Если дополнительной образовательной поддержки не было, то оценки выше. Возможно, в нем была ошибка при заполнении.__\n",
    "\n",
    "__Но, в любом случае, столбец влияет на оценку, поэтому его оставляем__\n",
    "\n",
    "__Удаляем выбросы для категории yes. Пустые значения не удаляем, т.к. их много и они могут содержать важные данные в других столбцах__"
   ]
  },
  {
   "cell_type": "code",
   "execution_count": 39,
   "id": "85b74bf1-bd66-4e68-8371-ae1a45d3ab65",
   "metadata": {},
   "outputs": [],
   "source": [
    "outliers_delete(\"schoolsup\", \"yes\")"
   ]
  },
  {
   "cell_type": "markdown",
   "id": "243be4ac-e50a-4703-b148-e3ad2463a10b",
   "metadata": {},
   "source": [
    "## 18 famsup Семейная образовательная поддержка"
   ]
  },
  {
   "cell_type": "code",
   "execution_count": 102,
   "id": "582d346c-c50f-417b-b2e1-50123337deac",
   "metadata": {},
   "outputs": [
    {
     "name": "stdout",
     "output_type": "stream",
     "text": [
      "Количество уникальных значений: 2\n",
      "Количество пустых значений: 49\n",
      "yes    186\n",
      "no     116\n",
      "Name: famsup, dtype: int64\n"
     ]
    },
    {
     "data": {
      "image/png": "[encoded data removed]",
      "text/plain": [
       "<Figure size 1008x288 with 1 Axes>"
      ]
     },
     "metadata": {
      "needs_background": "light"
     },
     "output_type": "display_data"
    }
   ],
   "source": [
    "gentleman_func_set(\"famsup\")"
   ]
  },
  {
   "cell_type": "markdown",
   "id": "5d0f4c36-4728-4e30-bd93-e074e9883d4c",
   "metadata": {},
   "source": [
    "__столбец можно удалить из таблицы, т.к. ящики с усами для разных категорий данных в нем похожи.__"
   ]
  },
  {
   "cell_type": "code",
   "execution_count": 41,
   "id": "782d91fb-1f12-4749-96e7-dff9b7c30ebb",
   "metadata": {},
   "outputs": [],
   "source": [
    "stud.drop(\"famsup\", axis=1, inplace=True)"
   ]
  },
  {
   "cell_type": "code",
   "execution_count": null,
   "id": "5f64cb7d-2f68-4094-9ce6-b99b98c4afe9",
   "metadata": {},
   "outputs": [],
   "source": []
  },
  {
   "cell_type": "markdown",
   "id": "8f45641b-0b63-47a9-ab56-84494af7b8b8",
   "metadata": {},
   "source": [
    "## 19 paid Дополнительные платные занятия по математике"
   ]
  },
  {
   "cell_type": "code",
   "execution_count": 103,
   "id": "cf2a550f-def7-4696-92d9-cd1e264f28b6",
   "metadata": {},
   "outputs": [
    {
     "name": "stdout",
     "output_type": "stream",
     "text": [
      "Количество уникальных значений: 2\n",
      "Количество пустых значений: 48\n",
      "no     163\n",
      "yes    140\n",
      "Name: paid, dtype: int64\n"
     ]
    },
    {
     "data": {
      "image/png": "[encoded data removed]",
      "text/plain": [
       "<Figure size 1008x288 with 1 Axes>"
      ]
     },
     "metadata": {
      "needs_background": "light"
     },
     "output_type": "display_data"
    }
   ],
   "source": [
    "gentleman_func_set(\"paid\")"
   ]
  },
  {
   "cell_type": "markdown",
   "id": "d0f7e336-c2e9-49c4-b93c-f5dbbe5f8fe3",
   "metadata": {},
   "source": [
    "__столбец можно удалить из таблицы, т.к. ящики с усами для разных категорий данных в нем похожи.__"
   ]
  },
  {
   "cell_type": "code",
   "execution_count": 43,
   "id": "4d1e1dae-61ad-43d9-a1a5-ab5ff4924758",
   "metadata": {},
   "outputs": [],
   "source": [
    "stud.drop(\"paid\", axis=1, inplace=True)"
   ]
  },
  {
   "cell_type": "code",
   "execution_count": null,
   "id": "93d07517-7131-4b7d-8aa9-268f17b5f4a2",
   "metadata": {},
   "outputs": [],
   "source": []
  },
  {
   "cell_type": "markdown",
   "id": "d131ff72-ae2b-40a4-a871-98ddbc6b5793",
   "metadata": {},
   "source": [
    "## 20 activities — дополнительные внеучебные занятия"
   ]
  },
  {
   "cell_type": "code",
   "execution_count": 104,
   "id": "8c1ee45a-d137-4e65-a30e-690af3907c06",
   "metadata": {},
   "outputs": [
    {
     "name": "stdout",
     "output_type": "stream",
     "text": [
      "Количество уникальных значений: 2\n",
      "Количество пустых значений: 25\n",
      "yes    169\n",
      "no     157\n",
      "Name: activities, dtype: int64\n"
     ]
    },
    {
     "data": {
      "image/png": "[encoded data removed]",
      "text/plain": [
       "<Figure size 1008x288 with 1 Axes>"
      ]
     },
     "metadata": {
      "needs_background": "light"
     },
     "output_type": "display_data"
    }
   ],
   "source": [
    "gentleman_func_set(\"activities\")"
   ]
  },
  {
   "cell_type": "markdown",
   "id": "fd552da7-b18f-4c57-a546-aeacdf8fae2e",
   "metadata": {},
   "source": [
    "__столбец можно удалить из таблицы, т.к. медианы одинаковые, а верхние и нижние квартили отличаются несущественно.__"
   ]
  },
  {
   "cell_type": "code",
   "execution_count": 45,
   "id": "a089591b-2f83-4514-aeaf-3e365fac6302",
   "metadata": {},
   "outputs": [],
   "source": [
    "stud.drop(\"activities\", axis=1, inplace=True)"
   ]
  },
  {
   "cell_type": "markdown",
   "id": "9de77458-dcce-4ad6-a528-bcd786d63fbe",
   "metadata": {},
   "source": [
    "## 21 nursery — посещал детский сад"
   ]
  },
  {
   "cell_type": "code",
   "execution_count": 105,
   "id": "bd80bdcc-4491-4824-b046-8483828e2465",
   "metadata": {},
   "outputs": [
    {
     "name": "stdout",
     "output_type": "stream",
     "text": [
      "Количество уникальных значений: 2\n",
      "Количество пустых значений: 26\n",
      "yes    260\n",
      "no      65\n",
      "Name: nursery, dtype: int64\n"
     ]
    },
    {
     "data": {
      "image/png": "[encoded data removed]",
      "text/plain": [
       "<Figure size 1008x288 with 1 Axes>"
      ]
     },
     "metadata": {
      "needs_background": "light"
     },
     "output_type": "display_data"
    }
   ],
   "source": [
    "gentleman_func_set(\"nursery\")"
   ]
  },
  {
   "cell_type": "markdown",
   "id": "39653f0a-2c20-445b-94fe-c6d2a6b9cc63",
   "metadata": {},
   "source": [
    "__столбец можно удалить из таблицы, т.к. ящики с усами для разных категорий данных в нем похожи.__"
   ]
  },
  {
   "cell_type": "code",
   "execution_count": 47,
   "id": "d70965ea-95f3-4262-8133-863377edb45e",
   "metadata": {},
   "outputs": [],
   "source": [
    "stud.drop(\"nursery\", axis=1, inplace=True)"
   ]
  },
  {
   "cell_type": "markdown",
   "id": "13d6e0dc-ac78-4329-87cb-6f7c1d633b44",
   "metadata": {},
   "source": [
    "## 22 higher — хочет получить высшее образование"
   ]
  },
  {
   "cell_type": "code",
   "execution_count": 106,
   "id": "477589c5-5d23-4902-9b2b-e6062cb265e2",
   "metadata": {},
   "outputs": [
    {
     "name": "stdout",
     "output_type": "stream",
     "text": [
      "Количество уникальных значений: 2\n",
      "Количество пустых значений: 31\n",
      "yes    308\n",
      "no      12\n",
      "Name: higher, dtype: int64\n"
     ]
    },
    {
     "data": {
      "image/png": "[encoded data removed]",
      "text/plain": [
       "<Figure size 1008x288 with 1 Axes>"
      ]
     },
     "metadata": {
      "needs_background": "light"
     },
     "output_type": "display_data"
    }
   ],
   "source": [
    "gentleman_func_set(\"higher\")"
   ]
  },
  {
   "cell_type": "markdown",
   "id": "a20db1f7-3365-4b9d-b877-213457fda41c",
   "metadata": {},
   "source": [
    "__столбец можно оставить, т.к. прослеживается влияние желания ученика получить высшее образование на его оценки.__"
   ]
  },
  {
   "cell_type": "markdown",
   "id": "fa464457-2969-4fbc-90a7-1e01fa0b8209",
   "metadata": {},
   "source": [
    "## 23 internet — наличие интернета дома"
   ]
  },
  {
   "cell_type": "code",
   "execution_count": 107,
   "id": "7a768f04-4603-4ed6-8297-545aeff1c340",
   "metadata": {},
   "outputs": [
    {
     "name": "stdout",
     "output_type": "stream",
     "text": [
      "Количество уникальных значений: 2\n",
      "Количество пустых значений: 42\n",
      "yes    265\n",
      "no      44\n",
      "Name: internet, dtype: int64\n"
     ]
    },
    {
     "data": {
      "image/png": "[encoded data removed]",
      "text/plain": [
       "<Figure size 1008x288 with 1 Axes>"
      ]
     },
     "metadata": {
      "needs_background": "light"
     },
     "output_type": "display_data"
    }
   ],
   "source": [
    "gentleman_func_set(\"internet\")"
   ]
  },
  {
   "cell_type": "markdown",
   "id": "8839909f-1df1-49f0-bedf-3992662f85b2",
   "metadata": {},
   "source": [
    "__столбец можно удалить из таблицы, т.к. ящики с усами для разных категорий данных в нем похожи.__"
   ]
  },
  {
   "cell_type": "code",
   "execution_count": 50,
   "id": "a88d1ea2-6aed-472c-b00b-17c2e1f92cb7",
   "metadata": {},
   "outputs": [],
   "source": [
    "stud.drop(\"internet\", axis=1, inplace=True)"
   ]
  },
  {
   "cell_type": "markdown",
   "id": "5c6bff38-b794-4a93-95c3-04b94fa84a45",
   "metadata": {},
   "source": [
    "## 24 romantic — в романтических отношениях"
   ]
  },
  {
   "cell_type": "code",
   "execution_count": 108,
   "id": "7513071e-95a8-4663-8095-b87b75431414",
   "metadata": {},
   "outputs": [
    {
     "name": "stdout",
     "output_type": "stream",
     "text": [
      "Количество уникальных значений: 2\n",
      "Количество пустых значений: 41\n",
      "no     210\n",
      "yes    100\n",
      "Name: romantic, dtype: int64\n"
     ]
    },
    {
     "data": {
      "image/png": "[encoded data removed]",
      "text/plain": [
       "<Figure size 1008x288 with 1 Axes>"
      ]
     },
     "metadata": {
      "needs_background": "light"
     },
     "output_type": "display_data"
    }
   ],
   "source": [
    "gentleman_func_set(\"romantic\")"
   ]
  },
  {
   "cell_type": "markdown",
   "id": "ec059df1-83ce-4241-9d8d-e108b021ddb5",
   "metadata": {},
   "source": [
    "__столбец можно удалить из таблицы, т.к. медианы одинаковые, а квартили отличаются несущественно.__"
   ]
  },
  {
   "cell_type": "code",
   "execution_count": 52,
   "id": "dec7ddd1-05be-4303-a9e5-4599024bc345",
   "metadata": {},
   "outputs": [],
   "source": [
    "stud.drop(\"romantic\", axis=1, inplace=True)"
   ]
  },
  {
   "cell_type": "markdown",
   "id": "37a072c1-41e3-4d0b-a39f-f43fdd7bba22",
   "metadata": {},
   "source": [
    "## 25 famrel — семейные отношения"
   ]
  },
  {
   "cell_type": "code",
   "execution_count": 109,
   "id": "8008c9ae-0d3f-49a8-8435-facb9d505f71",
   "metadata": {},
   "outputs": [
    {
     "name": "stdout",
     "output_type": "stream",
     "text": [
      "Количество уникальных значений: 6\n",
      "Количество пустых значений: 35\n",
      " 4.0    161\n",
      " 5.0     83\n",
      " 3.0     52\n",
      " 2.0     13\n",
      " 1.0      6\n",
      "-1.0      1\n",
      "Name: famrel, dtype: int64\n"
     ]
    },
    {
     "data": {
      "image/png": "[encoded data removed]",
      "text/plain": [
       "<Figure size 1008x288 with 1 Axes>"
      ]
     },
     "metadata": {
      "needs_background": "light"
     },
     "output_type": "display_data"
    }
   ],
   "source": [
    "gentleman_func_set(\"famrel\")"
   ]
  },
  {
   "cell_type": "markdown",
   "id": "1fd83ec5-450d-4137-830d-cf38e9f06dc0",
   "metadata": {},
   "source": [
    "__столбец можно удалить из таблицы, т.к. на графике не видна закономерность между оценками и улучшением семейных отношений.__"
   ]
  },
  {
   "cell_type": "code",
   "execution_count": 54,
   "id": "475709c4-c7d8-430f-80e8-14fe9760bc40",
   "metadata": {},
   "outputs": [],
   "source": [
    "stud.drop(\"famrel\", axis=1, inplace=True)"
   ]
  },
  {
   "cell_type": "markdown",
   "id": "3d0d5fcf-6359-458d-9322-05232c6c8258",
   "metadata": {},
   "source": [
    "## 26 freetime — свободное время после школы"
   ]
  },
  {
   "cell_type": "code",
   "execution_count": 110,
   "id": "b698b79d-417c-43de-be85-5ee57b6718ed",
   "metadata": {},
   "outputs": [
    {
     "name": "stdout",
     "output_type": "stream",
     "text": [
      "Количество уникальных значений: 5\n",
      "Количество пустых значений: 21\n",
      "3.0    128\n",
      "4.0     99\n",
      "2.0     58\n",
      "5.0     31\n",
      "1.0     14\n",
      "Name: freetime, dtype: int64\n"
     ]
    },
    {
     "data": {
      "image/png": "[encoded data removed]",
      "text/plain": [
       "<Figure size 1008x288 with 1 Axes>"
      ]
     },
     "metadata": {
      "needs_background": "light"
     },
     "output_type": "display_data"
    }
   ],
   "source": [
    "gentleman_func_set(\"freetime\")"
   ]
  },
  {
   "cell_type": "code",
   "execution_count": 56,
   "id": "2e9bdb1b-2a07-42fd-ae81-bf730306ddb6",
   "metadata": {},
   "outputs": [],
   "source": [
    "# удаляем выброс с категории 1\n",
    "outliers_delete(\"freetime\", 1.0)"
   ]
  },
  {
   "cell_type": "markdown",
   "id": "f124699f-34f5-464b-a519-ef46fe871d7d",
   "metadata": {},
   "source": [
    "__столбец можно было бы удалить, если бы не сильное влияние на оценку минимального количества свободного времени. Этот факт можно будет использовать в модели, поэтому столбец я не удаляю. И выброс тоже не хотел бы сейчас удалять, т.к. фактов для этой категории и так очень мало.__"
   ]
  },
  {
   "cell_type": "code",
   "execution_count": null,
   "id": "a1d1bdf2-dbf6-43e2-b5f5-3086eb03ff2c",
   "metadata": {},
   "outputs": [],
   "source": []
  },
  {
   "cell_type": "markdown",
   "id": "751c95d7-f1da-4124-b55f-a1cd70c5c5e9",
   "metadata": {},
   "source": [
    "## 27 goout — проведение времени с друзьями"
   ]
  },
  {
   "cell_type": "code",
   "execution_count": 111,
   "id": "ea3ae59a-520b-4179-a58b-2e0e255b1a2e",
   "metadata": {},
   "outputs": [
    {
     "name": "stdout",
     "output_type": "stream",
     "text": [
      "Количество уникальных значений: 5\n",
      "Количество пустых значений: 19\n",
      "3.0    112\n",
      "2.0     87\n",
      "4.0     72\n",
      "5.0     42\n",
      "1.0     19\n",
      "Name: goout, dtype: int64\n"
     ]
    },
    {
     "data": {
      "image/png": "[encoded data removed]",
      "text/plain": [
       "<Figure size 1008x288 with 1 Axes>"
      ]
     },
     "metadata": {
      "needs_background": "light"
     },
     "output_type": "display_data"
    }
   ],
   "source": [
    "gentleman_func_set(\"goout\")"
   ]
  },
  {
   "cell_type": "markdown",
   "id": "ddd0cf65-7ad9-4d4b-af39-f6071e5ac956",
   "metadata": {},
   "source": [
    "__Здесь явно прослеживается снижение оценок при увеличении количества времени с друзьями. Столбец оставляем. С пустыми значениями ничего не делаем, причины оставления пустых значений я описывал выше.__"
   ]
  },
  {
   "cell_type": "markdown",
   "id": "022746bf-a486-44f8-8e1a-74bb3ab65a58",
   "metadata": {},
   "source": [
    "## 28 health — текущее состояние здоровья"
   ]
  },
  {
   "cell_type": "code",
   "execution_count": 115,
   "id": "a5c18543-01bc-4de5-96ce-10922a19ed88",
   "metadata": {},
   "outputs": [
    {
     "name": "stdout",
     "output_type": "stream",
     "text": [
      "Количество уникальных значений: 5\n",
      "Количество пустых значений: 27\n",
      "5.0    122\n",
      "3.0     75\n",
      "4.0     52\n",
      "1.0     41\n",
      "2.0     34\n",
      "Name: health, dtype: int64\n"
     ]
    },
    {
     "data": {
      "image/png": "[encoded data removed]",
      "text/plain": [
       "<Figure size 1008x288 with 1 Axes>"
      ]
     },
     "metadata": {
      "needs_background": "light"
     },
     "output_type": "display_data"
    }
   ],
   "source": [
    "gentleman_func_set(\"health\")"
   ]
  },
  {
   "cell_type": "markdown",
   "id": "e16f3ba7-4ca4-45c0-805d-2d3523cc833f",
   "metadata": {},
   "source": [
    "__Есть небольшая зависимость между плохим здоровьем и хорошими оценками. Столбец оставляем.__\n",
    "__выброс в категории 3 удаляем__"
   ]
  },
  {
   "cell_type": "code",
   "execution_count": 114,
   "id": "f634b538-481b-4068-bf51-8961c35a6506",
   "metadata": {},
   "outputs": [],
   "source": [
    "outliers_delete(\"health\", 3.0)"
   ]
  },
  {
   "cell_type": "markdown",
   "id": "d6e987fd-7834-4014-a58a-08ca72be1526",
   "metadata": {},
   "source": [
    "## 26 absences — количество пропущенных занятий"
   ]
  },
  {
   "cell_type": "code",
   "execution_count": 60,
   "id": "8124bd5b-0e07-4b9b-b529-364f71cd0100",
   "metadata": {},
   "outputs": [
    {
     "name": "stdout",
     "output_type": "stream",
     "text": [
      "Количество уникальных значений: 33\n",
      "Количество пустых значений: 25\n",
      "0.0     70\n",
      "2.0     59\n",
      "4.0     49\n",
      "6.0     28\n",
      "8.0     20\n",
      "10.0    16\n",
      "14.0    12\n",
      "12.0    11\n",
      "3.0      7\n",
      "7.0      6\n",
      "16.0     6\n",
      "18.0     5\n",
      "5.0      5\n",
      "20.0     4\n",
      "9.0      3\n",
      "1.0      3\n",
      "22.0     3\n",
      "13.0     2\n",
      "15.0     2\n",
      "11.0     2\n",
      "25.0     1\n",
      "56.0     1\n",
      "24.0     1\n",
      "23.0     1\n",
      "19.0     1\n",
      "17.0     1\n",
      "75.0     1\n",
      "26.0     1\n",
      "30.0     1\n",
      "40.0     1\n",
      "28.0     1\n",
      "38.0     1\n",
      "54.0     1\n",
      "Name: absences, dtype: int64\n"
     ]
    },
    {
     "data": {
      "image/png": "[encoded data removed]",
      "text/plain": [
       "<Figure size 1008x288 with 1 Axes>"
      ]
     },
     "metadata": {
      "needs_background": "light"
     },
     "output_type": "display_data"
    }
   ],
   "source": [
    "gentleman_func_set(\"absences\")"
   ]
  },
  {
   "cell_type": "code",
   "execution_count": 61,
   "id": "5c2bc096-4d0e-4620-b6df-9b0d8639d726",
   "metadata": {},
   "outputs": [
    {
     "name": "stdout",
     "output_type": "stream",
     "text": [
      "Количество уникальных значений: 3\n",
      "Количество пустых значений: 0\n",
      "5-10            163\n",
      "1-5             118\n",
      "Не пропускал     70\n",
      "Name: absences_range, dtype: int64\n"
     ]
    },
    {
     "data": {
      "image/png": "[encoded data removed]",
      "text/plain": [
       "<Figure size 1008x288 with 1 Axes>"
      ]
     },
     "metadata": {
      "needs_background": "light"
     },
     "output_type": "display_data"
    }
   ],
   "source": [
    "# уникальных значений очень много. поэтому сделаем три интервала значений и посмотрим, как по ним распределяются оценки.\n",
    "\n",
    "stud[\"absences_range\"] = stud.absences\n",
    "\n",
    "stud.absences_range = stud.absences_range.apply(\n",
    "    lambda x: \"Не пропускал\"\n",
    "    if x == 0\n",
    "    else \"1-5\"\n",
    "    if 0 < x < 5\n",
    "    else \"5-10\"\n",
    "    if 5 <= 10\n",
    "    else \"10+\"\n",
    ")\n",
    "\n",
    "gentleman_func_set(\"absences_range\")"
   ]
  },
  {
   "cell_type": "markdown",
   "id": "d24977f7-24ff-49ae-9b81-fe3cb9f52b93",
   "metadata": {},
   "source": [
    "__ящики с усами показывают, что количество пропусков не влияет на оценку. Но, если пропусков не было ни одного - то оценка будет явно больше, чем если бы был хотя бы один пропуск__\n",
    "\n",
    "__столбец оставляем, он может влиять на модель__\n",
    "\n",
    "__Итоговый набор данных для построения модели смотрите ниже__"
   ]
  },
  {
   "cell_type": "code",
   "execution_count": 62,
   "id": "d6022377-44d2-4721-9151-7cfbab61475d",
   "metadata": {},
   "outputs": [
    {
     "data": {
      "text/html": [
       "<div>\n",
       "<style scoped>\n",
       "    .dataframe tbody tr th:only-of-type {\n",
       "        vertical-align: middle;\n",
       "    }\n",
       "\n",
       "    .dataframe tbody tr th {\n",
       "        vertical-align: top;\n",
       "    }\n",
       "\n",
       "    .dataframe thead th {\n",
       "        text-align: right;\n",
       "    }\n",
       "</style>\n",
       "<table border=\"1\" class=\"dataframe\">\n",
       "  <thead>\n",
       "    <tr style=\"text-align: right;\">\n",
       "      <th></th>\n",
       "      <th>school</th>\n",
       "      <th>sex</th>\n",
       "      <th>age</th>\n",
       "      <th>address</th>\n",
       "      <th>famsize</th>\n",
       "      <th>m_edu</th>\n",
       "      <th>f_edu</th>\n",
       "      <th>m_job</th>\n",
       "      <th>f_job</th>\n",
       "      <th>studytime</th>\n",
       "      <th>failures</th>\n",
       "      <th>schoolsup</th>\n",
       "      <th>higher</th>\n",
       "      <th>freetime</th>\n",
       "      <th>goout</th>\n",
       "      <th>health</th>\n",
       "      <th>absences</th>\n",
       "      <th>score</th>\n",
       "      <th>absences_range</th>\n",
       "    </tr>\n",
       "  </thead>\n",
       "  <tbody>\n",
       "    <tr>\n",
       "      <th>0</th>\n",
       "      <td>GP</td>\n",
       "      <td>F</td>\n",
       "      <td>18.0</td>\n",
       "      <td>Город</td>\n",
       "      <td>NaN</td>\n",
       "      <td>4.0</td>\n",
       "      <td>4.0</td>\n",
       "      <td>at_home</td>\n",
       "      <td>teacher</td>\n",
       "      <td>2.0</td>\n",
       "      <td>0.0</td>\n",
       "      <td>yes</td>\n",
       "      <td>yes</td>\n",
       "      <td>3.0</td>\n",
       "      <td>4.0</td>\n",
       "      <td>3.0</td>\n",
       "      <td>6.0</td>\n",
       "      <td>30.0</td>\n",
       "      <td>5-10</td>\n",
       "    </tr>\n",
       "    <tr>\n",
       "      <th>1</th>\n",
       "      <td>GP</td>\n",
       "      <td>F</td>\n",
       "      <td>17.0</td>\n",
       "      <td>Город</td>\n",
       "      <td>Больше 3-х человек</td>\n",
       "      <td>1.0</td>\n",
       "      <td>1.0</td>\n",
       "      <td>at_home</td>\n",
       "      <td>other</td>\n",
       "      <td>2.0</td>\n",
       "      <td>0.0</td>\n",
       "      <td>no</td>\n",
       "      <td>yes</td>\n",
       "      <td>3.0</td>\n",
       "      <td>3.0</td>\n",
       "      <td>3.0</td>\n",
       "      <td>4.0</td>\n",
       "      <td>30.0</td>\n",
       "      <td>1-5</td>\n",
       "    </tr>\n",
       "    <tr>\n",
       "      <th>2</th>\n",
       "      <td>GP</td>\n",
       "      <td>F</td>\n",
       "      <td>15.0</td>\n",
       "      <td>Город</td>\n",
       "      <td>Меньше или равно 3-м человекам</td>\n",
       "      <td>1.0</td>\n",
       "      <td>1.0</td>\n",
       "      <td>at_home</td>\n",
       "      <td>other</td>\n",
       "      <td>2.0</td>\n",
       "      <td>3.0</td>\n",
       "      <td>yes</td>\n",
       "      <td>yes</td>\n",
       "      <td>3.0</td>\n",
       "      <td>2.0</td>\n",
       "      <td>3.0</td>\n",
       "      <td>10.0</td>\n",
       "      <td>50.0</td>\n",
       "      <td>5-10</td>\n",
       "    </tr>\n",
       "    <tr>\n",
       "      <th>3</th>\n",
       "      <td>GP</td>\n",
       "      <td>F</td>\n",
       "      <td>15.0</td>\n",
       "      <td>Город</td>\n",
       "      <td>Больше 3-х человек</td>\n",
       "      <td>4.0</td>\n",
       "      <td>2.0</td>\n",
       "      <td>health</td>\n",
       "      <td>NaN</td>\n",
       "      <td>3.0</td>\n",
       "      <td>0.0</td>\n",
       "      <td>no</td>\n",
       "      <td>yes</td>\n",
       "      <td>2.0</td>\n",
       "      <td>2.0</td>\n",
       "      <td>5.0</td>\n",
       "      <td>2.0</td>\n",
       "      <td>75.0</td>\n",
       "      <td>1-5</td>\n",
       "    </tr>\n",
       "    <tr>\n",
       "      <th>4</th>\n",
       "      <td>GP</td>\n",
       "      <td>F</td>\n",
       "      <td>16.0</td>\n",
       "      <td>Город</td>\n",
       "      <td>Больше 3-х человек</td>\n",
       "      <td>3.0</td>\n",
       "      <td>3.0</td>\n",
       "      <td>other</td>\n",
       "      <td>other</td>\n",
       "      <td>2.0</td>\n",
       "      <td>0.0</td>\n",
       "      <td>no</td>\n",
       "      <td>yes</td>\n",
       "      <td>3.0</td>\n",
       "      <td>2.0</td>\n",
       "      <td>5.0</td>\n",
       "      <td>4.0</td>\n",
       "      <td>50.0</td>\n",
       "      <td>1-5</td>\n",
       "    </tr>\n",
       "    <tr>\n",
       "      <th>...</th>\n",
       "      <td>...</td>\n",
       "      <td>...</td>\n",
       "      <td>...</td>\n",
       "      <td>...</td>\n",
       "      <td>...</td>\n",
       "      <td>...</td>\n",
       "      <td>...</td>\n",
       "      <td>...</td>\n",
       "      <td>...</td>\n",
       "      <td>...</td>\n",
       "      <td>...</td>\n",
       "      <td>...</td>\n",
       "      <td>...</td>\n",
       "      <td>...</td>\n",
       "      <td>...</td>\n",
       "      <td>...</td>\n",
       "      <td>...</td>\n",
       "      <td>...</td>\n",
       "      <td>...</td>\n",
       "    </tr>\n",
       "    <tr>\n",
       "      <th>386</th>\n",
       "      <td>MS</td>\n",
       "      <td>F</td>\n",
       "      <td>18.0</td>\n",
       "      <td>За городом</td>\n",
       "      <td>Больше 3-х человек</td>\n",
       "      <td>4.0</td>\n",
       "      <td>4.0</td>\n",
       "      <td>teacher</td>\n",
       "      <td>at_home</td>\n",
       "      <td>1.0</td>\n",
       "      <td>0.0</td>\n",
       "      <td>no</td>\n",
       "      <td>yes</td>\n",
       "      <td>4.0</td>\n",
       "      <td>3.0</td>\n",
       "      <td>5.0</td>\n",
       "      <td>7.0</td>\n",
       "      <td>30.0</td>\n",
       "      <td>5-10</td>\n",
       "    </tr>\n",
       "    <tr>\n",
       "      <th>388</th>\n",
       "      <td>MS</td>\n",
       "      <td>F</td>\n",
       "      <td>18.0</td>\n",
       "      <td>Город</td>\n",
       "      <td>Меньше или равно 3-м человекам</td>\n",
       "      <td>3.0</td>\n",
       "      <td>1.0</td>\n",
       "      <td>teacher</td>\n",
       "      <td>services</td>\n",
       "      <td>2.0</td>\n",
       "      <td>0.0</td>\n",
       "      <td>no</td>\n",
       "      <td>yes</td>\n",
       "      <td>3.0</td>\n",
       "      <td>4.0</td>\n",
       "      <td>1.0</td>\n",
       "      <td>0.0</td>\n",
       "      <td>40.0</td>\n",
       "      <td>Не пропускал</td>\n",
       "    </tr>\n",
       "    <tr>\n",
       "      <th>391</th>\n",
       "      <td>MS</td>\n",
       "      <td>M</td>\n",
       "      <td>17.0</td>\n",
       "      <td>Город</td>\n",
       "      <td>Меньше или равно 3-м человекам</td>\n",
       "      <td>3.0</td>\n",
       "      <td>1.0</td>\n",
       "      <td>services</td>\n",
       "      <td>services</td>\n",
       "      <td>1.0</td>\n",
       "      <td>0.0</td>\n",
       "      <td>no</td>\n",
       "      <td>yes</td>\n",
       "      <td>4.0</td>\n",
       "      <td>5.0</td>\n",
       "      <td>2.0</td>\n",
       "      <td>3.0</td>\n",
       "      <td>80.0</td>\n",
       "      <td>1-5</td>\n",
       "    </tr>\n",
       "    <tr>\n",
       "      <th>393</th>\n",
       "      <td>MS</td>\n",
       "      <td>M</td>\n",
       "      <td>18.0</td>\n",
       "      <td>За городом</td>\n",
       "      <td>Меньше или равно 3-м человекам</td>\n",
       "      <td>3.0</td>\n",
       "      <td>2.0</td>\n",
       "      <td>services</td>\n",
       "      <td>other</td>\n",
       "      <td>1.0</td>\n",
       "      <td>0.0</td>\n",
       "      <td>no</td>\n",
       "      <td>yes</td>\n",
       "      <td>4.0</td>\n",
       "      <td>1.0</td>\n",
       "      <td>5.0</td>\n",
       "      <td>0.0</td>\n",
       "      <td>50.0</td>\n",
       "      <td>Не пропускал</td>\n",
       "    </tr>\n",
       "    <tr>\n",
       "      <th>394</th>\n",
       "      <td>MS</td>\n",
       "      <td>M</td>\n",
       "      <td>19.0</td>\n",
       "      <td>Город</td>\n",
       "      <td>Меньше или равно 3-м человекам</td>\n",
       "      <td>1.0</td>\n",
       "      <td>1.0</td>\n",
       "      <td>other</td>\n",
       "      <td>at_home</td>\n",
       "      <td>1.0</td>\n",
       "      <td>0.0</td>\n",
       "      <td>NaN</td>\n",
       "      <td>yes</td>\n",
       "      <td>2.0</td>\n",
       "      <td>3.0</td>\n",
       "      <td>5.0</td>\n",
       "      <td>5.0</td>\n",
       "      <td>45.0</td>\n",
       "      <td>5-10</td>\n",
       "    </tr>\n",
       "  </tbody>\n",
       "</table>\n",
       "<p>351 rows × 19 columns</p>\n",
       "</div>"
      ],
      "text/plain": [
       "    school sex   age     address                         famsize  m_edu  \\\n",
       "0       GP   F  18.0       Город                             NaN    4.0   \n",
       "1       GP   F  17.0       Город              Больше 3-х человек    1.0   \n",
       "2       GP   F  15.0       Город  Меньше или равно 3-м человекам    1.0   \n",
       "3       GP   F  15.0       Город              Больше 3-х человек    4.0   \n",
       "4       GP   F  16.0       Город              Больше 3-х человек    3.0   \n",
       "..     ...  ..   ...         ...                             ...    ...   \n",
       "386     MS   F  18.0  За городом              Больше 3-х человек    4.0   \n",
       "388     MS   F  18.0       Город  Меньше или равно 3-м человекам    3.0   \n",
       "391     MS   M  17.0       Город  Меньше или равно 3-м человекам    3.0   \n",
       "393     MS   M  18.0  За городом  Меньше или равно 3-м человекам    3.0   \n",
       "394     MS   M  19.0       Город  Меньше или равно 3-м человекам    1.0   \n",
       "\n",
       "     f_edu     m_job     f_job  studytime  failures schoolsup higher  \\\n",
       "0      4.0   at_home   teacher        2.0       0.0       yes    yes   \n",
       "1      1.0   at_home     other        2.0       0.0        no    yes   \n",
       "2      1.0   at_home     other        2.0       3.0       yes    yes   \n",
       "3      2.0    health       NaN        3.0       0.0        no    yes   \n",
       "4      3.0     other     other        2.0       0.0        no    yes   \n",
       "..     ...       ...       ...        ...       ...       ...    ...   \n",
       "386    4.0   teacher   at_home        1.0       0.0        no    yes   \n",
       "388    1.0   teacher  services        2.0       0.0        no    yes   \n",
       "391    1.0  services  services        1.0       0.0        no    yes   \n",
       "393    2.0  services     other        1.0       0.0        no    yes   \n",
       "394    1.0     other   at_home        1.0       0.0       NaN    yes   \n",
       "\n",
       "     freetime  goout  health  absences  score absences_range  \n",
       "0         3.0    4.0     3.0       6.0   30.0           5-10  \n",
       "1         3.0    3.0     3.0       4.0   30.0            1-5  \n",
       "2         3.0    2.0     3.0      10.0   50.0           5-10  \n",
       "3         2.0    2.0     5.0       2.0   75.0            1-5  \n",
       "4         3.0    2.0     5.0       4.0   50.0            1-5  \n",
       "..        ...    ...     ...       ...    ...            ...  \n",
       "386       4.0    3.0     5.0       7.0   30.0           5-10  \n",
       "388       3.0    4.0     1.0       0.0   40.0   Не пропускал  \n",
       "391       4.0    5.0     2.0       3.0   80.0            1-5  \n",
       "393       4.0    1.0     5.0       0.0   50.0   Не пропускал  \n",
       "394       2.0    3.0     5.0       5.0   45.0           5-10  \n",
       "\n",
       "[351 rows x 19 columns]"
      ]
     },
     "metadata": {},
     "output_type": "display_data"
    }
   ],
   "source": [
    "display(stud)"
   ]
  },
  {
   "cell_type": "code",
   "execution_count": 66,
   "id": "ea439d08-764c-453b-b54a-2aa81be53635",
   "metadata": {},
   "outputs": [
    {
     "name": "stdout",
     "output_type": "stream",
     "text": [
      "Найдены статистически значимые различия для колонки f_job\n",
      "Найдены статистически значимые различия для колонки freetime\n"
     ]
    }
   ],
   "source": [
    "# Посчитаем статистические различия оценок для нечисловых признаков учеников\n",
    "# Нулевая гипотеза: Средние оценки для различных значений нечисловых признаков учеников неразличимы.\n",
    "\n",
    "for col in [\n",
    "    \"school\",\n",
    "    \"sex\",\n",
    "    \"address\",\n",
    "    \"famsize\",\n",
    "    \"m_job\",\n",
    "    \"f_job\",\n",
    "    \"schoolsup\",\n",
    "    \"higher\",\n",
    "    \"freetime\",\n",
    "    \"health\",\n",
    "    \"absences\",\n",
    "]:\n",
    "    get_stat_dif(col)"
   ]
  },
  {
   "cell_type": "markdown",
   "id": "b42a0a60-75c8-4720-9640-62019482a723",
   "metadata": {},
   "source": [
    "****************\n",
    "# Выводы"
   ]
  },
  {
   "cell_type": "markdown",
   "id": "23b55b42-536c-4bfc-9581-8f46daa556fc",
   "metadata": {},
   "source": [
    "1. В исходной таблице находилось 395 записей.\n",
    "2. В разных столбцах есть пустые значения.\n",
    "3. Следующие столбцы удалены из модели:\n",
    "    * studytime granular\n",
    "    * p_status\n",
    "    * reason\n",
    "    * guardian\n",
    "    * traveltime\n",
    "    * famsup\n",
    "    * paid\n",
    "    * activities\n",
    "    * nursery\n",
    "    * internet\n",
    "    * romantic\n",
    "    * famrel\n",
    "    * Это связано с тем, что при разных значениях в этих столбцах оценка ученика по математике изменялась несущественно.\n",
    "    * А столбец studytime granular полностью коррелируется со значениями в столбце studytime, поэтому он лишний в этой таблице.\n",
    "\n",
    "4. Оценки учеников выставлены в 100-бальной системе. Среди оценок были пустые и нулевые значения. Они были удалены из таблицы, так как пустые и ошибочные оценки не могут быть использованы в модели.\n",
    "5. Распределение оценок похоже на нормальное.\n",
    "6. Построенная матрица корреляции показала, что следующие цифровые столбцы существенно влияют на оценку (коэффициент корреляции больше, чем 0.1):\n",
    "\t* age: Возраст влияет на оценку отрицательно. Чем больше возраст, тем ниже оценка.\n",
    "\n",
    "\t* m_edu: Образование матери влияет на оценку положительно, чем оно выше, тем выше оценка.\n",
    "\n",
    "\t* studytime: Время на учебу помимо школы влияет на оценку положительно, чем оно больше, тем выше оценка.\n",
    "\n",
    "\t* failures: Количество внеучебных неудач сильно влияет на оценку отрицательным образом.\n",
    "\n",
    "\t* goout: Проведение времени с друзьями отрицательно влияет на оценку.\n",
    "7. Следующие нецифровые столбцы в той или иной мере влияют на значение оценки, если оценивать влияние визуально по диаграммам boxplot.\n",
    "    * \"school\",\n",
    "    * \"sex\",\n",
    "    * \"address\",\n",
    "    * \"famsize\",\n",
    "    * \"m_job\",\n",
    "    * \"f_job\",\n",
    "    * \"schoolsup\",\n",
    "    * \"higher\",\n",
    "    * \"freetime\",\n",
    "    * \"health\",\n",
    "    * \"absences\"\n",
    "8. Столбцы f_job и freetime имеют статистические значимое влияние на оценку по математике. Можно было бы оставить в моделе только эти два нецифровых столбца, а также цифровые столбцы из пункта 6, но я бы принимал это решение уже при построении модели."
   ]
  },
  {
   "cell_type": "code",
   "execution_count": null,
   "id": "bf290b0e-d485-4d00-9dfe-af97a1b94a65",
   "metadata": {},
   "outputs": [],
   "source": []
  }
 ],
 "metadata": {
  "kernelspec": {
   "display_name": "Python 3",
   "language": "python",
   "name": "python3"
  },
  "language_info": {
   "codemirror_mode": {
    "name": "ipython",
    "version": 3
   },
   "file_extension": ".py",
   "mimetype": "text/x-python",
   "name": "python",
   "nbconvert_exporter": "python",
   "pygments_lexer": "ipython3",
   "version": "3.8.8"
  }
 },
 "nbformat": 4,
 "nbformat_minor": 5
}
