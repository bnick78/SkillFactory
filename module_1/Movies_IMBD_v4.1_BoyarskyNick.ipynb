{
 "cells": [
  {
   "cell_type": "code",
   "execution_count": 1,
   "metadata": {
    "_cell_guid": "b1076dfc-b9ad-4769-8c92-a6c4dae69d19",
    "_uuid": "8f2839f25d086af736a60e9eeb907d3b93b6e0e5",
    "colab": {},
    "colab_type": "code",
    "id": "U2D2gTdJVp90"
   },
   "outputs": [],
   "source": [
    "import numpy as np\n",
    "import pandas as pd\n",
    "import seaborn as sns\n",
    "import matplotlib.pyplot as plt\n",
    "from collections import Counter"
   ]
  },
  {
   "cell_type": "code",
   "execution_count": 2,
   "metadata": {
    "_cell_guid": "79c7e3d0-c299-4dcb-8224-4455121ee9b0",
    "_uuid": "d629ff2d2480ee46fbb7e2d37f6b5fab8052498a",
    "colab": {},
    "colab_type": "code",
    "id": "oyGfxL3eVp9-"
   },
   "outputs": [
    {
     "data": {
      "text/html": [
       "<div>\n",
       "<style scoped>\n",
       "    .dataframe tbody tr th:only-of-type {\n",
       "        vertical-align: middle;\n",
       "    }\n",
       "\n",
       "    .dataframe tbody tr th {\n",
       "        vertical-align: top;\n",
       "    }\n",
       "\n",
       "    .dataframe thead th {\n",
       "        text-align: right;\n",
       "    }\n",
       "</style>\n",
       "<table border=\"1\" class=\"dataframe\">\n",
       "  <thead>\n",
       "    <tr style=\"text-align: right;\">\n",
       "      <th></th>\n",
       "      <th>imdb_id</th>\n",
       "      <th>budget</th>\n",
       "      <th>revenue</th>\n",
       "      <th>original_title</th>\n",
       "      <th>cast</th>\n",
       "      <th>director</th>\n",
       "      <th>tagline</th>\n",
       "      <th>overview</th>\n",
       "      <th>runtime</th>\n",
       "      <th>genres</th>\n",
       "      <th>production_companies</th>\n",
       "      <th>release_date</th>\n",
       "      <th>vote_average</th>\n",
       "      <th>release_year</th>\n",
       "    </tr>\n",
       "  </thead>\n",
       "  <tbody>\n",
       "    <tr>\n",
       "      <th>366</th>\n",
       "      <td>tt1263670</td>\n",
       "      <td>7000000</td>\n",
       "      <td>39462438</td>\n",
       "      <td>Crazy Heart</td>\n",
       "      <td>Jeff Bridges|Maggie Gyllenhaal|Colin Farrell|R...</td>\n",
       "      <td>Scott Cooper</td>\n",
       "      <td>The harder the life, the sweeter the song.</td>\n",
       "      <td>When reporter Jean Craddock interviews Bad Bla...</td>\n",
       "      <td>112</td>\n",
       "      <td>Drama|Music|Romance</td>\n",
       "      <td>Fox Searchlight Pictures|Butcher's Run Films|I...</td>\n",
       "      <td>12/16/2009</td>\n",
       "      <td>6.4</td>\n",
       "      <td>2009</td>\n",
       "    </tr>\n",
       "    <tr>\n",
       "      <th>1739</th>\n",
       "      <td>tt0825232</td>\n",
       "      <td>45000000</td>\n",
       "      <td>175372502</td>\n",
       "      <td>The Bucket List</td>\n",
       "      <td>Jack Nicholson|Morgan Freeman|Sean Hayes|Bever...</td>\n",
       "      <td>Rob Reiner</td>\n",
       "      <td>When he closed his eyes, his heart was opened</td>\n",
       "      <td>Corporate billionaire Edward and working class...</td>\n",
       "      <td>97</td>\n",
       "      <td>Comedy|Drama|Adventure</td>\n",
       "      <td>Warner Bros.|Storyline Entertainment|Two Ton F...</td>\n",
       "      <td>12/25/2007</td>\n",
       "      <td>6.9</td>\n",
       "      <td>2007</td>\n",
       "    </tr>\n",
       "  </tbody>\n",
       "</table>\n",
       "</div>"
      ],
      "text/plain": [
       "        imdb_id    budget    revenue   original_title  \\\n",
       "366   tt1263670   7000000   39462438      Crazy Heart   \n",
       "1739  tt0825232  45000000  175372502  The Bucket List   \n",
       "\n",
       "                                                   cast      director  \\\n",
       "366   Jeff Bridges|Maggie Gyllenhaal|Colin Farrell|R...  Scott Cooper   \n",
       "1739  Jack Nicholson|Morgan Freeman|Sean Hayes|Bever...    Rob Reiner   \n",
       "\n",
       "                                            tagline  \\\n",
       "366      The harder the life, the sweeter the song.   \n",
       "1739  When he closed his eyes, his heart was opened   \n",
       "\n",
       "                                               overview  runtime  \\\n",
       "366   When reporter Jean Craddock interviews Bad Bla...      112   \n",
       "1739  Corporate billionaire Edward and working class...       97   \n",
       "\n",
       "                      genres  \\\n",
       "366      Drama|Music|Romance   \n",
       "1739  Comedy|Drama|Adventure   \n",
       "\n",
       "                                   production_companies release_date  \\\n",
       "366   Fox Searchlight Pictures|Butcher's Run Films|I...   12/16/2009   \n",
       "1739  Warner Bros.|Storyline Entertainment|Two Ton F...   12/25/2007   \n",
       "\n",
       "      vote_average  release_year  \n",
       "366            6.4          2009  \n",
       "1739           6.9          2007  "
      ]
     },
     "execution_count": 2,
     "metadata": {},
     "output_type": "execute_result"
    }
   ],
   "source": [
    "data = pd.read_csv('movie_bd_v5.csv')\n",
    "data.sample(2)"
   ]
  },
  {
   "cell_type": "code",
   "execution_count": 3,
   "metadata": {
    "colab": {},
    "colab_type": "code",
    "id": "CoYUnagMVp-C"
   },
   "outputs": [
    {
     "data": {
      "text/html": [
       "<div>\n",
       "<style scoped>\n",
       "    .dataframe tbody tr th:only-of-type {\n",
       "        vertical-align: middle;\n",
       "    }\n",
       "\n",
       "    .dataframe tbody tr th {\n",
       "        vertical-align: top;\n",
       "    }\n",
       "\n",
       "    .dataframe thead th {\n",
       "        text-align: right;\n",
       "    }\n",
       "</style>\n",
       "<table border=\"1\" class=\"dataframe\">\n",
       "  <thead>\n",
       "    <tr style=\"text-align: right;\">\n",
       "      <th></th>\n",
       "      <th>budget</th>\n",
       "      <th>revenue</th>\n",
       "      <th>runtime</th>\n",
       "      <th>vote_average</th>\n",
       "      <th>release_year</th>\n",
       "    </tr>\n",
       "  </thead>\n",
       "  <tbody>\n",
       "    <tr>\n",
       "      <th>count</th>\n",
       "      <td>1.889000e+03</td>\n",
       "      <td>1.889000e+03</td>\n",
       "      <td>1889.000000</td>\n",
       "      <td>1889.000000</td>\n",
       "      <td>1889.000000</td>\n",
       "    </tr>\n",
       "    <tr>\n",
       "      <th>mean</th>\n",
       "      <td>5.431083e+07</td>\n",
       "      <td>1.553653e+08</td>\n",
       "      <td>109.658549</td>\n",
       "      <td>6.140762</td>\n",
       "      <td>2007.860773</td>\n",
       "    </tr>\n",
       "    <tr>\n",
       "      <th>std</th>\n",
       "      <td>4.858721e+07</td>\n",
       "      <td>2.146698e+08</td>\n",
       "      <td>18.017041</td>\n",
       "      <td>0.764763</td>\n",
       "      <td>4.468841</td>\n",
       "    </tr>\n",
       "    <tr>\n",
       "      <th>min</th>\n",
       "      <td>5.000000e+06</td>\n",
       "      <td>2.033165e+06</td>\n",
       "      <td>63.000000</td>\n",
       "      <td>3.300000</td>\n",
       "      <td>2000.000000</td>\n",
       "    </tr>\n",
       "    <tr>\n",
       "      <th>25%</th>\n",
       "      <td>2.000000e+07</td>\n",
       "      <td>3.456058e+07</td>\n",
       "      <td>97.000000</td>\n",
       "      <td>5.600000</td>\n",
       "      <td>2004.000000</td>\n",
       "    </tr>\n",
       "    <tr>\n",
       "      <th>50%</th>\n",
       "      <td>3.800000e+07</td>\n",
       "      <td>8.361541e+07</td>\n",
       "      <td>107.000000</td>\n",
       "      <td>6.100000</td>\n",
       "      <td>2008.000000</td>\n",
       "    </tr>\n",
       "    <tr>\n",
       "      <th>75%</th>\n",
       "      <td>7.200000e+07</td>\n",
       "      <td>1.782626e+08</td>\n",
       "      <td>120.000000</td>\n",
       "      <td>6.600000</td>\n",
       "      <td>2012.000000</td>\n",
       "    </tr>\n",
       "    <tr>\n",
       "      <th>max</th>\n",
       "      <td>3.800000e+08</td>\n",
       "      <td>2.781506e+09</td>\n",
       "      <td>214.000000</td>\n",
       "      <td>8.100000</td>\n",
       "      <td>2015.000000</td>\n",
       "    </tr>\n",
       "  </tbody>\n",
       "</table>\n",
       "</div>"
      ],
      "text/plain": [
       "             budget       revenue      runtime  vote_average  release_year\n",
       "count  1.889000e+03  1.889000e+03  1889.000000   1889.000000   1889.000000\n",
       "mean   5.431083e+07  1.553653e+08   109.658549      6.140762   2007.860773\n",
       "std    4.858721e+07  2.146698e+08    18.017041      0.764763      4.468841\n",
       "min    5.000000e+06  2.033165e+06    63.000000      3.300000   2000.000000\n",
       "25%    2.000000e+07  3.456058e+07    97.000000      5.600000   2004.000000\n",
       "50%    3.800000e+07  8.361541e+07   107.000000      6.100000   2008.000000\n",
       "75%    7.200000e+07  1.782626e+08   120.000000      6.600000   2012.000000\n",
       "max    3.800000e+08  2.781506e+09   214.000000      8.100000   2015.000000"
      ]
     },
     "execution_count": 3,
     "metadata": {},
     "output_type": "execute_result"
    }
   ],
   "source": [
    "data.describe()"
   ]
  },
  {
   "cell_type": "markdown",
   "metadata": {
    "colab_type": "text",
    "id": "DTIt7ezGVp-G"
   },
   "source": [
    "# Предобработка"
   ]
  },
  {
   "cell_type": "code",
   "execution_count": 4,
   "metadata": {
    "colab": {},
    "colab_type": "code",
    "id": "jNb40DwKVp-H"
   },
   "outputs": [],
   "source": [
    "answers = {} # создадим словарь для ответов\n",
    "\n",
    "# тут другие ваши предобработки колонок например:\n",
    "\n",
    "#the time given in the dataset is in string format.\n",
    "#So we need to change this in datetime format\n",
    "# ...\n",
    "data['profit']=data.revenue-data.budget #рассчитываем прибыль фильма и добавляем в новый столбец\n",
    "\n",
    "'''функция нужна, чтобы ставить в столбец, переданный в аргументе genre_column (это название жанра), значение 1 или 0 в качестве флага для этого жанра.\n",
    "используется для создания стольких столбцов, сколько жанров перечислено в столбце genres'''\n",
    "def genres_flag(film_genre_str,genre_column):\n",
    "    if genre_column in film_genre_str:\n",
    "        return 1\n",
    "    else:\n",
    "        return 0"
   ]
  },
  {
   "cell_type": "markdown",
   "metadata": {
    "colab_type": "text",
    "id": "YxZaH-nPVp-L"
   },
   "source": [
    "# 1. У какого фильма из списка самый большой бюджет?"
   ]
  },
  {
   "cell_type": "markdown",
   "metadata": {
    "colab_type": "text",
    "id": "Nd-G5gX6Vp-M"
   },
   "source": [
    "Использовать варианты ответов в коде решения запрещено.    \n",
    "Вы думаете и в жизни у вас будут варианты ответов?)"
   ]
  },
  {
   "cell_type": "code",
   "execution_count": 5,
   "metadata": {
    "colab": {},
    "colab_type": "code",
    "id": "uVnXAY5RVp-O"
   },
   "outputs": [],
   "source": [
    "# в словарь вставляем номер вопроса и ваш ответ на него\n",
    "# Пример: \n",
    "# answers['1'] = '2. Spider-Man 3 (tt0413300)'\n",
    "# запишите свой вариант ответа\n",
    "answers['1'] = '1. Pirates of the Caribbean: On Stranger Tides (tt1298650) '\n",
    "# если ответили верно, можете добавить комментарий со значком \"+\""
   ]
  },
  {
   "cell_type": "code",
   "execution_count": 6,
   "metadata": {
    "colab": {},
    "colab_type": "code",
    "id": "dZwb3m28Vp-S"
   },
   "outputs": [
    {
     "name": "stdout",
     "output_type": "stream",
     "text": [
      "Самый большой бюджет у фильма: Pirates of the Caribbean: On Stranger Tides\n",
      "Бюджет равняется: 380000000 долларов\n"
     ]
    }
   ],
   "source": [
    "# тут пишем ваш код для решения данного вопроса:\n",
    "print ('Самый большой бюджет у фильма:',data.query('budget == budget.max()').original_title.item()) # выбираем фильм, у которого \n",
    "                                                        # значение в столбце budget равно максимальному значению в столбце budget\n",
    "print('Бюджет равняется:',data.query('budget == budget.max()').budget.item(), 'долларов') "
   ]
  },
  {
   "cell_type": "markdown",
   "metadata": {
    "colab_type": "text",
    "id": "K7L3nbRXVp-X"
   },
   "source": [
    "ВАРИАНТ 2"
   ]
  },
  {
   "cell_type": "code",
   "execution_count": 7,
   "metadata": {
    "colab": {},
    "colab_type": "code",
    "id": "OGaoQI7rVp-X"
   },
   "outputs": [
    {
     "name": "stdout",
     "output_type": "stream",
     "text": [
      "Самый большой бюджет у фильма: Pirates of the Caribbean: On Stranger Tides\n",
      "Бюджет равняется: 380000000 долларов\n"
     ]
    }
   ],
   "source": [
    "# можно добавлять разные варианты решения\n",
    "print ('Самый большой бюджет у фильма:',data[data.budget==data.budget.max()].original_title.item()) # вариант без использования query\n",
    "print('Бюджет равняется:',data[data.budget==data.budget.max()].budget.item(), 'долларов') "
   ]
  },
  {
   "cell_type": "markdown",
   "metadata": {
    "colab_type": "text",
    "id": "FNRbbI3vVp-c"
   },
   "source": [
    "# 2. Какой из фильмов самый длительный (в минутах)?"
   ]
  },
  {
   "cell_type": "code",
   "execution_count": 8,
   "metadata": {
    "colab": {},
    "colab_type": "code",
    "id": "vHAoEXNTVp-d"
   },
   "outputs": [
    {
     "name": "stdout",
     "output_type": "stream",
     "text": [
      "Gods and Generals - самый длительный фильм\n"
     ]
    }
   ],
   "source": [
    "answers['2'] = '2. Gods and Generals (tt0279111)'\n",
    "\n",
    "# выбираем фильм, длительность которого равна максимальной\n",
    "print(data.query('runtime == runtime.max()').original_title.item(),'- самый длительный фильм')"
   ]
  },
  {
   "cell_type": "markdown",
   "metadata": {
    "colab_type": "text",
    "id": "bapLlpW8Vp-k"
   },
   "source": [
    "# 3. Какой из фильмов самый короткий (в минутах)?\n",
    "\n",
    "\n",
    "\n"
   ]
  },
  {
   "cell_type": "code",
   "execution_count": 9,
   "metadata": {
    "colab": {},
    "colab_type": "code",
    "id": "YBxaSHuAVp-l"
   },
   "outputs": [
    {
     "name": "stdout",
     "output_type": "stream",
     "text": [
      "Winnie the Pooh - самый короткий фильм\n"
     ]
    }
   ],
   "source": [
    "answers['3'] = '3. Winnie the Pooh (tt1449283)'\n",
    "\n",
    "# выбираем фильм, длительность которого равна минимальной\n",
    "print(data.query('runtime == runtime.min()').original_title.item(),'- самый короткий фильм')"
   ]
  },
  {
   "cell_type": "markdown",
   "metadata": {
    "colab_type": "text",
    "id": "TfQbxbfNVp-p"
   },
   "source": [
    "# 4. Какова средняя длительность фильмов?\n"
   ]
  },
  {
   "cell_type": "code",
   "execution_count": 10,
   "metadata": {
    "colab": {},
    "colab_type": "code",
    "id": "5K6dKZYVVp-q"
   },
   "outputs": [
    {
     "name": "stdout",
     "output_type": "stream",
     "text": [
      "Средняя длительность фильмов: 110 минут\n"
     ]
    }
   ],
   "source": [
    "answers['4'] = '4. 110'\n",
    "\n",
    "# считаем среднюю длительность в столбце runtime\n",
    "print('Средняя длительность фильмов:',round(data.runtime.mean()),'минут')"
   ]
  },
  {
   "cell_type": "markdown",
   "metadata": {
    "colab_type": "text",
    "id": "r5TvbnT_Vp-u"
   },
   "source": [
    "# 5. Каково медианное значение длительности фильмов? "
   ]
  },
  {
   "cell_type": "code",
   "execution_count": 11,
   "metadata": {
    "colab": {},
    "colab_type": "code",
    "id": "iBROplKnVp-v"
   },
   "outputs": [
    {
     "name": "stdout",
     "output_type": "stream",
     "text": [
      "Медианное значение длительности фильмов: 107.0 минут\n"
     ]
    }
   ],
   "source": [
    "answers['5'] = '5. 107'\n",
    "\n",
    "# считаем медиану в столбце runtime\n",
    "print('Медианное значение длительности фильмов:',data.runtime.median(),'минут')"
   ]
  },
  {
   "cell_type": "markdown",
   "metadata": {
    "colab_type": "text",
    "id": "39P-deDSVp-y"
   },
   "source": [
    "# 6. Какой самый прибыльный фильм?\n",
    "#### Внимание! Здесь и далее под «прибылью» или «убытками» понимается разность между сборами и бюджетом фильма. (прибыль = сборы - бюджет) в нашем датасете это будет (profit = revenue - budget) "
   ]
  },
  {
   "cell_type": "code",
   "execution_count": 12,
   "metadata": {
    "colab": {},
    "colab_type": "code",
    "id": "UYZh4T9WVp-y"
   },
   "outputs": [
    {
     "name": "stdout",
     "output_type": "stream",
     "text": [
      "Самый прибыльный фильм: Avatar\n",
      "Прибыль равна: 2544505847\n"
     ]
    }
   ],
   "source": [
    "# лучше код получения столбца profit вынести в Предобработку что в начале\n",
    "answers['6'] = '6. Avatar (tt0499549)'\n",
    "\n",
    "# Расчет нового столбца \"profit\" добавлен в раздел \"Предобработка\". Строка: data['profit']=data.revenue-data.budget \n",
    "\n",
    "# здесь выбираем фильм, у которого значение в столбце profit равно максимальному\n",
    "print('Самый прибыльный фильм:',data.query('profit == profit.max()').original_title.item())\n",
    "print('Прибыль равна:',data.query('profit == profit.max()').profit.item())"
   ]
  },
  {
   "cell_type": "markdown",
   "metadata": {
    "colab_type": "text",
    "id": "M99JmIX4Vp-2"
   },
   "source": [
    "# 7. Какой фильм самый убыточный? "
   ]
  },
  {
   "cell_type": "code",
   "execution_count": 13,
   "metadata": {
    "colab": {},
    "colab_type": "code",
    "id": "w-D2m4XPVp-3"
   },
   "outputs": [
    {
     "name": "stdout",
     "output_type": "stream",
     "text": [
      "Самый убыточный фильм: The Lone Ranger\n"
     ]
    }
   ],
   "source": [
    "answers['7'] = '7. The Lone Ranger (tt1210819)'\n",
    "\n",
    "# здесь выбираем фильм, у которого значение в столбце profit равно минимальному\n",
    "print('Самый убыточный фильм:',data.query('profit == profit.min()').original_title.item())"
   ]
  },
  {
   "cell_type": "markdown",
   "metadata": {
    "colab_type": "text",
    "id": "wEOM5ERVVp-6"
   },
   "source": [
    "# 8. У скольких фильмов из датасета объем сборов оказался выше бюджета?"
   ]
  },
  {
   "cell_type": "code",
   "execution_count": 14,
   "metadata": {
    "colab": {},
    "colab_type": "code",
    "id": "y00_7HD6Vp-7"
   },
   "outputs": [
    {
     "name": "stdout",
     "output_type": "stream",
     "text": [
      "У 1478 фильмов объем сборов выше бюджета\n"
     ]
    }
   ],
   "source": [
    "answers['8'] = '8. 1478'\n",
    "\n",
    "# выбираем фильмы, у которых прибыль больше нуля и считаем их количество\n",
    "print('У %d фильмов объем сборов выше бюджета' % data.query('profit >0').profit.count())"
   ]
  },
  {
   "cell_type": "markdown",
   "metadata": {
    "colab_type": "text",
    "id": "xhpspA9KVp_A"
   },
   "source": [
    "# 9. Какой фильм оказался самым кассовым в 2008 году?"
   ]
  },
  {
   "cell_type": "code",
   "execution_count": 15,
   "metadata": {
    "colab": {},
    "colab_type": "code",
    "id": "MoUyQr9RVp_B"
   },
   "outputs": [
    {
     "name": "stdout",
     "output_type": "stream",
     "text": [
      "Самый кассовый фильм в 2008 году: The Dark Knight\n"
     ]
    }
   ],
   "source": [
    "answers['9'] = '9. The Dark Knight (tt0468569)' \n",
    "\n",
    "# выбираем фильмы, у которых год выпуска равен 2008 и потом в получившейся таблице выбираем строку, у которой доход\n",
    "# равен максимальному доходу\n",
    "print('Самый кассовый фильм в 2008 году:',data.query('release_year == 2008').query('revenue == revenue.max()').original_title.item())\n"
   ]
  },
  {
   "cell_type": "markdown",
   "metadata": {
    "colab_type": "text",
    "id": "Zi4hDKidVp_F"
   },
   "source": [
    "# 10. Самый убыточный фильм за период с 2012 по 2014 г. (включительно)?\n"
   ]
  },
  {
   "cell_type": "code",
   "execution_count": 16,
   "metadata": {
    "colab": {},
    "colab_type": "code",
    "id": "XqyRmufJVp_F"
   },
   "outputs": [
    {
     "name": "stdout",
     "output_type": "stream",
     "text": [
      "Самый убыточный фильм за период с 2012 по 2014 г. (включительно): The Lone Ranger\n"
     ]
    }
   ],
   "source": [
    "answers['10'] = '10. The Lone Ranger (tt1210819) ' \n",
    "\n",
    "# выбираем фильмы, у которых год выпуска между 2012 и 2014 включительно и потом в получившейся таблице выбираем строку,\n",
    "# у которой прибыль равен минимальной прибыли\n",
    "print('Самый убыточный фильм за период с 2012 по 2014 г. (включительно):',\n",
    "      data.query('2012 <= release_year <= 2014').query('profit == profit.min()').original_title.item())"
   ]
  },
  {
   "cell_type": "markdown",
   "metadata": {
    "colab_type": "text",
    "id": "EA7Sa9dkVp_I"
   },
   "source": [
    "# 11. Какого жанра фильмов больше всего?"
   ]
  },
  {
   "cell_type": "code",
   "execution_count": 17,
   "metadata": {
    "colab": {},
    "colab_type": "code",
    "id": "zsJAwJ8QVp_J"
   },
   "outputs": [
    {
     "name": "stdout",
     "output_type": "stream",
     "text": [
      "Больше всего фильмов жанра Drama , их 782 штук\n"
     ]
    }
   ],
   "source": [
    "answers['11'] = '11. Drama' \n",
    "# эту задачу тоже можно решать разными подходами, попробуй реализовать разные варианты\n",
    "# если будешь добавлять функцию - выноси ее в предобработку что в начале\n",
    "\n",
    "n=list(data.genres.str.split('|'))  # так как жанры с разделителем, преобразуем их в списки\n",
    "genres_counts={} #создаем пустой словарь жанров, чтобы наполнить его жанрами из фильмов и для каждого жанра посчитать количество фильмов с ним\n",
    "for i in range(len(n)):  #проходимся по всем фильмам\n",
    "    for j in range(len(n[i])): #проходимся по всем жанрам в фильме\n",
    "        if n[i][j] in genres_counts.keys(): #если жанр фильма есть в словаре, то ...\n",
    "            genres_counts[n[i][j]] += 1 #добавляем +1 в счетчик количества фильмов с этим жанром\n",
    "        else:\n",
    "            genres_counts[n[i][j]] = 1 #создаем новую позицию в справочнике и присваиваем ей единичку в качестве количества элементов\n",
    "\n",
    "#sorted(genres_counts.items(), key=lambda x: -x[1])[0] # сортируем список по убыванию количества фильмов с жанром\n",
    "print('Больше всего фильмов жанра',sorted(genres_counts.items(), key=lambda x: -x[1])[0][0],\n",
    "      ', их',sorted(genres_counts.items(), key=lambda x: -x[1])[0][1],'штук')"
   ]
  },
  {
   "cell_type": "markdown",
   "metadata": {
    "colab_type": "text",
    "id": "Ax6g2C8SVp_M"
   },
   "source": [
    "ВАРИАНТ 2"
   ]
  },
  {
   "cell_type": "code",
   "execution_count": 18,
   "metadata": {
    "colab": {},
    "colab_type": "code",
    "id": "otO3SbrSVp_N"
   },
   "outputs": [
    {
     "data": {
      "text/plain": [
       "imdb_id                 tt0369610tt1392190tt2908446tt2488496tt2820852t...\n",
       "budget                                                       102593157187\n",
       "revenue                                                      293485091528\n",
       "original_title          Jurassic WorldMad Max: Fury RoadInsurgentStar ...\n",
       "cast                    Chris Pratt|Bryce Dallas Howard|Irrfan Khan|Vi...\n",
       "director                Colin TrevorrowGeorge MillerRobert SchwentkeJ....\n",
       "tagline                 The park is open.What a Lovely Day.One Choice ...\n",
       "overview                Twenty-two years after the events of Jurassic ...\n",
       "runtime                                                            207145\n",
       "genres                  Action|Adventure|Science Fiction|ThrillerActio...\n",
       "production_companies    Universal Studios|Amblin Entertainment|Legenda...\n",
       "release_date            6/9/20155/13/20153/18/201512/15/20154/1/201512...\n",
       "vote_average                                                      11599.9\n",
       "release_year                                                      3792849\n",
       "profit                                                       190891934341\n",
       "Action                                                                582\n",
       "Adventure                                                             415\n",
       "Science Fiction                                                       248\n",
       "Thriller                                                              596\n",
       "Fantasy                                                               222\n",
       "Crime                                                                 315\n",
       "Western                                                                19\n",
       "Drama                                                                 782\n",
       "Family                                                                260\n",
       "Animation                                                             139\n",
       "Comedy                                                                683\n",
       "Mystery                                                               168\n",
       "Romance                                                               308\n",
       "War                                                                    58\n",
       "History                                                                62\n",
       "Music                                                                  64\n",
       "Horror                                                                176\n",
       "Documentary                                                             8\n",
       "Foreign                                                                 2\n",
       "dtype: object"
      ]
     },
     "metadata": {},
     "output_type": "display_data"
    }
   ],
   "source": [
    "# теперь, когда мы знаем перечень жанров, мы можем создать новые столбцы в таблице для каждого жанра, \n",
    "# эту функцию я перенс в предобработку\n",
    "# def genres_flag(film_genre_str,genre_column):\n",
    "#     if genre_column in film_genre_str:\n",
    "#         return 1\n",
    "#     else:\n",
    "#         return 0\n",
    "\n",
    "\n",
    "for curr_genre_column in genres_counts.keys(): # создаем новые столбцы для каждого жанра и заполняем их 1 или 0, \n",
    "                                                # если в фильме есть этот жанр или нет.\n",
    "                                                # используем словарь с перечнем жанров, чтобы пройтись по нему, \n",
    "                                                # перебрав все жанры в базе данных \n",
    "    data[curr_genre_column]=data.genres.apply(genres_flag, genre_column=curr_genre_column)\n",
    "\n",
    "display(data.sum()) # выводим сумму значений по всем столбцам, в столбцах с жанрами находим наибольшую \n",
    "                    # получившуюся сумму. она находится в столбце Drama: 782\n"
   ]
  },
  {
   "cell_type": "markdown",
   "metadata": {
    "colab_type": "text",
    "id": "T9_bPWpkVp_Q"
   },
   "source": [
    "# 12. Фильмы какого жанра чаще всего становятся прибыльными? "
   ]
  },
  {
   "cell_type": "code",
   "execution_count": 19,
   "metadata": {
    "colab": {},
    "colab_type": "code",
    "id": "Tmt8MaK1Vp_R"
   },
   "outputs": [
    {
     "name": "stdout",
     "output_type": "stream",
     "text": [
      "Чаще всего становятся прибыльными фильмы жанра Drama , их 560 штук\n"
     ]
    }
   ],
   "source": [
    "answers['12'] = '12. Drama' \n",
    "n=list(data.query('profit>0').genres.str.split('|')) # основное отличие от решения вопроса 10 - это запрос query('profit>0')\n",
    "genres_counts={} #создаем пустой словарь жанров, чтобы наполнить его жанрами из фильмов и для каждого жанра посчитать \n",
    "                    #количество фильмов с ним\n",
    "for i in range(len(n)):  #проходимся по всем фильмам\n",
    "    for j in range(len(n[i])): #проходимся по всем жанрам в фильме\n",
    "        if n[i][j] in genres_counts.keys(): #если жанр фильма есть в словаре, то ...\n",
    "            genres_counts[n[i][j]] += 1 # добавляем +1 в счетчик количества фильмов с этим жанром\n",
    "        else:\n",
    "            genres_counts[n[i][j]] = 1 # Если жанра фильма нет в словаре создаем новую позицию \n",
    "                                        # в словаре и присваиваем ей единичку в качестве количества элементов\n",
    "\n",
    "sorted(genres_counts.items(), key=lambda x: -x[1]) # сортируем список по убыванию количества фильмов с жанром\n",
    "\n",
    "# печатаем первую строку получившегося списка, т.к. в ней больше всего фильмов\n",
    "print('Чаще всего становятся прибыльными фильмы жанра',sorted(genres_counts.items(), key=lambda x: -x[1])[0][0],\n",
    "      ', их',sorted(genres_counts.items(), key=lambda x: -x[1])[0][1],'штук')"
   ]
  },
  {
   "cell_type": "markdown",
   "metadata": {
    "colab_type": "text",
    "id": "0F23bgsDVp_U"
   },
   "source": [
    "# 13. У какого режиссера самые большие суммарные кассовые сборы?"
   ]
  },
  {
   "cell_type": "code",
   "execution_count": 20,
   "metadata": {
    "colab": {},
    "colab_type": "code",
    "id": "K6Z3J8ygVp_X"
   },
   "outputs": [
    {
     "name": "stdout",
     "output_type": "stream",
     "text": [
      "Самые большие суммарные кассовые сборы у режиссера:  Peter Jackson\n"
     ]
    }
   ],
   "source": [
    "answers['13'] = '13. Peter Jackson' \n",
    "\n",
    "# группируем таблицу по столбцу с режиссерами, для каждого режиссера считаем сумму по столбцу revenue (кассовые сборы),\n",
    "# сортируем получившийся список по убыванию значений, печатаем первую строку списка, т.к. в ней самая большая сумма кассы\n",
    "print('Самые большие суммарные кассовые сборы у режиссера: ',\n",
    "      data.groupby(['director'])['revenue'].sum().sort_values(ascending=False).index[0])\n",
    "# data.groupby(['director'])['revenue'].sum().sort_values(ascending=False) # чтобы увидеть весь список режиссеров, \n",
    "                                                                                # раскомментируйте эту строку "
   ]
  },
  {
   "cell_type": "markdown",
   "metadata": {
    "colab_type": "text",
    "id": "PsYC9FgRVp_a"
   },
   "source": [
    "# 14. Какой режисер снял больше всего фильмов в стиле Action?"
   ]
  },
  {
   "cell_type": "code",
   "execution_count": 21,
   "metadata": {
    "colab": {},
    "colab_type": "code",
    "id": "wd2M-wHeVp_b"
   },
   "outputs": [
    {
     "name": "stdout",
     "output_type": "stream",
     "text": [
      "Больше всего фильмов в стиле Action снял Robert Rodriguez\n"
     ]
    }
   ],
   "source": [
    "answers['14'] = '14. Robert Rodriguez' \n",
    "\n",
    "# 1. выбраем из таблицы строки, содержащие в столбце genres подстроку \"Action\".\n",
    "# 2. из столбца directors каждую ячейку разбиваем строку по разделителю \"|\" на список строк с именами режиссеров\n",
    "# 3. с помощью функции pd.core.common.flatten преобразуем получившийся список списков в плоский список\n",
    "# 4. преобразуем плоский список в объект series, чтобы потом применить к нему value_counts\n",
    "directors=pd.Series(list(pd.core.common.flatten(list(data[data.genres.str.contains(\"Action\")].director.str.split('|')))))\n",
    "\n",
    "# Следующие строки делают то же самое - раскладывают список списков в список, чтобы потом посчитать количество\n",
    "# from itertools import chain\n",
    "# directors=pd.Series(list(chain.from_iterable(list(data[data.genres.str.contains(\"Action\")].director.str.split('|')))))\n",
    "\n",
    "\n",
    "# 5. формируем рейтинг режиссеров по их количеству (по убыванию) в получившемся списке. \n",
    "# Выводим на печать первого режиссера из полученного списка, т.к. он чаще всех встречается в списке \n",
    "print('Больше всего фильмов в стиле Action снял', directors.value_counts(ascending=False).index[0])\n",
    "\n",
    "# directors.value_counts(ascending=False) # чтобы увидеть весь список режиссеров, раскомментируйте эту строку "
   ]
  },
  {
   "cell_type": "markdown",
   "metadata": {
    "colab_type": "text",
    "id": "PQ0KciD7Vp_f"
   },
   "source": [
    "# 15. Фильмы с каким актером принесли самые высокие кассовые сборы в 2012 году? "
   ]
  },
  {
   "cell_type": "code",
   "execution_count": 22,
   "metadata": {
    "colab": {},
    "colab_type": "code",
    "id": "aga62oeKVp_g"
   },
   "outputs": [
    {
     "name": "stdout",
     "output_type": "stream",
     "text": [
      "Ниже представлен рейтинг актеров по кассовым сборам фильмов с их участием\n",
      "Первый актер участвовал в фильмах с самыми высокими кассовыми сборами\n"
     ]
    },
    {
     "data": {
      "text/html": [
       "<div>\n",
       "<style scoped>\n",
       "    .dataframe tbody tr th:only-of-type {\n",
       "        vertical-align: middle;\n",
       "    }\n",
       "\n",
       "    .dataframe tbody tr th {\n",
       "        vertical-align: top;\n",
       "    }\n",
       "\n",
       "    .dataframe thead th {\n",
       "        text-align: right;\n",
       "    }\n",
       "</style>\n",
       "<table border=\"1\" class=\"dataframe\">\n",
       "  <thead>\n",
       "    <tr style=\"text-align: right;\">\n",
       "      <th></th>\n",
       "      <th>actor</th>\n",
       "      <th>actor_revenue</th>\n",
       "    </tr>\n",
       "  </thead>\n",
       "  <tbody>\n",
       "    <tr>\n",
       "      <th>386</th>\n",
       "      <td>Chris Hemsworth</td>\n",
       "      <td>2027450773</td>\n",
       "    </tr>\n",
       "    <tr>\n",
       "      <th>239</th>\n",
       "      <td>Denis Leary</td>\n",
       "      <td>1629460639</td>\n",
       "    </tr>\n",
       "    <tr>\n",
       "      <th>252</th>\n",
       "      <td>Anne Hathaway</td>\n",
       "      <td>1522851057</td>\n",
       "    </tr>\n",
       "    <tr>\n",
       "      <th>394</th>\n",
       "      <td>Robert Downey Jr.</td>\n",
       "      <td>1519557910</td>\n",
       "    </tr>\n",
       "    <tr>\n",
       "      <th>132</th>\n",
       "      <td>Mark Ruffalo</td>\n",
       "      <td>1519557910</td>\n",
       "    </tr>\n",
       "    <tr>\n",
       "      <th>...</th>\n",
       "      <td>...</td>\n",
       "      <td>...</td>\n",
       "    </tr>\n",
       "    <tr>\n",
       "      <th>442</th>\n",
       "      <td>Hope Davis</td>\n",
       "      <td>3428048</td>\n",
       "    </tr>\n",
       "    <tr>\n",
       "      <th>210</th>\n",
       "      <td>Sami Gayle</td>\n",
       "      <td>2106557</td>\n",
       "    </tr>\n",
       "    <tr>\n",
       "      <th>33</th>\n",
       "      <td>Danny Huston</td>\n",
       "      <td>2106557</td>\n",
       "    </tr>\n",
       "    <tr>\n",
       "      <th>256</th>\n",
       "      <td>Nicolas Cage</td>\n",
       "      <td>2106557</td>\n",
       "    </tr>\n",
       "    <tr>\n",
       "      <th>140</th>\n",
       "      <td>Josh Lucas</td>\n",
       "      <td>2106557</td>\n",
       "    </tr>\n",
       "  </tbody>\n",
       "</table>\n",
       "<p>466 rows × 2 columns</p>\n",
       "</div>"
      ],
      "text/plain": [
       "                 actor  actor_revenue\n",
       "386    Chris Hemsworth     2027450773\n",
       "239        Denis Leary     1629460639\n",
       "252      Anne Hathaway     1522851057\n",
       "394  Robert Downey Jr.     1519557910\n",
       "132       Mark Ruffalo     1519557910\n",
       "..                 ...            ...\n",
       "442         Hope Davis        3428048\n",
       "210         Sami Gayle        2106557\n",
       "33        Danny Huston        2106557\n",
       "256       Nicolas Cage        2106557\n",
       "140         Josh Lucas        2106557\n",
       "\n",
       "[466 rows x 2 columns]"
      ]
     },
     "metadata": {},
     "output_type": "display_data"
    }
   ],
   "source": [
    "answers['15'] = '15. Chris Hemsworth' \n",
    "\n",
    "act_dict={} # создаем словарь, в котором будет список актеров и для каждого из них будет посчитан суммарный доход фильмов, в которых они участвовали \n",
    "data2012=data[data.release_year == 2012] #ограничиваем таблицу 2012 годом\n",
    "actors=list(set(list(pd.core.common.flatten(list(data2012.cast.str.split('|')))))) # формируем список из множества имен актеров \n",
    "\n",
    "for actor in actors: # для каждого актера из списка считаем суммарный доход фильмов с его участием\n",
    "    act_dict[actor] = data2012[data2012.cast.str.contains(actor)]['revenue'].sum()\n",
    "    \n",
    "\n",
    "data2 = pd.DataFrame({'actor': act_dict.keys(),'actor_revenue':act_dict.values()}) # из словаря создаем таблицу\n",
    "print('Ниже представлен рейтинг актеров по кассовым сборам фильмов с их участием')\n",
    "print('Первый актер участвовал в фильмах с самыми высокими кассовыми сборами')\n",
    "display(data2.sort_values(by='actor_revenue', ascending=False)) # сортируем таблицу по убыванию дохода фильмов,\n",
    "                                                                #в которых участвовал актер"
   ]
  },
  {
   "cell_type": "markdown",
   "metadata": {
    "colab_type": "text",
    "id": "mWHyyL7QVp_j"
   },
   "source": [
    "# 16. Какой актер снялся в большем количестве высокобюджетных фильмов?"
   ]
  },
  {
   "cell_type": "code",
   "execution_count": 23,
   "metadata": {
    "colab": {},
    "colab_type": "code",
    "id": "qQtmHKTFVp_k"
   },
   "outputs": [
    {
     "name": "stdout",
     "output_type": "stream",
     "text": [
      "Ниже представлен рейтинг актеров по количеству высокобюджетных фильмов с их участием\n",
      "Первый актер участвовал в большем количестве высокобюджетных фильмов\n"
     ]
    },
    {
     "data": {
      "text/html": [
       "<div>\n",
       "<style scoped>\n",
       "    .dataframe tbody tr th:only-of-type {\n",
       "        vertical-align: middle;\n",
       "    }\n",
       "\n",
       "    .dataframe tbody tr th {\n",
       "        vertical-align: top;\n",
       "    }\n",
       "\n",
       "    .dataframe thead th {\n",
       "        text-align: right;\n",
       "    }\n",
       "</style>\n",
       "<table border=\"1\" class=\"dataframe\">\n",
       "  <thead>\n",
       "    <tr style=\"text-align: right;\">\n",
       "      <th></th>\n",
       "      <th>actor</th>\n",
       "      <th>film_count</th>\n",
       "    </tr>\n",
       "  </thead>\n",
       "  <tbody>\n",
       "    <tr>\n",
       "      <th>625</th>\n",
       "      <td>Matt Damon</td>\n",
       "      <td>18</td>\n",
       "    </tr>\n",
       "    <tr>\n",
       "      <th>1014</th>\n",
       "      <td>Adam Sandler</td>\n",
       "      <td>17</td>\n",
       "    </tr>\n",
       "    <tr>\n",
       "      <th>1134</th>\n",
       "      <td>Angelina Jolie</td>\n",
       "      <td>16</td>\n",
       "    </tr>\n",
       "    <tr>\n",
       "      <th>154</th>\n",
       "      <td>Tom Cruise</td>\n",
       "      <td>15</td>\n",
       "    </tr>\n",
       "    <tr>\n",
       "      <th>503</th>\n",
       "      <td>Eddie Murphy</td>\n",
       "      <td>15</td>\n",
       "    </tr>\n",
       "    <tr>\n",
       "      <th>...</th>\n",
       "      <td>...</td>\n",
       "      <td>...</td>\n",
       "    </tr>\n",
       "    <tr>\n",
       "      <th>887</th>\n",
       "      <td>ZoÃ« Kravitz</td>\n",
       "      <td>1</td>\n",
       "    </tr>\n",
       "    <tr>\n",
       "      <th>337</th>\n",
       "      <td>Tim Blake Nelson</td>\n",
       "      <td>1</td>\n",
       "    </tr>\n",
       "    <tr>\n",
       "      <th>336</th>\n",
       "      <td>Jeff LeBeau</td>\n",
       "      <td>1</td>\n",
       "    </tr>\n",
       "    <tr>\n",
       "      <th>890</th>\n",
       "      <td>Collin Chou</td>\n",
       "      <td>1</td>\n",
       "    </tr>\n",
       "    <tr>\n",
       "      <th>0</th>\n",
       "      <td>Dwight Yoakam</td>\n",
       "      <td>1</td>\n",
       "    </tr>\n",
       "  </tbody>\n",
       "</table>\n",
       "<p>1505 rows × 2 columns</p>\n",
       "</div>"
      ],
      "text/plain": [
       "                 actor  film_count\n",
       "625         Matt Damon          18\n",
       "1014      Adam Sandler          17\n",
       "1134    Angelina Jolie          16\n",
       "154         Tom Cruise          15\n",
       "503       Eddie Murphy          15\n",
       "...                ...         ...\n",
       "887       ZoÃ« Kravitz           1\n",
       "337   Tim Blake Nelson           1\n",
       "336        Jeff LeBeau           1\n",
       "890        Collin Chou           1\n",
       "0        Dwight Yoakam           1\n",
       "\n",
       "[1505 rows x 2 columns]"
      ]
     },
     "metadata": {},
     "output_type": "display_data"
    }
   ],
   "source": [
    "answers['16'] = '16. Matt Damon' \n",
    "\n",
    "act_dict={} # создаем словарь, в котором будет список актеров и для каждого из них будет посчитано количество фильмов,\n",
    "            # в которых они участвовали \n",
    "data_great_budget=data[data.budget >= data.budget.mean()] # создаем новую таблицу с фильмами, \n",
    "                                                            # у которых бюджет больше среднего бюджета фильмов\n",
    "\n",
    "# формируем список из множества имен актеров в получившейся таблице\n",
    "actors=list(set(list(pd.core.common.flatten(list(data_great_budget.cast.str.split('|'))))))\n",
    "\n",
    "for actor in actors: # для каждого актера из списка считаем количество фильмов с его участием\n",
    "    act_dict[actor] = data_great_budget[data_great_budget.cast.str.contains(actor)].imdb_id.count()\n",
    "    \n",
    "    \n",
    "data2 = pd.DataFrame({'actor': act_dict.keys(),'film_count':act_dict.values()})  # из словаря создаем таблицу\n",
    "\n",
    "print('Ниже представлен рейтинг актеров по количеству высокобюджетных фильмов с их участием')\n",
    "print('Первый актер участвовал в большем количестве высокобюджетных фильмов')\n",
    "display(data2.sort_values(by='film_count', ascending=False))  # сортируем таблицу по убыванию количества фильмов"
   ]
  },
  {
   "cell_type": "markdown",
   "metadata": {
    "colab_type": "text",
    "id": "NIh6AaW5Vp_n"
   },
   "source": [
    "# 17. В фильмах какого жанра больше всего снимался Nicolas Cage? "
   ]
  },
  {
   "cell_type": "code",
   "execution_count": 24,
   "metadata": {
    "colab": {},
    "colab_type": "code",
    "id": "H74SJDIBVp_n"
   },
   "outputs": [
    {
     "name": "stdout",
     "output_type": "stream",
     "text": [
      "Чаще всего Nicolas Cage снимался в фильмах жанра Action\n"
     ]
    }
   ],
   "source": [
    "answers['17'] = '17. Action' \n",
    "\n",
    "# формируем плоский список жанров фильмов, в которых снимался \"Nicolas Cage\", далее из него создаем серию.\n",
    "genres_ser=pd.Series(list(pd.core.common.flatten(list(data[data.cast.str.contains(\"Nicolas Cage\")].genres.str.split('|')))))\n",
    "\n",
    "# сортируем серию по убыванию количества фильмов. Печатаем первую строку серии.\n",
    "print('Чаще всего Nicolas Cage снимался в фильмах жанра',genres_ser.value_counts(ascending=False).index[0])\n",
    "\n",
    "# genres_ser.value_counts(ascending=False) # раскомментируйте эту строку, если хотите увидеть рейтинг жанров фильмов Николаса Кейджа"
   ]
  },
  {
   "cell_type": "markdown",
   "metadata": {
    "colab_type": "text",
    "id": "RqOmPRfWVp_q"
   },
   "source": [
    "# 18. Самый убыточный фильм от Paramount Pictures"
   ]
  },
  {
   "cell_type": "code",
   "execution_count": 25,
   "metadata": {
    "colab": {},
    "colab_type": "code",
    "id": "9E_B0Y96Vp_r"
   },
   "outputs": [
    {
     "name": "stdout",
     "output_type": "stream",
     "text": [
      "Самый убыточный фильм от Paramount Pictures: K-19: The Widowmaker\n"
     ]
    }
   ],
   "source": [
    "answers['18'] = '18. K-19: The Widowmaker (tt0267626) ' \n",
    "\n",
    "# просто отбираем фильмы от компании Paramount Pictures, а потом из них отбираем те, у кого самый минимальный profit (т.е. прибыль)\n",
    "print('Самый убыточный фильм от Paramount Pictures:',\n",
    "      data[data.production_companies.str.contains(\"Paramount Pictures\")].query('profit == profit.min()').original_title.item())"
   ]
  },
  {
   "cell_type": "markdown",
   "metadata": {
    "colab_type": "text",
    "id": "vS8Ur6ddVp_u"
   },
   "source": [
    "# 19. Какой год стал самым успешным по суммарным кассовым сборам?"
   ]
  },
  {
   "cell_type": "code",
   "execution_count": 26,
   "metadata": {
    "colab": {},
    "colab_type": "code",
    "id": "Dnbt4GdIVp_v"
   },
   "outputs": [
    {
     "name": "stdout",
     "output_type": "stream",
     "text": [
      "Самый успешный год по суммарным кассовым сборам: 2015\n"
     ]
    }
   ],
   "source": [
    "answers['19'] = '19. 2015' \n",
    "\n",
    "# группируем таблицу по столбцу release_year, для каждого года считаем сумму по столбцу revenue.\n",
    "# получившуюся серию сортируем по убыванию суммы. печатаем название индекса первой строки\n",
    "print('Самый успешный год по суммарным кассовым сборам:', \n",
    "      data.groupby('release_year').revenue.sum().sort_values(ascending=False).index[0])"
   ]
  },
  {
   "cell_type": "markdown",
   "metadata": {
    "colab_type": "text",
    "id": "JAzJh4QAVp_z"
   },
   "source": [
    "# 20. Какой самый прибыльный год для студии Warner Bros?"
   ]
  },
  {
   "cell_type": "code",
   "execution_count": 27,
   "metadata": {
    "colab": {},
    "colab_type": "code",
    "id": "wgVu02DEVp_0"
   },
   "outputs": [
    {
     "name": "stdout",
     "output_type": "stream",
     "text": [
      "Самый прибыльный год для студии Warner Bros: 2014\n"
     ]
    }
   ],
   "source": [
    "answers['20'] = '20. 2014' \n",
    "\n",
    "# отбираем из таблицы строки, где production_companies содержит подстроку \"Warner Bros\"\n",
    "# группируем получившуюся таблицу по столбцу release_year, для каждого года считаем сумму по столбцу profit\n",
    "# получившуюся серию сортируем по убыванию суммы. печатаем название индекса первой строки\n",
    "print('Самый прибыльный год для студии Warner Bros:',\n",
    "      data[data.production_companies.str.contains(\"Warner Bros\")].groupby('release_year').\n",
    "      profit.sum().sort_values(ascending=False).index[0])"
   ]
  },
  {
   "cell_type": "markdown",
   "metadata": {
    "colab_type": "text",
    "id": "8Im1S2HRVp_4"
   },
   "source": [
    "# 21. В каком месяце за все годы суммарно вышло больше всего фильмов?"
   ]
  },
  {
   "cell_type": "code",
   "execution_count": 28,
   "metadata": {
    "colab": {},
    "colab_type": "code",
    "id": "lev6TH7gVp_4"
   },
   "outputs": [
    {
     "name": "stdout",
     "output_type": "stream",
     "text": [
      "Больше всего фильмов вышло в месяце с номером: 9\n"
     ]
    }
   ],
   "source": [
    "answers['21'] = '21. Сентябрь' \n",
    "\n",
    "\"\"\" Получение месяца из даты\"\"\"\n",
    "def get_month(date): \n",
    "    return date.split('/')[0]\n",
    "\n",
    "data['release_month']=data.release_date.apply(get_month) #создаем столбец с месяцем выпуска фильма\n",
    "\n",
    "# группируем таблицу по месяцу выпуска фильма, сортируем по убыванию по количеству фильмов в месяце. \n",
    "# печатаем первую строку, так как в ней больше всего фильмов\n",
    "print('Больше всего фильмов вышло в месяце с номером:',\n",
    "      data.groupby('release_month').imdb_id.count().sort_values(ascending=False).index[0])\n"
   ]
  },
  {
   "cell_type": "markdown",
   "metadata": {
    "colab_type": "text",
    "id": "uAJsZ_NeVp_7"
   },
   "source": [
    "# 22. Сколько суммарно вышло фильмов летом? (за июнь, июль, август)"
   ]
  },
  {
   "cell_type": "code",
   "execution_count": 37,
   "metadata": {
    "colab": {},
    "colab_type": "code",
    "id": "Aa-hEREoVp_8"
   },
   "outputs": [
    {
     "name": "stdout",
     "output_type": "stream",
     "text": [
      "Летом вышло 450 фильмов\n"
     ]
    }
   ],
   "source": [
    "answers['22'] = '22. 450' \n",
    "\n",
    "\"\"\" Получение времени года из даты\"\"\"\n",
    "def get_season(date): \n",
    "    if int(date.split('/')[0]) in [12,1,2]:\n",
    "        return 'Зима'\n",
    "    elif int(date.split('/')[0]) in [3,4,5]:\n",
    "        return 'Весна'\n",
    "    elif int(date.split('/')[0]) in [6,7,8]:\n",
    "        return 'Лето'\n",
    "    else:\n",
    "        return 'Осень'\n",
    "\n",
    "data['release_season']=data.release_date.apply(get_season) #создаем столбец с временем года выпуска фильма\n",
    "\n",
    "print('Летом вышло',data.query('release_season==\"Лето\"').imdb_id.count(),'фильмов') # вариант с выводом количества фильмов за лето\n",
    "\n",
    "# data.groupby('release_season').imdb_id.count() # вариант с выводом количеств фильмов по всем временам года\n"
   ]
  },
  {
   "cell_type": "markdown",
   "metadata": {
    "colab_type": "text",
    "id": "G94ppOY1VqAA"
   },
   "source": [
    "# 23. Для какого режиссера зима – самое продуктивное время года? "
   ]
  },
  {
   "cell_type": "code",
   "execution_count": 30,
   "metadata": {
    "colab": {},
    "colab_type": "code",
    "id": "RhNTsamuVqAB"
   },
   "outputs": [
    {
     "name": "stdout",
     "output_type": "stream",
     "text": [
      "Зимой больше всего фильмов сделал режиссер Peter Jackson\n"
     ]
    }
   ],
   "source": [
    "answers['23'] = '23. Peter Jackson' \n",
    "\n",
    "# отбираем фильмы, выпущенные зимой\n",
    "# берем из них режиссеров и формируем из них список, который превращаем в серию\n",
    "directors=pd.Series(list(pd.core.common.flatten(list(data.query('release_season==\"Зима\"').director.str.split('|')))))\n",
    "\n",
    "# считаем в серии количество вхождений каждого режиссера, сортируем серию по убыванию количества. \n",
    "# Печатаем первого режиссера в серии, т.к. у него больше всего фильмов\n",
    "print('Зимой больше всего фильмов сделал режиссер',directors.value_counts(ascending=False).index[0])"
   ]
  },
  {
   "cell_type": "markdown",
   "metadata": {
    "colab_type": "text",
    "id": "RBo0JVjVVqAF"
   },
   "source": [
    "# 24. Какая студия дает самые длинные названия своим фильмам по количеству символов?"
   ]
  },
  {
   "cell_type": "code",
   "execution_count": 31,
   "metadata": {
    "colab": {},
    "colab_type": "code",
    "id": "QRGS8L0iVqAG"
   },
   "outputs": [
    {
     "name": "stderr",
     "output_type": "stream",
     "text": [
      "C:\\Users\\Nick\\anaconda3\\lib\\site-packages\\pandas\\core\\strings\\accessor.py:101: UserWarning: This pattern has match groups. To actually get the groups, use str.extract.\n",
      "  return func(self, *args, **kwargs)\n"
     ]
    },
    {
     "name": "stdout",
     "output_type": "stream",
     "text": [
      "Ниже представлен рейтинг студий по убыванию максимальной длины названий ее фильмов\n",
      "Почему то в ответе только одна студия, хотя в рейтинге их 2 с одинаковой длиной названия фильма, т.к. они создали фильм \"Борат\".\n"
     ]
    },
    {
     "data": {
      "text/html": [
       "<div>\n",
       "<style scoped>\n",
       "    .dataframe tbody tr th:only-of-type {\n",
       "        vertical-align: middle;\n",
       "    }\n",
       "\n",
       "    .dataframe tbody tr th {\n",
       "        vertical-align: top;\n",
       "    }\n",
       "\n",
       "    .dataframe thead th {\n",
       "        text-align: right;\n",
       "    }\n",
       "</style>\n",
       "<table border=\"1\" class=\"dataframe\">\n",
       "  <thead>\n",
       "    <tr style=\"text-align: right;\">\n",
       "      <th></th>\n",
       "      <th>company</th>\n",
       "      <th>title_len</th>\n",
       "    </tr>\n",
       "  </thead>\n",
       "  <tbody>\n",
       "    <tr>\n",
       "      <th>1737</th>\n",
       "      <td>Twentieth Century Fox Film Corporation</td>\n",
       "      <td>83.0</td>\n",
       "    </tr>\n",
       "    <tr>\n",
       "      <th>84</th>\n",
       "      <td>Four By Two Productions</td>\n",
       "      <td>83.0</td>\n",
       "    </tr>\n",
       "    <tr>\n",
       "      <th>1264</th>\n",
       "      <td>Walden Media</td>\n",
       "      <td>62.0</td>\n",
       "    </tr>\n",
       "    <tr>\n",
       "      <th>3</th>\n",
       "      <td>Disney</td>\n",
       "      <td>62.0</td>\n",
       "    </tr>\n",
       "    <tr>\n",
       "      <th>406</th>\n",
       "      <td>Walt Disney</td>\n",
       "      <td>62.0</td>\n",
       "    </tr>\n",
       "    <tr>\n",
       "      <th>...</th>\n",
       "      <td>...</td>\n",
       "      <td>...</td>\n",
       "    </tr>\n",
       "    <tr>\n",
       "      <th>1610</th>\n",
       "      <td>Disney Double Dare You (DDY)</td>\n",
       "      <td>NaN</td>\n",
       "    </tr>\n",
       "    <tr>\n",
       "      <th>1619</th>\n",
       "      <td>TelevisiÃ³ de Catalunya (TV3)</td>\n",
       "      <td>NaN</td>\n",
       "    </tr>\n",
       "    <tr>\n",
       "      <th>1624</th>\n",
       "      <td>Universal Pictures International (UPI)</td>\n",
       "      <td>NaN</td>\n",
       "    </tr>\n",
       "    <tr>\n",
       "      <th>1653</th>\n",
       "      <td>Metro-Goldwyn-Mayer (MGM)</td>\n",
       "      <td>NaN</td>\n",
       "    </tr>\n",
       "    <tr>\n",
       "      <th>1707</th>\n",
       "      <td>Danmarks Radio (DR)</td>\n",
       "      <td>NaN</td>\n",
       "    </tr>\n",
       "  </tbody>\n",
       "</table>\n",
       "<p>1771 rows × 2 columns</p>\n",
       "</div>"
      ],
      "text/plain": [
       "                                     company  title_len\n",
       "1737  Twentieth Century Fox Film Corporation       83.0\n",
       "84                   Four By Two Productions       83.0\n",
       "1264                            Walden Media       62.0\n",
       "3                                     Disney       62.0\n",
       "406                              Walt Disney       62.0\n",
       "...                                      ...        ...\n",
       "1610            Disney Double Dare You (DDY)        NaN\n",
       "1619           TelevisiÃ³ de Catalunya (TV3)        NaN\n",
       "1624  Universal Pictures International (UPI)        NaN\n",
       "1653               Metro-Goldwyn-Mayer (MGM)        NaN\n",
       "1707                     Danmarks Radio (DR)        NaN\n",
       "\n",
       "[1771 rows x 2 columns]"
      ]
     },
     "metadata": {},
     "output_type": "display_data"
    }
   ],
   "source": [
    "answers['24'] = '24. Four By Two Productions' \n",
    "\n",
    "\"\"\" Получение длины названия фильма\"\"\"\n",
    "def get_title_len(title): \n",
    "    return len(title)\n",
    "\n",
    "data['title_len']=data.original_title.apply(get_title_len) #создаем столбец с длиной названия фильма\n",
    "\n",
    "companies=list(set(list(pd.core.common.flatten(list(data.production_companies.str.split('|')))))) # получаем список уникальных студий\n",
    "comp_dict={} # создаем словарь, в котором для каждой студии мы посчитаем максимальную длину из всех названий ее фильмов\n",
    "\n",
    "\n",
    "for company in companies: # для каждой студии считаем сумму длины названий ее фильмов\n",
    "            # здесь пришлось сделать регулярное выражение, т.к. есть студия Twentieth Century Fox \n",
    "            # и есть Twentieth Century Fox Film Corporation \n",
    "            # и их нужно посчитать отдельно, т.к. по обычному вхождению при поиске строки \"Twentieth Century Fox\" \n",
    "            # будут выбраны обе студии\n",
    "    comp_dict[company] = data[data.production_companies.str.contains(company+'$|^\\|'+company+'|'+company+'\\|', regex=True)]. \\\n",
    "                                title_len.max()\n",
    "    \n",
    "data2 = pd.DataFrame({'company': comp_dict.keys(),'title_len':comp_dict.values()}) # создаем таблицу из словаря\n",
    "\n",
    "print('Ниже представлен рейтинг студий по убыванию максимальной длины названий ее фильмов')\n",
    "print('Почему то в ответе только одна студия, хотя в рейтинге их 2 с одинаковой длиной названия фильма, т.к. они создали фильм \"Борат\".')\n",
    "display(data2.sort_values(by='title_len', ascending=False)) # сортируем таблицу по длине названия по убыванию"
   ]
  },
  {
   "cell_type": "markdown",
   "metadata": {
    "colab_type": "text",
    "id": "9G0hbvR7VqAK"
   },
   "source": [
    "# 25. Описание фильмов какой студии в среднем самые длинные по количеству слов?"
   ]
  },
  {
   "cell_type": "code",
   "execution_count": 32,
   "metadata": {
    "colab": {},
    "colab_type": "code",
    "id": "Ge2GsLNxVqAK"
   },
   "outputs": [
    {
     "name": "stderr",
     "output_type": "stream",
     "text": [
      "C:\\Users\\Nick\\anaconda3\\lib\\site-packages\\pandas\\core\\strings\\accessor.py:101: UserWarning: This pattern has match groups. To actually get the groups, use str.extract.\n",
      "  return func(self, *args, **kwargs)\n"
     ]
    },
    {
     "data": {
      "text/html": [
       "<div>\n",
       "<style scoped>\n",
       "    .dataframe tbody tr th:only-of-type {\n",
       "        vertical-align: middle;\n",
       "    }\n",
       "\n",
       "    .dataframe tbody tr th {\n",
       "        vertical-align: top;\n",
       "    }\n",
       "\n",
       "    .dataframe thead th {\n",
       "        text-align: right;\n",
       "    }\n",
       "</style>\n",
       "<table border=\"1\" class=\"dataframe\">\n",
       "  <thead>\n",
       "    <tr style=\"text-align: right;\">\n",
       "      <th></th>\n",
       "      <th>company</th>\n",
       "      <th>overview_words_count</th>\n",
       "    </tr>\n",
       "  </thead>\n",
       "  <tbody>\n",
       "    <tr>\n",
       "      <th>1756</th>\n",
       "      <td>Midnight Picture Show</td>\n",
       "      <td>175.0</td>\n",
       "    </tr>\n",
       "    <tr>\n",
       "      <th>998</th>\n",
       "      <td>Room 9 Entertainment</td>\n",
       "      <td>161.0</td>\n",
       "    </tr>\n",
       "    <tr>\n",
       "      <th>484</th>\n",
       "      <td>98 MPH Productions</td>\n",
       "      <td>159.0</td>\n",
       "    </tr>\n",
       "    <tr>\n",
       "      <th>410</th>\n",
       "      <td>Heineken Branded Entertainment</td>\n",
       "      <td>159.0</td>\n",
       "    </tr>\n",
       "    <tr>\n",
       "      <th>1145</th>\n",
       "      <td>Brookwell-McNamara Entertainment</td>\n",
       "      <td>156.0</td>\n",
       "    </tr>\n",
       "    <tr>\n",
       "      <th>...</th>\n",
       "      <td>...</td>\n",
       "      <td>...</td>\n",
       "    </tr>\n",
       "    <tr>\n",
       "      <th>1610</th>\n",
       "      <td>Disney Double Dare You (DDY)</td>\n",
       "      <td>NaN</td>\n",
       "    </tr>\n",
       "    <tr>\n",
       "      <th>1619</th>\n",
       "      <td>TelevisiÃ³ de Catalunya (TV3)</td>\n",
       "      <td>NaN</td>\n",
       "    </tr>\n",
       "    <tr>\n",
       "      <th>1624</th>\n",
       "      <td>Universal Pictures International (UPI)</td>\n",
       "      <td>NaN</td>\n",
       "    </tr>\n",
       "    <tr>\n",
       "      <th>1653</th>\n",
       "      <td>Metro-Goldwyn-Mayer (MGM)</td>\n",
       "      <td>NaN</td>\n",
       "    </tr>\n",
       "    <tr>\n",
       "      <th>1707</th>\n",
       "      <td>Danmarks Radio (DR)</td>\n",
       "      <td>NaN</td>\n",
       "    </tr>\n",
       "  </tbody>\n",
       "</table>\n",
       "<p>1771 rows × 2 columns</p>\n",
       "</div>"
      ],
      "text/plain": [
       "                                     company  overview_words_count\n",
       "1756                   Midnight Picture Show                 175.0\n",
       "998                     Room 9 Entertainment                 161.0\n",
       "484                       98 MPH Productions                 159.0\n",
       "410           Heineken Branded Entertainment                 159.0\n",
       "1145        Brookwell-McNamara Entertainment                 156.0\n",
       "...                                      ...                   ...\n",
       "1610            Disney Double Dare You (DDY)                   NaN\n",
       "1619           TelevisiÃ³ de Catalunya (TV3)                   NaN\n",
       "1624  Universal Pictures International (UPI)                   NaN\n",
       "1653               Metro-Goldwyn-Mayer (MGM)                   NaN\n",
       "1707                     Danmarks Radio (DR)                   NaN\n",
       "\n",
       "[1771 rows x 2 columns]"
      ]
     },
     "execution_count": 32,
     "metadata": {},
     "output_type": "execute_result"
    }
   ],
   "source": [
    "answers['25'] = '25. Midnight Picture Show' \n",
    "\n",
    "\"\"\" Получение количества слов в описании фильма\"\"\"\n",
    "def get_overview_len(overview): \n",
    "    return len(overview.split())\n",
    "\n",
    "data['overview_words_count']=data.overview.apply(get_overview_len) #создаем столбец с количеством слов в описании фильма\n",
    "companies=list(set(list(pd.core.common.flatten(list(data.production_companies.str.split('|')))))) # получаем список уникальных студий\n",
    "comp_dict={} \n",
    "\n",
    "for company in companies: # для каждой студии считаем среднее количество слов в описаниях ее фильмов\n",
    "    comp_dict[company] = data[data.production_companies.str.contains(company+'$|^\\|'+company+'|'+company+'\\|', regex=True)].\\\n",
    "                            overview_words_count.mean()\n",
    "    \n",
    "data2 = pd.DataFrame({'company': comp_dict.keys(),'overview_words_count':comp_dict.values()})\n",
    "data2.sort_values(by='overview_words_count', ascending=False)"
   ]
  },
  {
   "cell_type": "markdown",
   "metadata": {
    "colab_type": "text",
    "id": "FJ1AFt90VqAP"
   },
   "source": [
    "# 26. Какие фильмы входят в 1 процент лучших по рейтингу? \n",
    "\n",
    "по vote_average"
   ]
  },
  {
   "cell_type": "code",
   "execution_count": 33,
   "metadata": {
    "colab": {},
    "colab_type": "code",
    "id": "8qmJVq4CVqAQ"
   },
   "outputs": [
    {
     "data": {
      "text/html": [
       "<div>\n",
       "<style scoped>\n",
       "    .dataframe tbody tr th:only-of-type {\n",
       "        vertical-align: middle;\n",
       "    }\n",
       "\n",
       "    .dataframe tbody tr th {\n",
       "        vertical-align: top;\n",
       "    }\n",
       "\n",
       "    .dataframe thead th {\n",
       "        text-align: right;\n",
       "    }\n",
       "</style>\n",
       "<table border=\"1\" class=\"dataframe\">\n",
       "  <thead>\n",
       "    <tr style=\"text-align: right;\">\n",
       "      <th></th>\n",
       "      <th>imdb_id</th>\n",
       "      <th>budget</th>\n",
       "      <th>revenue</th>\n",
       "      <th>original_title</th>\n",
       "      <th>cast</th>\n",
       "      <th>director</th>\n",
       "      <th>tagline</th>\n",
       "      <th>overview</th>\n",
       "      <th>runtime</th>\n",
       "      <th>genres</th>\n",
       "      <th>...</th>\n",
       "      <th>War</th>\n",
       "      <th>History</th>\n",
       "      <th>Music</th>\n",
       "      <th>Horror</th>\n",
       "      <th>Documentary</th>\n",
       "      <th>Foreign</th>\n",
       "      <th>release_month</th>\n",
       "      <th>release_season</th>\n",
       "      <th>title_len</th>\n",
       "      <th>overview_words_count</th>\n",
       "    </tr>\n",
       "  </thead>\n",
       "  <tbody>\n",
       "    <tr>\n",
       "      <th>599</th>\n",
       "      <td>tt0468569</td>\n",
       "      <td>185000000</td>\n",
       "      <td>1001921825</td>\n",
       "      <td>The Dark Knight</td>\n",
       "      <td>Christian Bale|Michael Caine|Heath Ledger|Aaro...</td>\n",
       "      <td>Christopher Nolan</td>\n",
       "      <td>Why So Serious?</td>\n",
       "      <td>Batman raises the stakes in his war on crime. ...</td>\n",
       "      <td>152</td>\n",
       "      <td>Drama|Action|Crime|Thriller</td>\n",
       "      <td>...</td>\n",
       "      <td>0</td>\n",
       "      <td>0</td>\n",
       "      <td>0</td>\n",
       "      <td>0</td>\n",
       "      <td>0</td>\n",
       "      <td>0</td>\n",
       "      <td>7</td>\n",
       "      <td>Лето</td>\n",
       "      <td>15</td>\n",
       "      <td>67</td>\n",
       "    </tr>\n",
       "    <tr>\n",
       "      <th>9</th>\n",
       "      <td>tt2096673</td>\n",
       "      <td>175000000</td>\n",
       "      <td>853708609</td>\n",
       "      <td>Inside Out</td>\n",
       "      <td>Amy Poehler|Phyllis Smith|Richard Kind|Bill Ha...</td>\n",
       "      <td>Pete Docter</td>\n",
       "      <td>Meet the little voices inside your head.</td>\n",
       "      <td>Growing up can be a bumpy road, and it's no ex...</td>\n",
       "      <td>94</td>\n",
       "      <td>Comedy|Animation|Family</td>\n",
       "      <td>...</td>\n",
       "      <td>0</td>\n",
       "      <td>0</td>\n",
       "      <td>0</td>\n",
       "      <td>0</td>\n",
       "      <td>0</td>\n",
       "      <td>0</td>\n",
       "      <td>6</td>\n",
       "      <td>Лето</td>\n",
       "      <td>10</td>\n",
       "      <td>112</td>\n",
       "    </tr>\n",
       "    <tr>\n",
       "      <th>34</th>\n",
       "      <td>tt3170832</td>\n",
       "      <td>6000000</td>\n",
       "      <td>35401758</td>\n",
       "      <td>Room</td>\n",
       "      <td>Brie Larson|Jacob Tremblay|Joan Allen|Sean Bri...</td>\n",
       "      <td>Lenny Abrahamson</td>\n",
       "      <td>Love knows no boundaries</td>\n",
       "      <td>Jack is a young boy of 5 years old who has liv...</td>\n",
       "      <td>117</td>\n",
       "      <td>Drama|Thriller</td>\n",
       "      <td>...</td>\n",
       "      <td>0</td>\n",
       "      <td>0</td>\n",
       "      <td>0</td>\n",
       "      <td>0</td>\n",
       "      <td>0</td>\n",
       "      <td>0</td>\n",
       "      <td>10</td>\n",
       "      <td>Осень</td>\n",
       "      <td>4</td>\n",
       "      <td>49</td>\n",
       "    </tr>\n",
       "    <tr>\n",
       "      <th>118</th>\n",
       "      <td>tt0816692</td>\n",
       "      <td>165000000</td>\n",
       "      <td>621752480</td>\n",
       "      <td>Interstellar</td>\n",
       "      <td>Matthew McConaughey|Jessica Chastain|Anne Hath...</td>\n",
       "      <td>Christopher Nolan</td>\n",
       "      <td>Mankind was born on Earth. It was never meant ...</td>\n",
       "      <td>Interstellar chronicles the adventures of a gr...</td>\n",
       "      <td>169</td>\n",
       "      <td>Adventure|Drama|Science Fiction</td>\n",
       "      <td>...</td>\n",
       "      <td>0</td>\n",
       "      <td>0</td>\n",
       "      <td>0</td>\n",
       "      <td>0</td>\n",
       "      <td>0</td>\n",
       "      <td>0</td>\n",
       "      <td>11</td>\n",
       "      <td>Осень</td>\n",
       "      <td>12</td>\n",
       "      <td>35</td>\n",
       "    </tr>\n",
       "    <tr>\n",
       "      <th>125</th>\n",
       "      <td>tt2084970</td>\n",
       "      <td>14000000</td>\n",
       "      <td>233555708</td>\n",
       "      <td>The Imitation Game</td>\n",
       "      <td>Benedict Cumberbatch|Keira Knightley|Matthew G...</td>\n",
       "      <td>Morten Tyldum</td>\n",
       "      <td>The true enigma was the man who cracked the code.</td>\n",
       "      <td>Based on the real life story of legendary cryp...</td>\n",
       "      <td>113</td>\n",
       "      <td>History|Drama|Thriller|War</td>\n",
       "      <td>...</td>\n",
       "      <td>1</td>\n",
       "      <td>1</td>\n",
       "      <td>0</td>\n",
       "      <td>0</td>\n",
       "      <td>0</td>\n",
       "      <td>0</td>\n",
       "      <td>11</td>\n",
       "      <td>Осень</td>\n",
       "      <td>18</td>\n",
       "      <td>46</td>\n",
       "    </tr>\n",
       "    <tr>\n",
       "      <th>119</th>\n",
       "      <td>tt2015381</td>\n",
       "      <td>170000000</td>\n",
       "      <td>773312399</td>\n",
       "      <td>Guardians of the Galaxy</td>\n",
       "      <td>Chris Pratt|Zoe Saldana|Dave Bautista|Vin Dies...</td>\n",
       "      <td>James Gunn</td>\n",
       "      <td>All heroes start somewhere.</td>\n",
       "      <td>Light years from Earth, 26 years after being a...</td>\n",
       "      <td>121</td>\n",
       "      <td>Action|Science Fiction|Adventure</td>\n",
       "      <td>...</td>\n",
       "      <td>0</td>\n",
       "      <td>0</td>\n",
       "      <td>0</td>\n",
       "      <td>0</td>\n",
       "      <td>0</td>\n",
       "      <td>0</td>\n",
       "      <td>7</td>\n",
       "      <td>Лето</td>\n",
       "      <td>23</td>\n",
       "      <td>28</td>\n",
       "    </tr>\n",
       "    <tr>\n",
       "      <th>128</th>\n",
       "      <td>tt2267998</td>\n",
       "      <td>61000000</td>\n",
       "      <td>369330363</td>\n",
       "      <td>Gone Girl</td>\n",
       "      <td>Ben Affleck|Rosamund Pike|Carrie Coon|Neil Pat...</td>\n",
       "      <td>David Fincher</td>\n",
       "      <td>You don't know what you've got 'til it's...</td>\n",
       "      <td>With his wife's disappearance having become th...</td>\n",
       "      <td>145</td>\n",
       "      <td>Mystery|Thriller|Drama</td>\n",
       "      <td>...</td>\n",
       "      <td>0</td>\n",
       "      <td>0</td>\n",
       "      <td>0</td>\n",
       "      <td>0</td>\n",
       "      <td>0</td>\n",
       "      <td>0</td>\n",
       "      <td>10</td>\n",
       "      <td>Осень</td>\n",
       "      <td>9</td>\n",
       "      <td>30</td>\n",
       "    </tr>\n",
       "    <tr>\n",
       "      <th>138</th>\n",
       "      <td>tt2278388</td>\n",
       "      <td>30000000</td>\n",
       "      <td>174600318</td>\n",
       "      <td>The Grand Budapest Hotel</td>\n",
       "      <td>Ralph Fiennes|Tony Revolori|F. Murray Abraham|...</td>\n",
       "      <td>Wes Anderson</td>\n",
       "      <td>A perfect holiday without leaving home.</td>\n",
       "      <td>The Grand Budapest Hotel tells of a legendary ...</td>\n",
       "      <td>99</td>\n",
       "      <td>Comedy|Drama</td>\n",
       "      <td>...</td>\n",
       "      <td>0</td>\n",
       "      <td>0</td>\n",
       "      <td>0</td>\n",
       "      <td>0</td>\n",
       "      <td>0</td>\n",
       "      <td>0</td>\n",
       "      <td>2</td>\n",
       "      <td>Зима</td>\n",
       "      <td>24</td>\n",
       "      <td>66</td>\n",
       "    </tr>\n",
       "    <tr>\n",
       "      <th>370</th>\n",
       "      <td>tt1375666</td>\n",
       "      <td>160000000</td>\n",
       "      <td>825500000</td>\n",
       "      <td>Inception</td>\n",
       "      <td>Leonardo DiCaprio|Joseph Gordon-Levitt|Ellen P...</td>\n",
       "      <td>Christopher Nolan</td>\n",
       "      <td>Your mind is the scene of the crime.</td>\n",
       "      <td>Cobb, a skilled thief who commits corporate es...</td>\n",
       "      <td>148</td>\n",
       "      <td>Action|Thriller|Science Fiction|Mystery|Adventure</td>\n",
       "      <td>...</td>\n",
       "      <td>0</td>\n",
       "      <td>0</td>\n",
       "      <td>0</td>\n",
       "      <td>0</td>\n",
       "      <td>0</td>\n",
       "      <td>0</td>\n",
       "      <td>7</td>\n",
       "      <td>Лето</td>\n",
       "      <td>9</td>\n",
       "      <td>44</td>\n",
       "    </tr>\n",
       "    <tr>\n",
       "      <th>872</th>\n",
       "      <td>tt0253474</td>\n",
       "      <td>35000000</td>\n",
       "      <td>120072577</td>\n",
       "      <td>The Pianist</td>\n",
       "      <td>Adrien Brody|Thomas Kretschmann|Frank Finlay|M...</td>\n",
       "      <td>Roman Polanski</td>\n",
       "      <td>Music was his passion. Survival was his master...</td>\n",
       "      <td>The Pianist is a film adapted from the biograp...</td>\n",
       "      <td>150</td>\n",
       "      <td>Drama|War</td>\n",
       "      <td>...</td>\n",
       "      <td>1</td>\n",
       "      <td>0</td>\n",
       "      <td>0</td>\n",
       "      <td>0</td>\n",
       "      <td>0</td>\n",
       "      <td>0</td>\n",
       "      <td>9</td>\n",
       "      <td>Осень</td>\n",
       "      <td>11</td>\n",
       "      <td>39</td>\n",
       "    </tr>\n",
       "    <tr>\n",
       "      <th>1081</th>\n",
       "      <td>tt0167260</td>\n",
       "      <td>94000000</td>\n",
       "      <td>1118888979</td>\n",
       "      <td>The Lord of the Rings: The Return of the King</td>\n",
       "      <td>Elijah Wood|Ian McKellen|Viggo Mortensen|Liv T...</td>\n",
       "      <td>Peter Jackson</td>\n",
       "      <td>The eye of the enemy is moving.</td>\n",
       "      <td>Aragorn is revealed as the heir to the ancient...</td>\n",
       "      <td>201</td>\n",
       "      <td>Adventure|Fantasy|Action</td>\n",
       "      <td>...</td>\n",
       "      <td>0</td>\n",
       "      <td>0</td>\n",
       "      <td>0</td>\n",
       "      <td>0</td>\n",
       "      <td>0</td>\n",
       "      <td>0</td>\n",
       "      <td>12</td>\n",
       "      <td>Зима</td>\n",
       "      <td>45</td>\n",
       "      <td>45</td>\n",
       "    </tr>\n",
       "    <tr>\n",
       "      <th>1183</th>\n",
       "      <td>tt0993846</td>\n",
       "      <td>100000000</td>\n",
       "      <td>392000694</td>\n",
       "      <td>The Wolf of Wall Street</td>\n",
       "      <td>Leonardo DiCaprio|Jonah Hill|Margot Robbie|Kyl...</td>\n",
       "      <td>Martin Scorsese</td>\n",
       "      <td>EARN. SPEND. PARTY.</td>\n",
       "      <td>A New York stockbroker refuses to cooperate in...</td>\n",
       "      <td>180</td>\n",
       "      <td>Crime|Drama|Comedy</td>\n",
       "      <td>...</td>\n",
       "      <td>0</td>\n",
       "      <td>0</td>\n",
       "      <td>0</td>\n",
       "      <td>0</td>\n",
       "      <td>0</td>\n",
       "      <td>0</td>\n",
       "      <td>12</td>\n",
       "      <td>Зима</td>\n",
       "      <td>23</td>\n",
       "      <td>29</td>\n",
       "    </tr>\n",
       "    <tr>\n",
       "      <th>1191</th>\n",
       "      <td>tt2024544</td>\n",
       "      <td>20000000</td>\n",
       "      <td>187000000</td>\n",
       "      <td>12 Years a Slave</td>\n",
       "      <td>Chiwetel Ejiofor|Michael Fassbender|Lupita Nyo...</td>\n",
       "      <td>Steve McQueen</td>\n",
       "      <td>The extraordinary true story of Solomon Northup</td>\n",
       "      <td>In the pre-Civil War United States, Solomon No...</td>\n",
       "      <td>134</td>\n",
       "      <td>Drama|History</td>\n",
       "      <td>...</td>\n",
       "      <td>0</td>\n",
       "      <td>1</td>\n",
       "      <td>0</td>\n",
       "      <td>0</td>\n",
       "      <td>0</td>\n",
       "      <td>0</td>\n",
       "      <td>10</td>\n",
       "      <td>Осень</td>\n",
       "      <td>16</td>\n",
       "      <td>61</td>\n",
       "    </tr>\n",
       "    <tr>\n",
       "      <th>1800</th>\n",
       "      <td>tt0209144</td>\n",
       "      <td>9000000</td>\n",
       "      <td>39723096</td>\n",
       "      <td>Memento</td>\n",
       "      <td>Guy Pearce|Carrie-Anne Moss|Joe Pantoliano|Mar...</td>\n",
       "      <td>Christopher Nolan</td>\n",
       "      <td>Some memories are best forgotten.</td>\n",
       "      <td>Suffering short-term memory loss after a head ...</td>\n",
       "      <td>113</td>\n",
       "      <td>Mystery|Thriller</td>\n",
       "      <td>...</td>\n",
       "      <td>0</td>\n",
       "      <td>0</td>\n",
       "      <td>0</td>\n",
       "      <td>0</td>\n",
       "      <td>0</td>\n",
       "      <td>0</td>\n",
       "      <td>10</td>\n",
       "      <td>Осень</td>\n",
       "      <td>7</td>\n",
       "      <td>78</td>\n",
       "    </tr>\n",
       "  </tbody>\n",
       "</table>\n",
       "<p>14 rows × 38 columns</p>\n",
       "</div>"
      ],
      "text/plain": [
       "        imdb_id     budget     revenue  \\\n",
       "599   tt0468569  185000000  1001921825   \n",
       "9     tt2096673  175000000   853708609   \n",
       "34    tt3170832    6000000    35401758   \n",
       "118   tt0816692  165000000   621752480   \n",
       "125   tt2084970   14000000   233555708   \n",
       "119   tt2015381  170000000   773312399   \n",
       "128   tt2267998   61000000   369330363   \n",
       "138   tt2278388   30000000   174600318   \n",
       "370   tt1375666  160000000   825500000   \n",
       "872   tt0253474   35000000   120072577   \n",
       "1081  tt0167260   94000000  1118888979   \n",
       "1183  tt0993846  100000000   392000694   \n",
       "1191  tt2024544   20000000   187000000   \n",
       "1800  tt0209144    9000000    39723096   \n",
       "\n",
       "                                     original_title  \\\n",
       "599                                 The Dark Knight   \n",
       "9                                        Inside Out   \n",
       "34                                             Room   \n",
       "118                                    Interstellar   \n",
       "125                              The Imitation Game   \n",
       "119                         Guardians of the Galaxy   \n",
       "128                                       Gone Girl   \n",
       "138                        The Grand Budapest Hotel   \n",
       "370                                       Inception   \n",
       "872                                     The Pianist   \n",
       "1081  The Lord of the Rings: The Return of the King   \n",
       "1183                        The Wolf of Wall Street   \n",
       "1191                               12 Years a Slave   \n",
       "1800                                        Memento   \n",
       "\n",
       "                                                   cast           director  \\\n",
       "599   Christian Bale|Michael Caine|Heath Ledger|Aaro...  Christopher Nolan   \n",
       "9     Amy Poehler|Phyllis Smith|Richard Kind|Bill Ha...        Pete Docter   \n",
       "34    Brie Larson|Jacob Tremblay|Joan Allen|Sean Bri...   Lenny Abrahamson   \n",
       "118   Matthew McConaughey|Jessica Chastain|Anne Hath...  Christopher Nolan   \n",
       "125   Benedict Cumberbatch|Keira Knightley|Matthew G...      Morten Tyldum   \n",
       "119   Chris Pratt|Zoe Saldana|Dave Bautista|Vin Dies...         James Gunn   \n",
       "128   Ben Affleck|Rosamund Pike|Carrie Coon|Neil Pat...      David Fincher   \n",
       "138   Ralph Fiennes|Tony Revolori|F. Murray Abraham|...       Wes Anderson   \n",
       "370   Leonardo DiCaprio|Joseph Gordon-Levitt|Ellen P...  Christopher Nolan   \n",
       "872   Adrien Brody|Thomas Kretschmann|Frank Finlay|M...     Roman Polanski   \n",
       "1081  Elijah Wood|Ian McKellen|Viggo Mortensen|Liv T...      Peter Jackson   \n",
       "1183  Leonardo DiCaprio|Jonah Hill|Margot Robbie|Kyl...    Martin Scorsese   \n",
       "1191  Chiwetel Ejiofor|Michael Fassbender|Lupita Nyo...      Steve McQueen   \n",
       "1800  Guy Pearce|Carrie-Anne Moss|Joe Pantoliano|Mar...  Christopher Nolan   \n",
       "\n",
       "                                                tagline  \\\n",
       "599                                     Why So Serious?   \n",
       "9              Meet the little voices inside your head.   \n",
       "34                             Love knows no boundaries   \n",
       "118   Mankind was born on Earth. It was never meant ...   \n",
       "125   The true enigma was the man who cracked the code.   \n",
       "119                         All heroes start somewhere.   \n",
       "128         You don't know what you've got 'til it's...   \n",
       "138             A perfect holiday without leaving home.   \n",
       "370                Your mind is the scene of the crime.   \n",
       "872   Music was his passion. Survival was his master...   \n",
       "1081                    The eye of the enemy is moving.   \n",
       "1183                                EARN. SPEND. PARTY.   \n",
       "1191    The extraordinary true story of Solomon Northup   \n",
       "1800                  Some memories are best forgotten.   \n",
       "\n",
       "                                               overview  runtime  \\\n",
       "599   Batman raises the stakes in his war on crime. ...      152   \n",
       "9     Growing up can be a bumpy road, and it's no ex...       94   \n",
       "34    Jack is a young boy of 5 years old who has liv...      117   \n",
       "118   Interstellar chronicles the adventures of a gr...      169   \n",
       "125   Based on the real life story of legendary cryp...      113   \n",
       "119   Light years from Earth, 26 years after being a...      121   \n",
       "128   With his wife's disappearance having become th...      145   \n",
       "138   The Grand Budapest Hotel tells of a legendary ...       99   \n",
       "370   Cobb, a skilled thief who commits corporate es...      148   \n",
       "872   The Pianist is a film adapted from the biograp...      150   \n",
       "1081  Aragorn is revealed as the heir to the ancient...      201   \n",
       "1183  A New York stockbroker refuses to cooperate in...      180   \n",
       "1191  In the pre-Civil War United States, Solomon No...      134   \n",
       "1800  Suffering short-term memory loss after a head ...      113   \n",
       "\n",
       "                                                 genres  ... War History  \\\n",
       "599                         Drama|Action|Crime|Thriller  ...   0       0   \n",
       "9                               Comedy|Animation|Family  ...   0       0   \n",
       "34                                       Drama|Thriller  ...   0       0   \n",
       "118                     Adventure|Drama|Science Fiction  ...   0       0   \n",
       "125                          History|Drama|Thriller|War  ...   1       1   \n",
       "119                    Action|Science Fiction|Adventure  ...   0       0   \n",
       "128                              Mystery|Thriller|Drama  ...   0       0   \n",
       "138                                        Comedy|Drama  ...   0       0   \n",
       "370   Action|Thriller|Science Fiction|Mystery|Adventure  ...   0       0   \n",
       "872                                           Drama|War  ...   1       0   \n",
       "1081                           Adventure|Fantasy|Action  ...   0       0   \n",
       "1183                                 Crime|Drama|Comedy  ...   0       0   \n",
       "1191                                      Drama|History  ...   0       1   \n",
       "1800                                   Mystery|Thriller  ...   0       0   \n",
       "\n",
       "      Music  Horror  Documentary  Foreign  release_month  release_season  \\\n",
       "599       0       0            0        0              7            Лето   \n",
       "9         0       0            0        0              6            Лето   \n",
       "34        0       0            0        0             10           Осень   \n",
       "118       0       0            0        0             11           Осень   \n",
       "125       0       0            0        0             11           Осень   \n",
       "119       0       0            0        0              7            Лето   \n",
       "128       0       0            0        0             10           Осень   \n",
       "138       0       0            0        0              2            Зима   \n",
       "370       0       0            0        0              7            Лето   \n",
       "872       0       0            0        0              9           Осень   \n",
       "1081      0       0            0        0             12            Зима   \n",
       "1183      0       0            0        0             12            Зима   \n",
       "1191      0       0            0        0             10           Осень   \n",
       "1800      0       0            0        0             10           Осень   \n",
       "\n",
       "      title_len  overview_words_count  \n",
       "599          15                    67  \n",
       "9            10                   112  \n",
       "34            4                    49  \n",
       "118          12                    35  \n",
       "125          18                    46  \n",
       "119          23                    28  \n",
       "128           9                    30  \n",
       "138          24                    66  \n",
       "370           9                    44  \n",
       "872          11                    39  \n",
       "1081         45                    45  \n",
       "1183         23                    29  \n",
       "1191         16                    61  \n",
       "1800          7                    78  \n",
       "\n",
       "[14 rows x 38 columns]"
      ]
     },
     "execution_count": 33,
     "metadata": {},
     "output_type": "execute_result"
    }
   ],
   "source": [
    "answers['26'] = '26. Inside Out, The Dark Knight, 12 Years a Slave'\n",
    "\n",
    "temp_votes=data.vote_average.value_counts(normalize=True).sort_index(ascending=False) #определяем диапазоны значений рейтинга \n",
    "                                                                                        #и процент фильмов в каждом из диапазонов\n",
    "# далее определяем, на каком диапазоне будет превышен 1% фильмов\n",
    "sum1=0\n",
    "result_index=-1\n",
    "for i in temp_votes.array:\n",
    "    sum1 += i\n",
    "#     print(i, sum1,result_index)\n",
    "    if sum1<=0.01:\n",
    "        result_index += 1\n",
    "# на индексе 2 1% фильмов еще не превышен, на индексе 3 будет превышен\n",
    "\n",
    "data[data.vote_average >= temp_votes.index[result_index]].sort_values(by='vote_average',ascending=False)\n",
    "# отбираем фильмы, у которых рейтинг выше значения для второго элемента рейтинга. отсортировываем их по убыванию рейтинга.\n",
    "\n",
    "# не понимаю, зачем было дано это задание. ведь в результате получается не 3 фильма, как в вариантах ответа. \n",
    "# проще было просто отсортировать весь список фильмов по убыванию\n",
    "# рейтинга и искать в нем фильмы из ответа.\n",
    "# рекомендую организаторам переформулировать вопрос, чтобы он давал однозначный ответ \n",
    "# и побуждал использовать какую-то специфическую функциональность pandas"
   ]
  },
  {
   "cell_type": "markdown",
   "metadata": {
    "colab_type": "text",
    "id": "MdXsUXbCVqAV",
    "tags": []
   },
   "source": [
    "# 27. Какие актеры чаще всего снимаются в одном фильме вместе?\n"
   ]
  },
  {
   "cell_type": "markdown",
   "metadata": {
    "colab_type": "text",
    "id": "4ymnxEVoVqAW"
   },
   "source": [
    "ВАРИАНТ 2"
   ]
  },
  {
   "cell_type": "code",
   "execution_count": 34,
   "metadata": {},
   "outputs": [
    {
     "name": "stdout",
     "output_type": "stream",
     "text": [
      "Ниже содержится перечень пар актеров, которые снимались вместе чаще всего\n"
     ]
    },
    {
     "data": {
      "text/html": [
       "<div>\n",
       "<style scoped>\n",
       "    .dataframe tbody tr th:only-of-type {\n",
       "        vertical-align: middle;\n",
       "    }\n",
       "\n",
       "    .dataframe tbody tr th {\n",
       "        vertical-align: top;\n",
       "    }\n",
       "\n",
       "    .dataframe thead th {\n",
       "        text-align: right;\n",
       "    }\n",
       "</style>\n",
       "<table border=\"1\" class=\"dataframe\">\n",
       "  <thead>\n",
       "    <tr style=\"text-align: right;\">\n",
       "      <th></th>\n",
       "      <th>actor1</th>\n",
       "      <th>actor2</th>\n",
       "      <th>film_count</th>\n",
       "    </tr>\n",
       "  </thead>\n",
       "  <tbody>\n",
       "    <tr>\n",
       "      <th>45</th>\n",
       "      <td>Daniel Radcliffe</td>\n",
       "      <td>Rupert Grint</td>\n",
       "      <td>8</td>\n",
       "    </tr>\n",
       "    <tr>\n",
       "      <th>1161</th>\n",
       "      <td>Emma Watson</td>\n",
       "      <td>Daniel Radcliffe</td>\n",
       "      <td>8</td>\n",
       "    </tr>\n",
       "    <tr>\n",
       "      <th>1183</th>\n",
       "      <td>Rupert Grint</td>\n",
       "      <td>Daniel Radcliffe</td>\n",
       "      <td>8</td>\n",
       "    </tr>\n",
       "  </tbody>\n",
       "</table>\n",
       "</div>"
      ],
      "text/plain": [
       "                actor1            actor2  film_count\n",
       "45    Daniel Radcliffe      Rupert Grint           8\n",
       "1161       Emma Watson  Daniel Radcliffe           8\n",
       "1183      Rupert Grint  Daniel Radcliffe           8"
      ]
     },
     "execution_count": 34,
     "metadata": {},
     "output_type": "execute_result"
    }
   ],
   "source": [
    "answers['27'] = '27. Daniel Radcliffe & Rupert Grint' \n",
    "\n",
    "act_dict_actors={} # словарь, в котом для каждого актера из базы данных мы ставим одного актера, с которым он снимался чаще всего\n",
    "act_dict_counts={} # словарь, в котом для каждого актера из базы данных мы ставим количество фильмов, \n",
    "                    # в которых он чаще всего снимался с другим актером\n",
    "\n",
    "actors=list(set(list(pd.core.common.flatten(list(data_great_budget.cast.str.split('|')))))) # формируем множество актеров \n",
    "\n",
    "\n",
    "for actor in actors: # для каждого актера из списка ...\n",
    "    data2=data[data.cast.str.contains(actor)]  # 1. Отбриаем фильмы, где он участвовал\n",
    "    actors2=list(pd.core.common.flatten(list(data2.cast.str.split('|')))) # 2. Из них получаем всех других актеров\n",
    "    act_count={} # словарь, в котором мы будем для каждого актера из пункта 2 считать количество его фильмов \n",
    "    \n",
    "    for act2 in actors2: # 3. для каждого актера из пункта 2 считаем количество фильмов с его участием из множества фильмов,\n",
    "                        # в которых участвовал первый актер\n",
    "        act_count[act2]=data2[data2.cast.str.contains(act2)].imdb_id.count()\n",
    "\n",
    "    act_count.pop(actor) # 4. удаляем из словаря запись с этим актером, т.к. нам не нужно количество фильмов, где он снимался сам с собой\n",
    "    temp=pd.Series(act_count).sort_values(ascending=False) # 5. сортируем получившийся список актеров по убыванию количества фильмов\n",
    "    act_dict_actors[actor]=temp.index[0] # 6. Добавляем в словарь с первым актером актера, с котором он снимался чаще всего.\n",
    "    act_dict_counts[actor]=temp[0] # 7. Добавляем в словарь с первым актером количество фильмов, в которых он снимался со вторым актером\n",
    "\n",
    "\n",
    "df2=pd.DataFrame({'actor2': act_dict_actors,'film_count': act_dict_counts}) # 8. Создаем датафрейм с двумя столбцами\n",
    "df2.reset_index(inplace=True) # 9. делаем индекс датафрейма новым столбцом. хотя можно и без этого, но так мне больше нравится\n",
    "df2.columns=['actor1','actor2','film_count']\n",
    "\n",
    "print('Ниже содержится перечень пар актеров, которые снимались вместе чаще всего')\n",
    "df2.query('film_count==film_count.max()') #10. Выбираем записи, в которых количество фильмов максимальное.\n",
    "\n",
    "\n",
    "# самый быстрый способ приведен ниже, но он слишком простой :-) \n",
    "# создаем список пар актеров из ответов на задание 27\n",
    "# actor_pairs={('Johnny Depp','Helena Bonham Carter'):0,\n",
    "# ('Ben Stiller','Owen Wilson'):0,\n",
    "# ('Vin Diesel','Paul Walker'):0,\n",
    "# ('Adam Sandler','Kevin James'):0,\n",
    "# ('Daniel Radcliffe','Rupert Grint'):0}\n",
    "\n",
    "# actor_pairs_arr=list(actor_pairs.keys())\n",
    "\n",
    "# for i in actor_pairs_arr:\n",
    "#     actor_pairs[i]=data[data.cast.str.contains(i[0]) & data.cast.str.contains(i[1])].imdb_id.count()\n",
    "\n",
    "# data2 = pd.Series(actor_pairs)\n",
    "# print('Чаще всего вместе снимаются актеры',data2.sort_values(ascending=False).index[0])"
   ]
  },
  {
   "cell_type": "markdown",
   "metadata": {
    "colab_type": "text",
    "id": "U0nONFnGVqAX"
   },
   "source": [
    "# Submission"
   ]
  },
  {
   "cell_type": "code",
   "execution_count": 38,
   "metadata": {
    "colab": {},
    "colab_type": "code",
    "id": "IfcaRO9-VqAX",
    "outputId": "0f132912-32bb-4196-c98c-abfbc4ad5a5f"
   },
   "outputs": [
    {
     "data": {
      "text/plain": [
       "{'1': '1. Pirates of the Caribbean: On Stranger Tides (tt1298650) ',\n",
       " '2': '2. Gods and Generals (tt0279111)',\n",
       " '3': '3. Winnie the Pooh (tt1449283)',\n",
       " '4': '4. 110',\n",
       " '5': '5. 107',\n",
       " '6': '6. Avatar (tt0499549)',\n",
       " '7': '7. The Lone Ranger (tt1210819)',\n",
       " '8': '8. 1478',\n",
       " '9': '9. The Dark Knight (tt0468569)',\n",
       " '10': '10. The Lone Ranger (tt1210819) ',\n",
       " '11': '11. Drama',\n",
       " '12': '12. Drama',\n",
       " '13': '13. Peter Jackson',\n",
       " '14': '14. Robert Rodriguez',\n",
       " '15': '15. Chris Hemsworth',\n",
       " '16': '16. Matt Damon',\n",
       " '17': '17. Action',\n",
       " '18': '18. K-19: The Widowmaker (tt0267626) ',\n",
       " '19': '19. 2015',\n",
       " '20': '20. 2014',\n",
       " '21': '21. Сентябрь',\n",
       " '22': '22. 450',\n",
       " '23': '23. Peter Jackson',\n",
       " '24': '24. Four By Two Productions',\n",
       " '25': '25. Midnight Picture Show',\n",
       " '26': '26. Inside Out, The Dark Knight, 12 Years a Slave',\n",
       " '27': '27. Daniel Radcliffe & Rupert Grint'}"
      ]
     },
     "execution_count": 38,
     "metadata": {},
     "output_type": "execute_result"
    }
   ],
   "source": [
    "# в конце можно посмотреть свои ответы к каждому вопросу\n",
    "answers"
   ]
  },
  {
   "cell_type": "code",
   "execution_count": 39,
   "metadata": {
    "colab": {},
    "colab_type": "code",
    "id": "SiRmHPl8VqAd"
   },
   "outputs": [
    {
     "data": {
      "text/plain": [
       "27"
      ]
     },
     "execution_count": 39,
     "metadata": {},
     "output_type": "execute_result"
    }
   ],
   "source": [
    "# и убедиться что ни чего не пропустил)\n",
    "len(answers)"
   ]
  }
 ],
 "metadata": {
  "colab": {
   "name": "Copy of [SF-DST] Movies IMBD v4.1 TEMPLATE.ipynb",
   "provenance": []
  },
  "kernelspec": {
   "display_name": "Python 3",
   "language": "python",
   "name": "python3"
  },
  "language_info": {
   "codemirror_mode": {
    "name": "ipython",
    "version": 3
   },
   "file_extension": ".py",
   "mimetype": "text/x-python",
   "name": "python",
   "nbconvert_exporter": "python",
   "pygments_lexer": "ipython3",
   "version": "3.8.8"
  }
 },
 "nbformat": 4,
 "nbformat_minor": 4
}
